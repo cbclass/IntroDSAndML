{
 "cells": [
  {
   "cell_type": "markdown",
   "id": "9fef56a7-c92a-49e0-a457-e1b3257efc7e",
   "metadata": {},
   "source": [
    "**Final Lab Assignment**\n",
    "\n",
    "Notebook for \"Introduction to Data Science and Machine Learning\"\n",
    "\n",
    "SoSe 2024"
   ]
  },
  {
   "cell_type": "markdown",
   "id": "ecfc6edb-916d-4f11-9ce4-b78fb905ba93",
   "metadata": {},
   "source": [
    "# About the Final Lab Assignment\n",
    "\n",
    "\n",
    "The assignment consists of **two phases**:\n",
    "\n",
    "### 1. Preparation Phase\n",
    "\n",
    "During the preparation phase you compile all relevant code and information to solve a classification task using below steps. To do so please revise the lab assignments of this course and note the collected information in the repective cells below. Please make sure to put this information in the \"raw\" cells and not in executable code cells. Please do not forget to equally collect all required `import` statements.\n",
    "\n",
    "The preparation is considered an integral part of this assignment.\n",
    "\n",
    "\n",
    "### 2. Final Lab Assignment Session\n",
    "\n",
    "You have a regular lab session of 90 minutes. \n",
    "At the beginning of the session you will receive the data to work on. The data file will be made available in the `data` folder. Both lab sections will receive different data sets! The code as well as comments and text **must** be entered in the respecive cells of this notebook. The notebook will be saved at the end of the lab session and uploaded / submitted to moodle. Please do not forget this **submission** as otherwise the assignment will not be considered as being solved! \n",
    "\n",
    "During the assignment session you may look at former notebooks and use the internet. Talking to other students and cooperation as well as the use of phone, email and any other communication means is **not allowed**!\n"
   ]
  },
  {
   "cell_type": "markdown",
   "id": "d826f299-5a3b-47b3-ae64-da7eddad2824",
   "metadata": {},
   "source": [
    "## The Assignment\n",
    "\n",
    "The task includes the following tasks:\n",
    "1. reading a csv file and storing the data into a pandas data frame\n",
    "2. diplaying the information of the data and identifying the class attribute\n",
    "3. diplaying information about the data and statistical information. Determine whether it is a balanced or inbalanced classifcation problem.\n",
    "4. preparing the data using scaling / normalization and one-hot encoding (depending on the data)\n",
    "5. splitting the data set into a trainings and test data set\n",
    "6. training a classifier for the specified problem. You may use any of the following classifiers\n",
    "    - DecisionTreeClassifier()\n",
    "    - SVC()\n",
    "    - MLPClassifier()\n",
    "7. evaluating the classifier by determining and displaying the accurcay and the confusion matrix\n",
    "8. interpreting the results\n",
    "9. proposing possibilties to improve the classifier\n",
    "    "
   ]
  },
  {
   "cell_type": "markdown",
   "id": "691558df-d7dc-4dab-80c4-669a9095db87",
   "metadata": {
    "tags": []
   },
   "source": [
    "# The Assignment\n",
    "\n",
    "## Name and Student Number\n",
    "\n",
    "Please complete this cell with your name and student number:\n",
    "    \n",
    "**Name:** \n",
    "\n",
    "**Student Number:**\n",
    "\n"
   ]
  },
  {
   "cell_type": "markdown",
   "id": "7e474a43-99f3-4e8c-a2bb-52952dd6d475",
   "metadata": {},
   "source": [
    "## The `import` statements"
   ]
  },
  {
   "cell_type": "markdown",
   "id": "fbc5f695-1e8f-4087-bfc6-95643c89d66c",
   "metadata": {},
   "source": [
    "Please import all required modules and classes below:"
   ]
  },
  {
   "cell_type": "code",
   "execution_count": null,
   "id": "7fe748c0-ef2f-44fa-a037-bc54542f99f4",
   "metadata": {},
   "outputs": [],
   "source": [
    "# Your Code (may be filled durcing the preparation phase)"
   ]
  },
  {
   "cell_type": "markdown",
   "id": "58bd84da-ccde-45fd-843b-bbf4aaed8c6a",
   "metadata": {},
   "source": [
    "## Step 1: Loading the data"
   ]
  },
  {
   "cell_type": "raw",
   "id": "f19c532f-a7c4-4b60-bd22-842db4253495",
   "metadata": {},
   "source": [
    "# Task: reading a csv file and storing the data into a pandas data frame\n",
    "# notes from the preparation phase"
   ]
  },
  {
   "cell_type": "code",
   "execution_count": null,
   "id": "4efad7bc-7cbe-4265-8b8e-d1b2431d7067",
   "metadata": {},
   "outputs": [],
   "source": [
    "# Your Code (to be filled during the final assignment)"
   ]
  },
  {
   "cell_type": "markdown",
   "id": "788396e6",
   "metadata": {},
   "source": [
    "## Step 2: First information and class attribute"
   ]
  },
  {
   "cell_type": "raw",
   "id": "b52b395e",
   "metadata": {},
   "source": [
    "# Task: diplaying the information of the data and identifying the class attribute\n",
    "# notes from the preparation phase"
   ]
  },
  {
   "cell_type": "code",
   "execution_count": null,
   "id": "288ccc1a",
   "metadata": {},
   "outputs": [],
   "source": [
    "# Your Code (to be filled during the final assignment)"
   ]
  },
  {
   "cell_type": "markdown",
   "id": "27be0197",
   "metadata": {},
   "source": [
    "## Step 3: Getting to know the data"
   ]
  },
  {
   "cell_type": "raw",
   "id": "ac9b46d2",
   "metadata": {},
   "source": [
    "# Task: diplaying statistical information and determining whether it is a balanced or \n",
    "# inbalanced classification problem\n",
    "# notes from the preparation phase"
   ]
  },
  {
   "cell_type": "code",
   "execution_count": null,
   "id": "4bfc76b3",
   "metadata": {},
   "outputs": [],
   "source": [
    "# Your Code (to be filled during the final assignment)"
   ]
  },
  {
   "cell_type": "markdown",
   "id": "8ec4879e",
   "metadata": {},
   "source": [
    "## Step 4: Data Preparation"
   ]
  },
  {
   "cell_type": "raw",
   "id": "2689b4f8",
   "metadata": {},
   "source": [
    "# Task: preparing the data using scaling / normalization and one-hot encoding\n",
    "# notes from the preparation phase"
   ]
  },
  {
   "cell_type": "code",
   "execution_count": null,
   "id": "6e03698b",
   "metadata": {},
   "outputs": [],
   "source": [
    "# Your Code (to be filled during the final assignment)"
   ]
  },
  {
   "cell_type": "markdown",
   "id": "201d8a8d",
   "metadata": {},
   "source": [
    "## Step 5: Trainings and Test data set"
   ]
  },
  {
   "cell_type": "raw",
   "id": "4335a232",
   "metadata": {},
   "source": [
    "# Task: splitting the data set into a trainings and test data set\n",
    "# notes from the preparation phase"
   ]
  },
  {
   "cell_type": "code",
   "execution_count": null,
   "id": "5b093d95",
   "metadata": {},
   "outputs": [],
   "source": [
    "# Your Code (to be filled during the final assignment)"
   ]
  },
  {
   "cell_type": "markdown",
   "id": "b6f823e3",
   "metadata": {},
   "source": [
    "## Step 6: Training the classifier"
   ]
  },
  {
   "cell_type": "raw",
   "id": "0247e712",
   "metadata": {},
   "source": [
    "# Task: training a classifier using DecisionTreeClassifier(), SVC(), MLPClassifier()\n",
    "# notes from the preparation phase"
   ]
  },
  {
   "cell_type": "code",
   "execution_count": null,
   "id": "47512606",
   "metadata": {},
   "outputs": [],
   "source": [
    "# Your Code (to be filled during the final assignment)"
   ]
  },
  {
   "cell_type": "markdown",
   "id": "5d907456",
   "metadata": {},
   "source": [
    "## Step 7: Evaluation"
   ]
  },
  {
   "cell_type": "raw",
   "id": "5d5d2714",
   "metadata": {},
   "source": [
    "# Task: evaluating the classifier by determining and displaying the accurcay \n",
    "# and the confusion matrix\n",
    "# notes from the preparation phase"
   ]
  },
  {
   "cell_type": "code",
   "execution_count": null,
   "id": "5ad1c28f",
   "metadata": {},
   "outputs": [],
   "source": [
    "# Your Code (to be filled during the final assignment)"
   ]
  },
  {
   "cell_type": "markdown",
   "id": "56ee60d7",
   "metadata": {},
   "source": [
    "## Step 8: Interpretation of results"
   ]
  },
  {
   "cell_type": "raw",
   "id": "34e03282",
   "metadata": {},
   "source": [
    "Please shortly discuss your results and make recommentations for the use of the classifier."
   ]
  },
  {
   "cell_type": "markdown",
   "id": "e867d932-6431-48e3-b85a-18e57873d172",
   "metadata": {},
   "source": [
    "**Your answer**\n",
    "\n"
   ]
  },
  {
   "cell_type": "markdown",
   "id": "d2d2167c-46c1-4d42-8a67-06b7ea651872",
   "metadata": {},
   "source": [
    "## Step 9: Possible Improvements"
   ]
  },
  {
   "cell_type": "markdown",
   "id": "92fadd16-ca44-4777-9374-2ed2e78cee97",
   "metadata": {},
   "source": [
    "Please shortly discuss recommendations how to improve the classifier."
   ]
  },
  {
   "cell_type": "markdown",
   "id": "9f845aa4-9a00-46f4-8777-c938aa329712",
   "metadata": {},
   "source": [
    "**Your answer**"
   ]
  },
  {
   "cell_type": "markdown",
   "id": "c45851e5-1ebd-40c6-871f-149e7e937390",
   "metadata": {
    "deletable": false,
    "editable": false,
    "tags": []
   },
   "source": [
    "<a rel=\"license\" href=\"http://creativecommons.org/licenses/by-nc-nd/4.0/\"><img alt=\"Creative Commons License\" style=\"border-width:0\" src=\"https://i.creativecommons.org/l/by-nc-nd/4.0/88x31.png\" /></a><br />This notebook was created by Christina B. Class for teaching at EAH Jena and is licensed under a <a rel=\"license\" href=\"http://creativecommons.org/licenses/by-nc-nd/4.0/\">Creative Commons Attribution-NonCommercial-NoDerivatives 4.0 International License</a>."
   ]
  }
 ],
 "metadata": {
  "kernelspec": {
   "display_name": "Python 3 (ipykernel)",
   "language": "python",
   "name": "python3"
  },
  "language_info": {
   "codemirror_mode": {
    "name": "ipython",
    "version": 3
   },
   "file_extension": ".py",
   "mimetype": "text/x-python",
   "name": "python",
   "nbconvert_exporter": "python",
   "pygments_lexer": "ipython3",
   "version": "3.10.13"
  }
 },
 "nbformat": 4,
 "nbformat_minor": 5
}
