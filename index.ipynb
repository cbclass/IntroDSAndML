{
 "cells": [
  {
   "cell_type": "markdown",
   "id": "2ec0a289-0443-43e4-8b15-eac1e7ef61ec",
   "metadata": {},
   "source": [
    "# Introduction to Data Science and Machine Learning\n"
   ]
  },
  {
   "cell_type": "markdown",
   "id": "16870359-49a5-419a-ac38-349dd47ea6a4",
   "metadata": {},
   "source": [
    "### JuPy Course: A Python Tutorial developped at EAH Jena\n",
    " \n",
    "[The JuPy Course](JuPyTutorialV2En/00_Introduction.ipynb)\n"
   ]
  },
  {
   "cell_type": "markdown",
   "id": "17fbeade-2fb4-42b0-8c80-dac3c7ca990e",
   "metadata": {},
   "source": [
    "### Material for the Lab Sessions\n",
    "\n",
    "1. [Getting to Know the Data](NotebooksForTheLabSession/01_GettingToKnowTheData.ipynb)\n"
   ]
  },
  {
   "cell_type": "markdown",
   "id": "6a396a3e-d292-4c5b-bd7d-ddc7102b38b8",
   "metadata": {
    "deletable": false,
    "editable": false,
    "tags": []
   },
   "source": [
    " <p xmlns:cc=\"http://creativecommons.org/ns#\" >The work is licensed under <a href=\"http://creativecommons.org/licenses/by-nc-nd/4.0/?ref=chooser-v1\" target=\"_blank\" rel=\"license noopener noreferrer\" style=\"display:inline-block;\">CC BY-NC-ND 4.0<img style=\"height:22px!important;margin-left:3px;vertical-align:text-bottom;\" src=\"https://mirrors.creativecommons.org/presskit/icons/cc.svg?ref=chooser-v1\"><img style=\"height:22px!important;margin-left:3px;vertical-align:text-bottom;\" src=\"https://mirrors.creativecommons.org/presskit/icons/by.svg?ref=chooser-v1\"><img style=\"height:22px!important;margin-left:3px;vertical-align:text-bottom;\" src=\"https://mirrors.creativecommons.org/presskit/icons/nc.svg?ref=chooser-v1\"><img style=\"height:22px!important;margin-left:3px;vertical-align:text-bottom;\" src=\"https://mirrors.creativecommons.org/presskit/icons/nd.svg?ref=chooser-v1\"></a></p> "
   ]
  }
 ],
 "metadata": {
  "kernelspec": {
   "display_name": "Python 3 (ipykernel)",
   "language": "python",
   "name": "python3"
  },
  "language_info": {
   "codemirror_mode": {
    "name": "ipython",
    "version": 3
   },
   "file_extension": ".py",
   "mimetype": "text/x-python",
   "name": "python",
   "nbconvert_exporter": "python",
   "pygments_lexer": "ipython3",
   "version": "3.12.2"
  }
 },
 "nbformat": 4,
 "nbformat_minor": 5
}
