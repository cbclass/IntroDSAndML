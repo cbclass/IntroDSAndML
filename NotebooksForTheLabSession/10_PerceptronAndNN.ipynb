{
 "cells": [
  {
   "cell_type": "markdown",
   "metadata": {
    "editable": true,
    "slideshow": {
     "slide_type": ""
    },
    "tags": []
   },
   "source": [
    "**Section 10: The Perceptron and Neural Networks**\n",
    "\n",
    "Notebook for \"Introduction to Data Science and Machine Learning\"\n",
    "\n",
    "version 1.1, June 23 2024\n"
   ]
  },
  {
   "cell_type": "markdown",
   "metadata": {
    "editable": true,
    "slideshow": {
     "slide_type": ""
    },
    "tags": []
   },
   "source": [
    "## Required `import`-statements"
   ]
  },
  {
   "cell_type": "markdown",
   "metadata": {
    "editable": true,
    "slideshow": {
     "slide_type": ""
    },
    "tags": []
   },
   "source": [
    "The data files path:"
   ]
  },
  {
   "cell_type": "code",
   "execution_count": null,
   "metadata": {},
   "outputs": [],
   "source": [
    "dataFilesPath=\"data/\""
   ]
  },
  {
   "cell_type": "markdown",
   "metadata": {
    "editable": true,
    "slideshow": {
     "slide_type": ""
    },
    "tags": []
   },
   "source": [
    "`import` statements required for this notebook."
   ]
  },
  {
   "cell_type": "code",
   "execution_count": null,
   "metadata": {},
   "outputs": [],
   "source": [
    "import numpy as np\n",
    "import pandas as pd\n",
    "import seaborn as sns\n",
    "import matplotlib.pyplot as plt\n",
    "from sklearn.datasets import load_iris, load_breast_cancer\n",
    "from sklearn.linear_model import Perceptron\n",
    "from sklearn.neural_network import MLPClassifier\n",
    "from sklearn.model_selection import train_test_split, cross_val_score\n",
    "from sklearn.metrics import confusion_matrix, ConfusionMatrixDisplay\n",
    "from sklearn.preprocessing import StandardScaler\n",
    "\n",
    "from sklearn.pipeline import Pipeline\n",
    "from sklearn.model_selection import GridSearchCV"
   ]
  },
  {
   "cell_type": "markdown",
   "metadata": {
    "editable": true,
    "slideshow": {
     "slide_type": ""
    },
    "tags": []
   },
   "source": [
    "With the following code we suppress warning that some seaborn code will be deprecated in the future."
   ]
  },
  {
   "cell_type": "code",
   "execution_count": null,
   "metadata": {
    "tags": []
   },
   "outputs": [],
   "source": [
    "import warnings # To suppress some warnings\n",
    " \n",
    "# Suppress the specific FutureWarning\n",
    "warnings.filterwarnings(\"ignore\", category=FutureWarning, module=\"seaborn\")\n"
   ]
  },
  {
   "cell_type": "markdown",
   "metadata": {
    "editable": true,
    "slideshow": {
     "slide_type": ""
    },
    "tags": []
   },
   "source": [
    "# 1. Introduction "
   ]
  },
  {
   "cell_type": "markdown",
   "metadata": {
    "editable": true,
    "slideshow": {
     "slide_type": ""
    },
    "tags": []
   },
   "source": [
    "In this notebook we will look at **Neural Networks**. We will start by the neuron, the **perceptron**, the simple unit neural networks are composed of. A perceptron can be used to classify **linearly separable** data. We will use it to classify `and`. Then we will try to implement the `xor` operator. This is not possible, as xor is not linearly separable.\n",
    "\n",
    "We will then use a neural network to classify the `xor` operation. The network can be trained with standard parameters, but will become quite complex. Knowing more of the problem details, `xor` can be implemented in a simple network.\n",
    "\n",
    "After this we will look at the Iris and the Breast cancer data set. We will specifically:\n",
    "* see how to split data in \"normal\" and in stratified folds and observe the difference\n",
    "* split the data in trainings and test data\n",
    "* output the confustion matrix and accuracy\n",
    "* use normalization and observe the difference\n",
    "* use a pipeline and cross fold validation\n",
    "* test different network architectures using GridSearchCV\n"
   ]
  },
  {
   "cell_type": "markdown",
   "metadata": {
    "editable": true,
    "slideshow": {
     "slide_type": ""
    },
    "tags": []
   },
   "source": [
    "# 2. The Perceptron"
   ]
  },
  {
   "cell_type": "markdown",
   "metadata": {
    "editable": true,
    "slideshow": {
     "slide_type": ""
    },
    "tags": []
   },
   "source": [
    "## 2.1 and"
   ]
  },
  {
   "cell_type": "markdown",
   "metadata": {
    "editable": true,
    "slideshow": {
     "slide_type": ""
    },
    "tags": []
   },
   "source": [
    "We start by defining a data frame for the `and` operator.\n",
    "\n",
    "| `x` |  `y` |  `x and y` |\n",
    "|---|----|----|\n",
    "|`False`| `False`| `False`|\n",
    "|`False`| `True`| `False`|\n",
    "|`True`| `False`| `False`|\n",
    "|`True`| `True`| `True`|\n",
    "\n",
    "\n",
    "As the perceptron works with numerical input and output we replace `False`  by 0 and `True` by 1."
   ]
  },
  {
   "cell_type": "code",
   "execution_count": null,
   "metadata": {},
   "outputs": [],
   "source": [
    "andData=np.array([[0,0,0],[0,1,0],[1,0,0],[1,1,1]])\n",
    "andFrame=pd.DataFrame(andData,columns=['x','y','and'])"
   ]
  },
  {
   "cell_type": "markdown",
   "metadata": {
    "editable": true,
    "slideshow": {
     "slide_type": ""
    },
    "tags": []
   },
   "source": [
    "And we plot it. To better see the points, we enlarge the displayed axis segments:"
   ]
  },
  {
   "cell_type": "code",
   "execution_count": null,
   "metadata": {},
   "outputs": [],
   "source": [
    "cols=andFrame.columns\n",
    "plt.Figure()\n",
    "sns.scatterplot(data=andFrame, x=cols[0], y=cols[1],hue=cols[2])\n",
    "plt.xlim((-.5,1.5))\n",
    "plt.ylim((-.5,1.5))\n",
    "plt.title('and')"
   ]
  },
  {
   "cell_type": "markdown",
   "metadata": {
    "editable": true,
    "slideshow": {
     "slide_type": ""
    },
    "tags": []
   },
   "source": [
    "Now we create the $X$ matrix (the features / samples) and the $y$ array with the labels:"
   ]
  },
  {
   "cell_type": "code",
   "execution_count": null,
   "metadata": {},
   "outputs": [],
   "source": [
    "X=andFrame.copy()\n",
    "y=X.pop('and')"
   ]
  },
  {
   "cell_type": "markdown",
   "metadata": {
    "editable": true,
    "slideshow": {
     "slide_type": ""
    },
    "tags": []
   },
   "source": [
    "We create an instance of the Perceptron and learn the classifier:"
   ]
  },
  {
   "cell_type": "code",
   "execution_count": null,
   "metadata": {
    "editable": true,
    "slideshow": {
     "slide_type": ""
    },
    "tags": []
   },
   "outputs": [],
   "source": [
    "perc=Perceptron(random_state=10)\n",
    "perc.fit(X,y)\n",
    "print(\"Weights:\",perc.coef_)\n",
    "print(\"Intercept:\",perc.intercept_)\n",
    "print(\"unique class labels:\",perc.classes_)\n",
    "\n",
    "ypred=perc.predict(X)\n",
    "print(ypred)\n",
    "print('Accuracy:',perc.score(X,y))"
   ]
  },
  {
   "cell_type": "markdown",
   "metadata": {
    "editable": true,
    "slideshow": {
     "slide_type": ""
    },
    "tags": []
   },
   "source": [
    "As the function is linearly separable, the result is correct and learned quite fast:"
   ]
  },
  {
   "cell_type": "markdown",
   "metadata": {
    "editable": true,
    "slideshow": {
     "slide_type": ""
    },
    "tags": []
   },
   "source": [
    "## 2.2 XOR"
   ]
  },
  {
   "cell_type": "markdown",
   "metadata": {
    "editable": true,
    "slideshow": {
     "slide_type": ""
    },
    "tags": []
   },
   "source": [
    "Now we generate an `xor` data frame.\n",
    "\n",
    "| `x` |  `y` |  `x xor y` |\n",
    "|---|----|----|\n",
    "|`False`| `False`| `False`|\n",
    "|`False`| `True`| `True`|\n",
    "|`True`| `False`| `True`|\n",
    "|`True`| `True`| `False`|"
   ]
  },
  {
   "cell_type": "code",
   "execution_count": null,
   "metadata": {
    "editable": true,
    "slideshow": {
     "slide_type": ""
    },
    "tags": []
   },
   "outputs": [],
   "source": [
    "xorData=np.array([[0,0,0],[0,1,1],[1,0,1],[1,1,0]])\n",
    "xorFrame=pd.DataFrame(xorData,columns=['x','y','xor'])"
   ]
  },
  {
   "cell_type": "markdown",
   "metadata": {
    "editable": true,
    "slideshow": {
     "slide_type": ""
    },
    "tags": []
   },
   "source": [
    "And plot it as before"
   ]
  },
  {
   "cell_type": "code",
   "execution_count": null,
   "metadata": {
    "editable": true,
    "scrolled": true,
    "slideshow": {
     "slide_type": ""
    },
    "tags": []
   },
   "outputs": [],
   "source": [
    "cols=xorFrame.columns\n",
    "plt.Figure()\n",
    "sns.scatterplot(data=xorFrame, x=cols[0], y=cols[1],hue=cols[2])\n",
    "plt.xlim((-.5,1.5))\n",
    "plt.ylim((-.5,1.5))\n",
    "plt.title('xor')"
   ]
  },
  {
   "cell_type": "markdown",
   "metadata": {
    "editable": true,
    "slideshow": {
     "slide_type": ""
    },
    "tags": []
   },
   "source": [
    "We can easily see that the data is not linearly separable. We try to learn the function by training the perceptron:"
   ]
  },
  {
   "cell_type": "code",
   "execution_count": null,
   "metadata": {},
   "outputs": [],
   "source": [
    "X=xorFrame.copy()\n",
    "y=X.pop('xor')\n",
    "\n",
    "perc=Perceptron(random_state=10)\n",
    "perc.fit(X,y)\n",
    "print(\"Weights:\",perc.coef_)\n",
    "print(\"Intercept:\",perc.intercept_)\n",
    "print(\"unique class labels:\",perc.classes_)\n",
    "\n",
    "ypred=perc.predict(X)\n",
    "print(ypred)\n",
    "print('Accuracy:',perc.score(X,y))"
   ]
  },
  {
   "cell_type": "markdown",
   "metadata": {
    "editable": true,
    "slideshow": {
     "slide_type": ""
    },
    "tags": []
   },
   "source": [
    "The function was not learned. In fact, `xor` cannot be learned by a simple perceptron as this function is not linearly separable. "
   ]
  },
  {
   "cell_type": "markdown",
   "metadata": {
    "editable": true,
    "slideshow": {
     "slide_type": ""
    },
    "tags": []
   },
   "source": [
    "# 3. A Neural Network for `xor`"
   ]
  },
  {
   "cell_type": "markdown",
   "metadata": {
    "editable": true,
    "slideshow": {
     "slide_type": ""
    },
    "tags": []
   },
   "source": [
    "We now use a neural network to learn a classifier for `xor`. "
   ]
  },
  {
   "cell_type": "markdown",
   "metadata": {
    "editable": true,
    "slideshow": {
     "slide_type": ""
    },
    "tags": []
   },
   "source": [
    "We instantiate a classifier and use it with standard parameter values. `MLPClassifier` stands for \"Multi-layer Perceptron classifier\"."
   ]
  },
  {
   "cell_type": "code",
   "execution_count": null,
   "metadata": {},
   "outputs": [],
   "source": [
    "nn=MLPClassifier(random_state=10)\n",
    "nn.fit(X,y)\n",
    "print(\"number of iterations:\",nn.n_iter_)\n",
    "print(\"number of weight updates:\",nn.t_)\n",
    "\n",
    "ypred=nn.predict(X)\n",
    "print(ypred)"
   ]
  },
  {
   "cell_type": "markdown",
   "metadata": {
    "editable": true,
    "slideshow": {
     "slide_type": ""
    },
    "tags": []
   },
   "source": [
    "There is a warning, that convergion has not yet been reached. The standard number of iterations is 200. We can add more iterations for the training. "
   ]
  },
  {
   "cell_type": "code",
   "execution_count": null,
   "metadata": {},
   "outputs": [],
   "source": [
    "nn=MLPClassifier(max_iter=300,random_state=10)\n",
    "nn.fit(X,y)\n",
    "print(\"number of iterations:\",nn.n_iter_)\n",
    "print(\"number of weight updates:\",nn.t_)\n",
    "\n",
    "ypred=nn.predict(X)\n",
    "print(ypred)"
   ]
  },
  {
   "cell_type": "markdown",
   "metadata": {
    "editable": true,
    "slideshow": {
     "slide_type": ""
    },
    "tags": []
   },
   "source": [
    "Test  different values for `max_iter` and try to get rid of the warning."
   ]
  },
  {
   "cell_type": "code",
   "execution_count": null,
   "metadata": {
    "tags": []
   },
   "outputs": [],
   "source": [
    "# Your Code"
   ]
  },
  {
   "cell_type": "markdown",
   "metadata": {
    "editable": true,
    "slideshow": {
     "slide_type": ""
    },
    "tags": []
   },
   "source": [
    "The trained network has the standard architecture which consists of one hidden layer with 100 nodes. "
   ]
  },
  {
   "cell_type": "code",
   "execution_count": null,
   "metadata": {},
   "outputs": [],
   "source": [
    "print(nn.hidden_layer_sizes)"
   ]
  },
  {
   "cell_type": "markdown",
   "metadata": {
    "editable": true,
    "slideshow": {
     "slide_type": ""
    },
    "tags": []
   },
   "source": [
    "A neural network for `xor` can be built with one hidden layer with 2 nodes only, i.e. a much smaller network.\n",
    "\n",
    "Let's test this:"
   ]
  },
  {
   "cell_type": "code",
   "execution_count": null,
   "metadata": {},
   "outputs": [],
   "source": [
    "nn=MLPClassifier(hidden_layer_sizes=(2,),random_state=10)\n",
    "nn.fit(X,y)\n",
    "print(\"number of iterations:\",nn.n_iter_)\n",
    "print(\"number of weight updates:\",nn.t_)\n",
    "\n",
    "ypred=nn.predict(X)\n",
    "print(ypred)\n"
   ]
  },
  {
   "cell_type": "markdown",
   "metadata": {
    "editable": true,
    "slideshow": {
     "slide_type": ""
    },
    "tags": []
   },
   "source": [
    "`xor` was not corretly learned. The weights are not yet stable.\n",
    "\n",
    "Let's try some more iterations:"
   ]
  },
  {
   "cell_type": "code",
   "execution_count": null,
   "metadata": {},
   "outputs": [],
   "source": [
    "nn=MLPClassifier(hidden_layer_sizes=(2,),random_state=10,max_iter=1000)\n",
    "nn.fit(X,y)\n",
    "print(\"number of iterations:\",nn.n_iter_)\n",
    "print(\"number of weight updates:\",nn.t_)\n",
    "\n",
    "ypred=nn.predict(X)\n",
    "print(ypred)"
   ]
  },
  {
   "cell_type": "markdown",
   "metadata": {
    "editable": true,
    "slideshow": {
     "slide_type": ""
    },
    "tags": []
   },
   "source": [
    "And again its not stable, so let's try more."
   ]
  },
  {
   "cell_type": "code",
   "execution_count": null,
   "metadata": {},
   "outputs": [],
   "source": [
    "nn=MLPClassifier(hidden_layer_sizes=(2,),random_state=10,max_iter=4000)\n",
    "nn.fit(X,y)\n",
    "print(\"number of iterations:\",nn.n_iter_)\n",
    "print(\"number of weight updates:\",nn.t_)\n",
    "\n",
    "ypred=nn.predict(X)\n",
    "print(ypred)"
   ]
  },
  {
   "cell_type": "markdown",
   "metadata": {
    "editable": true,
    "slideshow": {
     "slide_type": ""
    },
    "tags": []
   },
   "source": [
    "The training was finished but `xor` was not learned correctly. \n",
    "\n",
    "We know that `xor` can be classified using a neural network with the given architecture. So let's modify other parameters: \n",
    "- the activation function as well as the \n",
    "- solver algorithm."
   ]
  },
  {
   "cell_type": "code",
   "execution_count": null,
   "metadata": {},
   "outputs": [],
   "source": [
    "nn=MLPClassifier(hidden_layer_sizes=(2,),random_state=10,activation='tanh',solver='lbfgs')\n",
    "nn.fit(X,y)\n",
    "print(\"number of iterations:\",nn.n_iter_)\n",
    "print(\"number of weight updates:\",nn.t_)\n",
    "print(\"coefficients:\",nn.coefs_)\n",
    "print(\"intercepts:\",nn.intercepts_)\n",
    "ypred=nn.predict(X)\n",
    "print(ypred)\n",
    "print('Accuracy:',nn.score(X,y))"
   ]
  },
  {
   "cell_type": "markdown",
   "metadata": {
    "editable": true,
    "slideshow": {
     "slide_type": ""
    },
    "tags": []
   },
   "source": [
    "The network was correctly trained in 40 iterations. "
   ]
  },
  {
   "cell_type": "markdown",
   "metadata": {
    "editable": true,
    "slideshow": {
     "slide_type": ""
    },
    "tags": []
   },
   "source": [
    "**Exercise:** Please sketch a network with two nodes on the input layer, one hidden layer with two nodes and one node on the output layer **on a sheet of paper**.\n",
    "Assign the weights and intercepts to the sketch and test it by classiying the input `(1,0)` and `(1,1)` "
   ]
  },
  {
   "cell_type": "markdown",
   "metadata": {
    "editable": true,
    "slideshow": {
     "slide_type": ""
    },
    "tags": []
   },
   "source": [
    "# 4. The Iris Dataset"
   ]
  },
  {
   "cell_type": "markdown",
   "metadata": {
    "editable": true,
    "slideshow": {
     "slide_type": ""
    },
    "tags": []
   },
   "source": [
    "## 4.1 A Neural Network"
   ]
  },
  {
   "cell_type": "markdown",
   "metadata": {
    "editable": true,
    "slideshow": {
     "slide_type": ""
    },
    "tags": []
   },
   "source": [
    "Now we train a neural network for the iris flower data set."
   ]
  },
  {
   "cell_type": "markdown",
   "metadata": {
    "editable": true,
    "slideshow": {
     "slide_type": ""
    },
    "tags": []
   },
   "source": [
    "First we load the data:"
   ]
  },
  {
   "cell_type": "code",
   "execution_count": null,
   "metadata": {},
   "outputs": [],
   "source": [
    "irisDS=load_iris()"
   ]
  },
  {
   "cell_type": "markdown",
   "metadata": {
    "editable": true,
    "slideshow": {
     "slide_type": ""
    },
    "tags": []
   },
   "source": [
    "In order to create a nice scatter plot using `pairplot()` from the `seaborn` module, the data must be available in form of a pandas data frame. Therefore we create a data frame from the iris data set:"
   ]
  },
  {
   "cell_type": "code",
   "execution_count": null,
   "metadata": {},
   "outputs": [],
   "source": [
    "irisDF=pd.DataFrame(data=irisDS.data,columns=irisDS.feature_names)\n",
    "irisDF[\"class\"]=irisDS.target"
   ]
  },
  {
   "cell_type": "markdown",
   "metadata": {
    "editable": true,
    "slideshow": {
     "slide_type": ""
    },
    "tags": []
   },
   "source": [
    "And create and save the scatter plot:"
   ]
  },
  {
   "cell_type": "code",
   "execution_count": null,
   "metadata": {},
   "outputs": [],
   "source": [
    "sns.pairplot(irisDF,hue='class')\n",
    "plt.savefig('irisScatter.png',dpi=600)\n"
   ]
  },
  {
   "cell_type": "markdown",
   "metadata": {
    "editable": true,
    "slideshow": {
     "slide_type": ""
    },
    "tags": []
   },
   "source": [
    "Now let's train the network with standard parameters:"
   ]
  },
  {
   "cell_type": "code",
   "execution_count": null,
   "metadata": {},
   "outputs": [],
   "source": [
    "X=irisDS.data\n",
    "y=irisDS.target\n",
    "\n",
    "nn=MLPClassifier(random_state=10)\n",
    "nn.fit(X,y)\n",
    "print(\"number of iterations:\",nn.n_iter_)\n",
    "print(\"number of weight updates:\",nn.t_)"
   ]
  },
  {
   "cell_type": "markdown",
   "metadata": {
    "editable": true,
    "slideshow": {
     "slide_type": ""
    },
    "tags": []
   },
   "source": [
    "The network did not reach a stable state, so we increase the number of iterations:"
   ]
  },
  {
   "cell_type": "code",
   "execution_count": null,
   "metadata": {},
   "outputs": [],
   "source": [
    "nn=MLPClassifier(random_state=10,max_iter=1000)\n",
    "nn.fit(X,y)\n",
    "print(\"number of iterations:\",nn.n_iter_)\n",
    "print(\"number of weight updates:\",nn.t_)"
   ]
  },
  {
   "cell_type": "markdown",
   "metadata": {
    "editable": true,
    "slideshow": {
     "slide_type": ""
    },
    "tags": []
   },
   "source": [
    "And let's take a look at the accuracy:"
   ]
  },
  {
   "cell_type": "code",
   "execution_count": null,
   "metadata": {},
   "outputs": [],
   "source": [
    "print('accuracy:',nn.score(X,y))"
   ]
  },
  {
   "cell_type": "markdown",
   "metadata": {
    "editable": true,
    "slideshow": {
     "slide_type": ""
    },
    "tags": []
   },
   "source": [
    "We calculated the accuracy value for the trainings data. This is of course not the best idea, as we aim to learn the classification of formerly unknown data.  "
   ]
  },
  {
   "cell_type": "markdown",
   "metadata": {
    "editable": true,
    "slideshow": {
     "slide_type": ""
    },
    "tags": []
   },
   "source": [
    "## 4.2 Splitting trainings and test data\n",
    "\n",
    "Therefore, we split trainings and test data: "
   ]
  },
  {
   "cell_type": "code",
   "execution_count": null,
   "metadata": {},
   "outputs": [],
   "source": [
    "X_train, X_test, y_train, y_test = train_test_split(X, y, test_size=0.33, random_state=10)"
   ]
  },
  {
   "cell_type": "markdown",
   "metadata": {
    "editable": true,
    "slideshow": {
     "slide_type": ""
    },
    "tags": []
   },
   "source": [
    "And repeat the training and look at the output:"
   ]
  },
  {
   "cell_type": "code",
   "execution_count": null,
   "metadata": {},
   "outputs": [],
   "source": [
    "nn=MLPClassifier(random_state=10,max_iter=1000)\n",
    "nn.fit(X_train,y_train)\n",
    "print(\"number of iterations:\",nn.n_iter_)\n",
    "print(\"number of weight updates:\",nn.t_)\n",
    "print('accuracy:',nn.score(X_test,y_test))"
   ]
  },
  {
   "cell_type": "markdown",
   "metadata": {
    "editable": true,
    "slideshow": {
     "slide_type": ""
    },
    "tags": []
   },
   "source": [
    "As discussed in the lecture it might be important to \"stratify\" the sets, i.e. to make sure that the class disctribution of classes in the trainigs and test sets correspond to the class distribution of the original data set.\n",
    "\n",
    "We create stratified sets by using the additional parameter `stratify`. "
   ]
  },
  {
   "cell_type": "code",
   "execution_count": null,
   "metadata": {},
   "outputs": [],
   "source": [
    "X_train, X_test, y_train, y_test = train_test_split(X, y, test_size=0.33, random_state=10,stratify=y)\n",
    "nn.fit(X_train,y_train)\n",
    "print(\"number of iterations:\",nn.n_iter_)\n",
    "print(\"number of weight updates:\",nn.t_)\n",
    "print('accuracy:',nn.score(X_test,y_test))"
   ]
  },
  {
   "cell_type": "markdown",
   "metadata": {
    "editable": true,
    "slideshow": {
     "slide_type": ""
    },
    "tags": []
   },
   "source": [
    "Depending on the seed for the random number, this might lead to different results. Please note that the splitting is randomized, Therefore, the results might be better or worse."
   ]
  },
  {
   "cell_type": "markdown",
   "metadata": {
    "editable": true,
    "slideshow": {
     "slide_type": ""
    },
    "tags": []
   },
   "source": [
    "Next to the accuracy we can calculate and print the confusion matrix:"
   ]
  },
  {
   "cell_type": "code",
   "execution_count": null,
   "metadata": {},
   "outputs": [],
   "source": [
    "ypred=nn.predict(X_test)\n",
    "cm=confusion_matrix(y_test,ypred)\n",
    "print(cm)"
   ]
  },
  {
   "cell_type": "markdown",
   "metadata": {
    "editable": true,
    "slideshow": {
     "slide_type": ""
    },
    "tags": []
   },
   "source": [
    "And equally create a colorful display:"
   ]
  },
  {
   "cell_type": "code",
   "execution_count": null,
   "metadata": {},
   "outputs": [],
   "source": [
    "disp = ConfusionMatrixDisplay(confusion_matrix=cm,\n",
    "                              display_labels=irisDS.target_names)\n",
    "disp.plot()"
   ]
  },
  {
   "cell_type": "markdown",
   "metadata": {
    "editable": true,
    "slideshow": {
     "slide_type": ""
    },
    "tags": []
   },
   "source": [
    "# 5. The Breast Cancer Data Set"
   ]
  },
  {
   "cell_type": "markdown",
   "metadata": {
    "editable": true,
    "slideshow": {
     "slide_type": ""
    },
    "tags": []
   },
   "source": [
    "## 5.1 Training a Neural Network"
   ]
  },
  {
   "cell_type": "markdown",
   "metadata": {
    "editable": true,
    "slideshow": {
     "slide_type": ""
    },
    "tags": []
   },
   "source": [
    "We load the data set:"
   ]
  },
  {
   "cell_type": "code",
   "execution_count": null,
   "metadata": {},
   "outputs": [],
   "source": [
    "ds=load_breast_cancer()\n",
    "X=ds.data\n",
    "y=ds.target"
   ]
  },
  {
   "cell_type": "markdown",
   "metadata": {
    "editable": true,
    "slideshow": {
     "slide_type": ""
    },
    "tags": []
   },
   "source": [
    "The data set has a class attribute with two values, benign and malign."
   ]
  },
  {
   "cell_type": "markdown",
   "metadata": {
    "editable": true,
    "slideshow": {
     "slide_type": ""
    },
    "tags": []
   },
   "source": [
    "We split the data in stratified trainings and test data, create a neural network with standard parameters, train it and output the result:"
   ]
  },
  {
   "cell_type": "code",
   "execution_count": null,
   "metadata": {},
   "outputs": [],
   "source": [
    "X_train, X_test, y_train, y_test = train_test_split(X, y, test_size=0.33, random_state=10)\n",
    "\n",
    "nn=MLPClassifier(random_state=10)\n",
    "nn.fit(X_train,y_train)\n",
    "\n",
    "ypred=nn.predict(X_test)\n",
    "print('accuracy:',nn.score(X_test,y_test)) \n",
    "cm=confusion_matrix(y_test,ypred)\n",
    "print(cm)"
   ]
  },
  {
   "cell_type": "markdown",
   "metadata": {
    "editable": true,
    "slideshow": {
     "slide_type": ""
    },
    "tags": []
   },
   "source": [
    "Now we repeat the process using stratified trainings and test sets:"
   ]
  },
  {
   "cell_type": "code",
   "execution_count": null,
   "metadata": {
    "scrolled": true
   },
   "outputs": [],
   "source": [
    "X_train, X_test, y_train, y_test = train_test_split(X, y, test_size=0.33, random_state=10,stratify=y)\n",
    "\n",
    "nn=MLPClassifier(random_state=10)\n",
    "nn.fit(X_train,y_train)\n",
    "\n",
    "ypred=nn.predict(X_test)\n",
    "print('accuracy:',nn.score(X_test,y_test)) \n",
    "cm=confusion_matrix(y_test,ypred)\n",
    "print(cm)"
   ]
  },
  {
   "cell_type": "markdown",
   "metadata": {
    "editable": true,
    "slideshow": {
     "slide_type": ""
    },
    "tags": []
   },
   "source": [
    "Here the model did not yet converge, we increase the number of iterations: "
   ]
  },
  {
   "cell_type": "code",
   "execution_count": null,
   "metadata": {},
   "outputs": [],
   "source": [
    "nn=MLPClassifier(random_state=10,max_iter=500)\n",
    "nn.fit(X_train,y_train)\n",
    "\n",
    "ypred=nn.predict(X_test)\n",
    "print('accuracy:',nn.score(X_test,y_test)) \n",
    "cm=confusion_matrix(y_test,ypred)\n",
    "print(cm)"
   ]
  },
  {
   "cell_type": "markdown",
   "metadata": {
    "editable": true,
    "slideshow": {
     "slide_type": ""
    },
    "tags": []
   },
   "source": [
    "We see that the accuracy was improved. \n",
    "\n",
    "Remember: The accuracy depends on the splits as trainings and test data are split randomly! In the next example we simply modified the split. The accuracy is changed."
   ]
  },
  {
   "cell_type": "code",
   "execution_count": null,
   "metadata": {},
   "outputs": [],
   "source": [
    "X_train2, X_test2, y_train2, y_test2 = train_test_split(X, y, test_size=0.33, random_state=12, stratify=y)\n",
    "nn=MLPClassifier(random_state=10,max_iter=1000)\n",
    "nn.fit(X_train2,y_train2)\n",
    "\n",
    "ypred2=nn.predict(X_test2)\n",
    "print('accuracy:',nn.score(X_test2,y_test2)) \n",
    "cm=confusion_matrix(y_test2,ypred2)\n",
    "print(cm)"
   ]
  },
  {
   "cell_type": "markdown",
   "metadata": {
    "editable": true,
    "slideshow": {
     "slide_type": ""
    },
    "tags": []
   },
   "source": [
    "Now we will display min and max values of all the features using a loop in tabular form:"
   ]
  },
  {
   "cell_type": "code",
   "execution_count": null,
   "metadata": {},
   "outputs": [],
   "source": [
    "for i in range(X.shape[1]):\n",
    "    print('{:25}: minimum: {:8.3f} maximum: {:9.3f}'.format(ds.feature_names[i],X[:,i].min(),X[:,i].max()))"
   ]
  },
  {
   "cell_type": "markdown",
   "metadata": {
    "editable": true,
    "slideshow": {
     "slide_type": ""
    },
    "tags": []
   },
   "source": [
    "We observe that the dimensions of the range of the features is quite different. "
   ]
  },
  {
   "cell_type": "markdown",
   "metadata": {
    "editable": true,
    "slideshow": {
     "slide_type": ""
    },
    "tags": []
   },
   "source": [
    "## 5.2 Scaling the data\n",
    "\n",
    "As neural networks are sensitive to these differences, we **scale** the data using a z-score normalization:"
   ]
  },
  {
   "cell_type": "code",
   "execution_count": null,
   "metadata": {},
   "outputs": [],
   "source": [
    "X_train, X_test, y_train, y_test = train_test_split(X, y, test_size=0.33, random_state=10,stratify=y)\n",
    "\n",
    "theScaler=StandardScaler()\n",
    "theScaler.fit(X_train)\n",
    "X_trainScaled=theScaler.transform(X_train)\n"
   ]
  },
  {
   "cell_type": "markdown",
   "metadata": {
    "editable": true,
    "slideshow": {
     "slide_type": ""
    },
    "tags": []
   },
   "source": [
    "Wer will use the same scaler on the test data:"
   ]
  },
  {
   "cell_type": "code",
   "execution_count": null,
   "metadata": {},
   "outputs": [],
   "source": [
    "X_testScaled=theScaler.transform(X_test)"
   ]
  },
  {
   "cell_type": "markdown",
   "metadata": {
    "editable": true,
    "slideshow": {
     "slide_type": ""
    },
    "tags": []
   },
   "source": [
    "Train the neural network with the trainings data, test it with the test data and output the result (accuracy and confusion matrix)."
   ]
  },
  {
   "cell_type": "code",
   "execution_count": null,
   "metadata": {},
   "outputs": [],
   "source": [
    "# Your code"
   ]
  },
  {
   "cell_type": "markdown",
   "metadata": {
    "editable": true,
    "slideshow": {
     "slide_type": ""
    },
    "tags": []
   },
   "source": [
    "And we see that the accuracy has improved."
   ]
  },
  {
   "cell_type": "markdown",
   "metadata": {
    "editable": true,
    "slideshow": {
     "slide_type": ""
    },
    "tags": []
   },
   "source": [
    "## 5.3 Cross Validation"
   ]
  },
  {
   "cell_type": "markdown",
   "metadata": {
    "editable": true,
    "slideshow": {
     "slide_type": ""
    },
    "tags": []
   },
   "source": [
    "But we can still not make any valid conclusion about the accuracy, as we base on one split only. \n",
    "\n",
    "Please us a pipeline and cross validation and determine the results. Use the complete data set for this task.\n",
    "\n",
    "So we use a pipeline and cross validation and compare the results for the scaled and non scaled data. "
   ]
  },
  {
   "cell_type": "code",
   "execution_count": null,
   "metadata": {},
   "outputs": [],
   "source": []
  },
  {
   "cell_type": "markdown",
   "metadata": {
    "editable": true,
    "slideshow": {
     "slide_type": ""
    },
    "tags": []
   },
   "source": [
    "## 5.4 Hyper Parameter Training: The Networt Architecture"
   ]
  },
  {
   "cell_type": "markdown",
   "metadata": {
    "editable": true,
    "slideshow": {
     "slide_type": ""
    },
    "tags": []
   },
   "source": [
    "Use `GridSearchCV` to test the following network architectures: `[(100,),(50,),(20,),(50,20),(50,20,5)]`\n",
    "and display the results.\n",
    "\n"
   ]
  },
  {
   "cell_type": "code",
   "execution_count": null,
   "metadata": {},
   "outputs": [],
   "source": [
    "# Your Code"
   ]
  },
  {
   "cell_type": "markdown",
   "metadata": {
    "editable": true,
    "slideshow": {
     "slide_type": ""
    },
    "tags": []
   },
   "source": [
    "Which has the best results? Is the difference significant? What architecture would you choose?"
   ]
  },
  {
   "cell_type": "markdown",
   "metadata": {
    "editable": true,
    "slideshow": {
     "slide_type": ""
    },
    "tags": []
   },
   "source": [
    "**Your answer:**"
   ]
  },
  {
   "cell_type": "markdown",
   "metadata": {
    "editable": true,
    "slideshow": {
     "slide_type": ""
    },
    "tags": []
   },
   "source": [
    "# 6. Exercise\n",
    "\n",
    "Load the penguiun data set and create a classifier for the `species` attribute."
   ]
  },
  {
   "cell_type": "code",
   "execution_count": null,
   "metadata": {},
   "outputs": [],
   "source": [
    "import seaborn as sns\n",
    "\n",
    "penguins=sns.load_dataset('penguins')\n"
   ]
  },
  {
   "cell_type": "markdown",
   "metadata": {
    "editable": true,
    "slideshow": {
     "slide_type": ""
    },
    "tags": []
   },
   "source": [
    "\n",
    "*End of the Notebook*"
   ]
  },
  {
   "cell_type": "markdown",
   "metadata": {
    "deletable": false,
    "editable": false,
    "slideshow": {
     "slide_type": ""
    },
    "tags": []
   },
   "source": [
    "<a rel=\"license\" href=\"http://creativecommons.org/licenses/by-nc-nd/4.0/\"><img alt=\"Creative Commons License\" style=\"border-width:0\" src=\"https://i.creativecommons.org/l/by-nc-nd/4.0/88x31.png\" /></a><br />This notebook was created by Christina B. Class for teaching at EAH Jena and is licensed under a <a rel=\"license\" href=\"http://creativecommons.org/licenses/by-nc-nd/4.0/\">Creative Commons Attribution-NonCommercial-NoDerivatives 4.0 International License</a>.\n"
   ]
  }
 ],
 "metadata": {
  "kernelspec": {
   "display_name": "Python 3 (ipykernel)",
   "language": "python",
   "name": "python3"
  },
  "language_info": {
   "codemirror_mode": {
    "name": "ipython",
    "version": 3
   },
   "file_extension": ".py",
   "mimetype": "text/x-python",
   "name": "python",
   "nbconvert_exporter": "python",
   "pygments_lexer": "ipython3",
   "version": "3.12.2"
  }
 },
 "nbformat": 4,
 "nbformat_minor": 4
}
