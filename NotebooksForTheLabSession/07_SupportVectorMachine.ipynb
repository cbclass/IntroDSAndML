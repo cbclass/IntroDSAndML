{
 "cells": [
  {
   "cell_type": "markdown",
   "metadata": {},
   "source": [
    "**Section 7: Support Vector Machines**\n",
    "\n",
    "Notebook for \"Introduction to Data Science and Machine Learning\"\n",
    "\n",
    "version 1.0, June 14 2024\n"
   ]
  },
  {
   "cell_type": "markdown",
   "metadata": {},
   "source": [
    "# 1. Preparations"
   ]
  },
  {
   "cell_type": "markdown",
   "metadata": {},
   "source": [
    "You find several `.csv` files  on moodle. Please download them and save them in the `data` subfolder."
   ]
  },
  {
   "cell_type": "markdown",
   "metadata": {},
   "source": [
    "In order to use the relevant packages we need the following import statements: "
   ]
  },
  {
   "cell_type": "code",
   "execution_count": null,
   "metadata": {},
   "outputs": [],
   "source": [
    "import numpy as np\n",
    "import matplotlib.pyplot as plt\n",
    "\n",
    "import pandas as pd\n",
    "import seaborn as sns\n",
    "\n",
    "from sklearn.svm import SVC\n",
    "\n",
    "from sklearn.inspection import DecisionBoundaryDisplay\n",
    "from sklearn.model_selection import train_test_split\n",
    "from sklearn.metrics import confusion_matrix, ConfusionMatrixDisplay"
   ]
  },
  {
   "cell_type": "code",
   "execution_count": null,
   "metadata": {
    "tags": []
   },
   "outputs": [],
   "source": [
    "import modules.SVCPlots as sp"
   ]
  },
  {
   "cell_type": "code",
   "execution_count": null,
   "metadata": {
    "tags": []
   },
   "outputs": [],
   "source": [
    "help(sp.plotSimpleScatter)"
   ]
  },
  {
   "cell_type": "code",
   "execution_count": null,
   "metadata": {
    "tags": []
   },
   "outputs": [],
   "source": [
    "help(sp.plotScatterWithLinearHyperplane)"
   ]
  },
  {
   "cell_type": "markdown",
   "metadata": {},
   "source": [
    "# 2. Example 1: Linearly Separable Data"
   ]
  },
  {
   "cell_type": "markdown",
   "metadata": {},
   "source": [
    "At first we take a look at the data in `data10.csv`. We load the data frame using a function of `pandas`: "
   ]
  },
  {
   "cell_type": "code",
   "execution_count": null,
   "metadata": {},
   "outputs": [],
   "source": [
    "df=pd.read_csv('data/data10.csv')"
   ]
  },
  {
   "cell_type": "markdown",
   "metadata": {},
   "source": [
    "**Info:** The data was created using the function `make_classification()` in the `sklearn.datasets` module."
   ]
  },
  {
   "cell_type": "markdown",
   "metadata": {},
   "source": [
    "Let's look at the data:"
   ]
  },
  {
   "cell_type": "code",
   "execution_count": null,
   "metadata": {},
   "outputs": [],
   "source": [
    "print(df.head())\n",
    "print(df.info())"
   ]
  },
  {
   "cell_type": "markdown",
   "metadata": {},
   "source": [
    "We call the function `plotSimpleScatter()` to create and store a simple scatter plot."
   ]
  },
  {
   "cell_type": "code",
   "execution_count": null,
   "metadata": {},
   "outputs": [],
   "source": [
    "sp.plotSimpleScatter(df,'data10')"
   ]
  },
  {
   "cell_type": "markdown",
   "metadata": {},
   "source": [
    "We want to define a **Support Vector Classifier** to classify the two classes.\n",
    "\n",
    "As the data is linearly separable, we can use a linear classifier. The classifier is of the class `SVC`. You find the documentation here: https://scikit-learn.org/stable/modules/generated/sklearn.svm.SVC.html#sklearn.svm.SVC\n",
    "\n",
    "First we create the classifier:"
   ]
  },
  {
   "cell_type": "code",
   "execution_count": null,
   "metadata": {},
   "outputs": [],
   "source": [
    "clf=SVC(kernel=\"linear\")"
   ]
  },
  {
   "cell_type": "markdown",
   "metadata": {},
   "source": [
    "The classifier required the $X$ as well as the $y$ data. We will thus create a data frame for the $X$ data and a series for the labels ($y$) data. \n",
    "\n",
    "By the way: can you explain, why $X$ is normally written with a capital letter while a lowercase letter is used for $y$?"
   ]
  },
  {
   "cell_type": "code",
   "execution_count": null,
   "metadata": {},
   "outputs": [],
   "source": [
    "Xdata=df.copy()\n",
    "ydata=Xdata.pop('class') "
   ]
  },
  {
   "cell_type": "markdown",
   "metadata": {},
   "source": [
    "Now we can call the classifier to fit the data:"
   ]
  },
  {
   "cell_type": "code",
   "execution_count": null,
   "metadata": {},
   "outputs": [],
   "source": [
    "clf.fit(Xdata,ydata)"
   ]
  },
  {
   "cell_type": "markdown",
   "metadata": {},
   "source": [
    "An output the accuracy, which will be 100% for the simple classifier: "
   ]
  },
  {
   "cell_type": "code",
   "execution_count": null,
   "metadata": {},
   "outputs": [],
   "source": [
    "print(\"accuracy:\",clf.score(Xdata,ydata))"
   ]
  },
  {
   "cell_type": "markdown",
   "metadata": {},
   "source": [
    "Now we want to take a look at the hyperplane, the Support Vector Classifier."
   ]
  },
  {
   "cell_type": "markdown",
   "metadata": {},
   "source": [
    "The classifier `clf` contains the relevant variables, the intercept as well as the coefficients, the weights:"
   ]
  },
  {
   "cell_type": "code",
   "execution_count": null,
   "metadata": {},
   "outputs": [],
   "source": [
    "print('The coefficients:',clf.coef_)\n",
    "print('The intercept:',clf.intercept_)"
   ]
  },
  {
   "cell_type": "markdown",
   "metadata": {},
   "source": [
    "The coefficients are the two weights $w_0$ and $w_1$Please note the following:\n",
    "\n",
    "The SVC algorithms solves the following equation:\n",
    "\n",
    "$$w_0 x+ w_1 y + w_{inter} = 0$$"
   ]
  },
  {
   "cell_type": "markdown",
   "metadata": {},
   "source": [
    "The hyperplane is a line with the following equation:\n",
    "$$f(x) = y= ax+b$$\n",
    "\n",
    "We must therefore make the following transformation: \n",
    "\n",
    "$$y=\\frac{-w_0x-w_{inter}}{w_1}$$\n",
    "\n",
    "therefore, we can set $a=-w_0 / w_1$ and $b=-w_{inter} / w_1$:"
   ]
  },
  {
   "cell_type": "code",
   "execution_count": null,
   "metadata": {},
   "outputs": [],
   "source": [
    "w0,w1=clf.coef_[0]\n",
    "w_inter=clf.intercept_\n",
    "a=-w0/w1\n",
    "b=-w_inter/w1"
   ]
  },
  {
   "cell_type": "markdown",
   "metadata": {},
   "source": [
    "We determine the minimum and maximum $X$ values for feature 1 and 2. We add a 1 to create some space between plotted observances and the border of the plot:"
   ]
  },
  {
   "cell_type": "code",
   "execution_count": null,
   "metadata": {},
   "outputs": [],
   "source": [
    "cols=df.columns\n",
    "xmin=df[cols[0]].min()-1\n",
    "xmax=df[cols[0]].max()+1\n",
    "ymin=df[cols[1]].min()-1\n",
    "ymax=df[cols[1]].max()+1"
   ]
  },
  {
   "cell_type": "markdown",
   "metadata": {},
   "source": [
    "Now we can specify $x$ values and use the determines values $a$ and $b$ of the hyperplane to calculate the corresponding $y$ values:"
   ]
  },
  {
   "cell_type": "code",
   "execution_count": null,
   "metadata": {},
   "outputs": [],
   "source": [
    "xValues=np.linspace(xmin,xmax,20)\n",
    "yValues=xValues*a+b"
   ]
  },
  {
   "cell_type": "markdown",
   "metadata": {},
   "source": [
    "And add the hyperplane (in gray) to the scatter plot."
   ]
  },
  {
   "cell_type": "code",
   "execution_count": null,
   "metadata": {},
   "outputs": [],
   "source": [
    "fig=plt.figure()   \n",
    "    \n",
    "sns.scatterplot(data=df, x=cols[0], y=cols[1],hue=cols[2])\n",
    "plt.plot(xValues,yValues,'gray')\n",
    "plt.ylim((ymin,ymax)) # we limit the y axis to the range where observations exist\n",
    "                      # just try out the effect when you ommitt this line\n",
    "plt.title(\"The scatter Plot with classifier: data10\")\n",
    "fig.savefig('plots/data10WithSVC.png',dpi=600)"
   ]
  },
  {
   "cell_type": "markdown",
   "metadata": {},
   "source": [
    "We call now the function to plot the hyperplane, margins and support vectors: "
   ]
  },
  {
   "cell_type": "markdown",
   "metadata": {},
   "source": [
    "And we call the function:"
   ]
  },
  {
   "cell_type": "code",
   "execution_count": null,
   "metadata": {},
   "outputs": [],
   "source": [
    "sp.plotScatterWithLinearHyperplane(df,clf,'data10')"
   ]
  },
  {
   "cell_type": "markdown",
   "metadata": {},
   "source": [
    "When you open the graph on the drive, you can zoom in and take a closer look."
   ]
  },
  {
   "cell_type": "markdown",
   "metadata": {},
   "source": [
    "We can equally graphically display the decision boundaries. This is especially useful to visualize the SVC if the data is not linearily separable (Hint: if the class `DecistionBoundaryDisplay` does not exist, you need to update to the latest version of `sklearn` (see at the top of the notebook)):"
   ]
  },
  {
   "cell_type": "code",
   "execution_count": null,
   "metadata": {},
   "outputs": [],
   "source": [
    "fig=plt.figure()\n",
    "                                           \n",
    "DecisionBoundaryDisplay.from_estimator(clf,X=Xdata,response_method=\"predict\",cmap=plt.cm.coolwarm,\n",
    "                                           alpha=0.6)\n",
    "plt.scatter(Xdata['feature1'],Xdata['feature2'],c=ydata,cmap=plt.cm.coolwarm,edgecolors='k')\n",
    "plt.title('SVM DecisionBoundary: data10')\n",
    "plt.savefig('plots/DecisionBoundary_data10.png',dpi=600)\n"
   ]
  },
  {
   "cell_type": "markdown",
   "metadata": {},
   "source": [
    "**Exercise:**\n",
    "\n",
    "Read the data from the files `data14.csv`and `data23.csv2` create similar plots using the specified function. "
   ]
  },
  {
   "cell_type": "code",
   "execution_count": null,
   "metadata": {},
   "outputs": [],
   "source": [
    "# your code data14.csv\n",
    "\n"
   ]
  },
  {
   "cell_type": "code",
   "execution_count": null,
   "metadata": {},
   "outputs": [],
   "source": [
    "# your code data23.csv\n"
   ]
  },
  {
   "cell_type": "markdown",
   "metadata": {},
   "source": [
    "# 3. Example 1: Splitting the data into a training and a test set"
   ]
  },
  {
   "cell_type": "markdown",
   "metadata": {},
   "source": [
    "Of course the results above are very optimistic, as the classifier is not tested with unseen data. Therefore, we split the data into a trainings and a test data set. First we read the data again:"
   ]
  },
  {
   "cell_type": "code",
   "execution_count": null,
   "metadata": {},
   "outputs": [],
   "source": [
    "# read the data\n",
    "df=pd.read_csv('data/data10.csv')\n",
    "# separate data from labels\n",
    "Xdata=df.copy()\n",
    "ydata=Xdata.pop('class')"
   ]
  },
  {
   "cell_type": "markdown",
   "metadata": {},
   "source": [
    "And split the data into a trainings and test set:"
   ]
  },
  {
   "cell_type": "code",
   "execution_count": null,
   "metadata": {},
   "outputs": [],
   "source": [
    "X_train, X_test, y_train, y_test=train_test_split(Xdata,ydata,test_size=0.33,random_state=10)"
   ]
  },
  {
   "cell_type": "markdown",
   "metadata": {},
   "source": [
    "Can you explain, why the parameter `random_state` is used?"
   ]
  },
  {
   "cell_type": "markdown",
   "metadata": {},
   "source": [
    "We now create the classifier and train it using the training data:"
   ]
  },
  {
   "cell_type": "code",
   "execution_count": null,
   "metadata": {},
   "outputs": [],
   "source": [
    "clf=SVC(kernel=\"linear\", random_state=10)\n",
    "clf.fit(X_train,y_train)"
   ]
  },
  {
   "cell_type": "markdown",
   "metadata": {},
   "source": [
    "We now print two scores (accuracy values), one for the training data and one for the test data:"
   ]
  },
  {
   "cell_type": "code",
   "execution_count": null,
   "metadata": {},
   "outputs": [],
   "source": [
    "print(\"accuracy trainnings data:\",clf.score(X_train,y_train))\n",
    "print(\"accuracy test data:      \",clf.score(X_test,y_test))"
   ]
  },
  {
   "cell_type": "markdown",
   "metadata": {},
   "source": [
    "And we see a perfect score for both, training and testing."
   ]
  },
  {
   "cell_type": "markdown",
   "metadata": {},
   "source": [
    "Now let's take a look at a different data set, the `data14.csv` file."
   ]
  },
  {
   "cell_type": "code",
   "execution_count": null,
   "metadata": {},
   "outputs": [],
   "source": [
    "df=pd.read_csv('data/data14.csv')\n",
    "# separate data from labels\n",
    "Xdata=df.copy()\n",
    "ydata=Xdata.pop('class')\n",
    "\n",
    "X_train, X_test, y_train, y_test=train_test_split(Xdata,ydata,test_size=0.33,random_state=10)\n",
    "clf=SVC(kernel=\"linear\", random_state=10)\n",
    "clf.fit(X_train,y_train)\n",
    "\n",
    "print(\"accuracy trainings data:\",clf.score(X_train,y_train))\n",
    "print(\"accuracy test data:      \",clf.score(X_test,y_test))"
   ]
  },
  {
   "cell_type": "markdown",
   "metadata": {},
   "source": [
    "Now we have a lower accuracy. Let's take a look at the confusion matrix:"
   ]
  },
  {
   "cell_type": "code",
   "execution_count": null,
   "metadata": {},
   "outputs": [],
   "source": [
    "# we need to determine the predicted labels\n",
    "yPredict=clf.predict(X_test)\n",
    "# and calculate the confusion matrix\n",
    "cm=confusion_matrix(y_test, yPredict)\n",
    "# and print it\n",
    "print(cm)"
   ]
  },
  {
   "cell_type": "markdown",
   "metadata": {},
   "source": [
    "The module `sklearn.metrics` offers a nice Class to display the confusion matrix: "
   ]
  },
  {
   "cell_type": "code",
   "execution_count": null,
   "metadata": {},
   "outputs": [],
   "source": [
    "fig=plt.figure()\n",
    "disp = ConfusionMatrixDisplay(confusion_matrix=cm,\n",
    "                              display_labels=clf.classes_)\n",
    "disp.plot()\n",
    "plt.title('CM Test: data14')\n",
    "plt.savefig('plots/confusionMatrix_Test_data14.png',dpi=600)\n"
   ]
  },
  {
   "cell_type": "markdown",
   "metadata": {},
   "source": [
    "If you take a close look, you can see the four misclassified sampled (one orange is behind one of the blue support vectors):"
   ]
  },
  {
   "cell_type": "code",
   "execution_count": null,
   "metadata": {},
   "outputs": [],
   "source": [
    "sp.plotScatterWithLinearHyperplane(df,clf,\"data14_test\")"
   ]
  },
  {
   "attachments": {
    "svm.png": {
     "image/png": "[encoded data removed]"
    }
   },
   "cell_type": "markdown",
   "metadata": {},
   "source": [
    "![svm.png](attachment:svm.png)"
   ]
  },
  {
   "cell_type": "markdown",
   "metadata": {},
   "source": [
    "Now we draw the decision boundary. In order to distinguish between trainings and test samples, I used the `alpha` parameter that regulates the transparency and plotted traings data with a higher transparency than the testing data:"
   ]
  },
  {
   "cell_type": "code",
   "execution_count": null,
   "metadata": {},
   "outputs": [],
   "source": [
    "fig=plt.figure()\n",
    "                                       \n",
    "DecisionBoundaryDisplay.from_estimator(clf,X=Xdata,response_method=\"predict\",cmap=plt.cm.coolwarm,\n",
    "                                        alpha=0.4)\n",
    "plt.scatter(X_train['feature1'],X_train['feature2'],c=y_train,\n",
    "            cmap=plt.cm.coolwarm,edgecolors='k',alpha=0.5)\n",
    "plt.scatter(X_test['feature1'],X_test['feature2'],c=y_test,\n",
    "            cmap=plt.cm.coolwarm,edgecolors='k',alpha=1)\n",
    "plt.title('TT SVM DecisionBoundary: data14')\n",
    "plt.savefig('plots/DecisionBoundary_data14.png',dpi=600)"
   ]
  },
  {
   "cell_type": "markdown",
   "metadata": {},
   "source": [
    "# 4. Non linearly separable data"
   ]
  },
  {
   "cell_type": "markdown",
   "metadata": {},
   "source": [
    "SVMs are equally suitable to classify data, that is not linearly separable. Therefore it does not make sense to draw a linear hyperplane.\n",
    "\n",
    "As one example we use a dataset in the file `dataMoon23.csv` that was generated using the function  `make_moons()` in `sklearn.datasets`."
   ]
  },
  {
   "cell_type": "raw",
   "metadata": {},
   "source": [
    "1. Load the data set and make a simple scatter plot:"
   ]
  },
  {
   "cell_type": "code",
   "execution_count": null,
   "metadata": {},
   "outputs": [],
   "source": [
    "# your code\n",
    "df=pd.read_csv('data/dataMoon23.csv')\n",
    "sp.plotSimpleScatter(df,'dataMoon23')"
   ]
  },
  {
   "cell_type": "markdown",
   "metadata": {},
   "source": [
    "2. Separate the `class` column and store it as `ydata`."
   ]
  },
  {
   "cell_type": "code",
   "execution_count": null,
   "metadata": {},
   "outputs": [],
   "source": [
    "# your code\n",
    "\n",
    "Xdata=df.copy()\n",
    "ydata=Xdata.pop('class')"
   ]
  },
  {
   "cell_type": "markdown",
   "metadata": {},
   "source": [
    "3. Split the data in test and trainings data set. Use `random_state=10` and a `test_size` of 0.33."
   ]
  },
  {
   "cell_type": "code",
   "execution_count": null,
   "metadata": {},
   "outputs": [],
   "source": [
    "# your code\n",
    "\n",
    "X_train, X_test, y_train, y_test=train_test_split(Xdata,ydata,test_size=0.33,random_state=10)\n"
   ]
  },
  {
   "cell_type": "markdown",
   "metadata": {},
   "source": [
    "4. Create an SVC Classifier. As the data is not linearly separable we use the standard kernel. Set `random_state` to 10.   "
   ]
  },
  {
   "cell_type": "code",
   "execution_count": null,
   "metadata": {},
   "outputs": [],
   "source": [
    "# your code\n",
    "\n",
    "clf=SVC(random_state=10)"
   ]
  },
  {
   "cell_type": "markdown",
   "metadata": {},
   "source": [
    "5. Train the SVC with the training data and output the score for training and test data."
   ]
  },
  {
   "cell_type": "code",
   "execution_count": null,
   "metadata": {},
   "outputs": [],
   "source": [
    "# your code\n",
    "\n",
    "clf.fit(X_train,y_train)\n",
    "\n",
    "print(\"accuracy trainings data:\",clf.score(X_train,y_train))\n",
    "print(\"accuracy test data:      \",clf.score(X_test,y_test))"
   ]
  },
  {
   "cell_type": "markdown",
   "metadata": {},
   "source": [
    "6. Calculate the confusion matrix and plot it."
   ]
  },
  {
   "cell_type": "code",
   "execution_count": null,
   "metadata": {},
   "outputs": [],
   "source": [
    "# your code\n",
    "\n",
    "# we need to determine the predicted labels\n",
    "yPredict=clf.predict(X_test)\n",
    "# and calculate the confusion matrix\n",
    "cm=confusion_matrix(y_test, yPredict)\n",
    "# and print it\n",
    "print(cm)"
   ]
  },
  {
   "cell_type": "markdown",
   "metadata": {},
   "source": [
    "7. Plot the decision boundaries."
   ]
  },
  {
   "cell_type": "code",
   "execution_count": null,
   "metadata": {},
   "outputs": [],
   "source": [
    "# your code\n",
    "fig=plt.figure()\n",
    "                                       \n",
    "DecisionBoundaryDisplay.from_estimator(clf,X=Xdata,response_method=\"predict\",cmap=plt.cm.coolwarm,\n",
    "                                        alpha=0.4)\n",
    "plt.scatter(X_train['feature1'],X_train['feature2'],c=y_train,\n",
    "            cmap=plt.cm.coolwarm,edgecolors='k',alpha=0.5)\n",
    "plt.scatter(X_test['feature1'],X_test['feature2'],c=y_test,\n",
    "            cmap=plt.cm.coolwarm,edgecolors='k',alpha=1)\n",
    "plt.title('TT SVM DecisionBoundary: dataMoon23')\n",
    "plt.savefig('plots/DecisionBoundary_dataMoon23.png',dpi=600)"
   ]
  },
  {
   "cell_type": "markdown",
   "metadata": {},
   "source": [
    "# 5. Hyperparameters: C"
   ]
  },
  {
   "cell_type": "markdown",
   "metadata": {},
   "source": [
    "Please load the data set `dataCircle37.csv` and perform the same steps as above:\n",
    "1. Load the data set and make a simple scatter plot.\n",
    "2. Separate the `class` column and store it as `ydata`.\n",
    "3. Split the date in test and trainings data set. Use `random_state=10` and a `test_size` of 0.33.\n",
    "4. Create an SVC Classifier. As the data is not linearly separable we use the standard kernel. Set `random_state` to 10.\n",
    "5. Train the SVC with the training data and output the score for training and test data.\n",
    "6. Calculate the confusion matrix and plot it.\n",
    "7. Plot the decision boundaries.\n"
   ]
  },
  {
   "cell_type": "code",
   "execution_count": null,
   "metadata": {},
   "outputs": [],
   "source": [
    "# your code\n",
    "\n"
   ]
  },
  {
   "cell_type": "markdown",
   "metadata": {},
   "source": [
    "The accuracy most probably looks bad! In the lecture we discussed the parameter `C`. Do you remember what it stands for?"
   ]
  },
  {
   "cell_type": "markdown",
   "metadata": {},
   "source": [
    "Test different values for the parameter `C` and display the accuracy for teh trainigs and test data. To do so pass a value for the optional paramater `C`: `clf=SVC(random_state=10,C=valueForC)`"
   ]
  },
  {
   "cell_type": "code",
   "execution_count": null,
   "metadata": {},
   "outputs": [],
   "source": [
    "# your code\n",
    "\n",
    "    "
   ]
  },
  {
   "cell_type": "markdown",
   "metadata": {},
   "source": [
    "Select a value for `C` that achieves higher accuracy and plot the confusion matrix as well as the decision boundary for this value."
   ]
  },
  {
   "cell_type": "code",
   "execution_count": null,
   "metadata": {},
   "outputs": [],
   "source": [
    "# your code\n"
   ]
  },
  {
   "cell_type": "markdown",
   "metadata": {},
   "source": [
    "# 6. Multiple Hyperparameters: C and gamma"
   ]
  },
  {
   "cell_type": "markdown",
   "metadata": {},
   "source": [
    "Often we have the possibility to modify different paramaters. Those can be modified independently of each other. Having three hyperparameters with 3 values each gives 9 different possibile combiniation. \n",
    "\n",
    "Therefore we equally train hyperparameters and use a validation test set to evaluate the hyperparameters.  A specific test set, that was not used for the training of hyperparameters is then used to evaluate the final classifier.\n",
    "\n",
    "In this example we test different combinations of the parameter `C` and `gamma`. As we use the training to determine a good combination of hyperparameters, we name the validateion set `val` (for validation).\n",
    "\n",
    "The code in this example was highly inspired by Chi Nhan Nguyen, Oliver Zeigermann, Machine Learning kurz & gut, O-Reilly, 2018."
   ]
  },
  {
   "cell_type": "markdown",
   "metadata": {},
   "source": [
    "1. We load and prepare the data:"
   ]
  },
  {
   "cell_type": "code",
   "execution_count": null,
   "metadata": {},
   "outputs": [],
   "source": [
    "df=pd.read_csv('data/dataCircle37.csv')\n",
    "Xdata=df.copy()\n",
    "ydata=Xdata.pop('class')\n",
    "# we first separate the test data set\n",
    "# we remove 20 % of the data for test and the validation set \n",
    "X_train, X_test, y_train, y_test=train_test_split(Xdata,ydata,test_size=0.33,random_state=10)   \n",
    "# and now we separate the validation data set\n",
    "X_trainH, X_val, y_trainH, y_val=train_test_split(X_train,y_train,test_size=0.33,random_state=11)   "
   ]
  },
  {
   "cell_type": "markdown",
   "metadata": {},
   "source": [
    "2. We create a list of potential `gamma` values."
   ]
  },
  {
   "cell_type": "code",
   "execution_count": null,
   "metadata": {},
   "outputs": [],
   "source": [
    "gammaValues=np.logspace(-3,2,200)"
   ]
  },
  {
   "cell_type": "markdown",
   "metadata": {},
   "source": [
    "3. We determine the training and test accuracy for all SVC with the different `gamma` values and store the results in lists: "
   ]
  },
  {
   "cell_type": "code",
   "execution_count": null,
   "metadata": {},
   "outputs": [],
   "source": [
    "train_scores, val_scores=[],[]\n",
    "# we will keep track of the max accucary and its gamma value\n",
    "gammaMaxAccuracy=0\n",
    "maxValAccuracy=0\n",
    "for g in gammaValues:\n",
    "    # learn an SVC\n",
    "    # https://scikit-learn.org/stable/modules/generated/sklearn.svm.SVC.html#sklearn.svm.SVC\n",
    "    clf=SVC(gamma=g,random_state=10)\n",
    "    clf.fit(X_trainH,y_trainH)\n",
    "    train_scores.append(clf.score(X_trainH,y_trainH))\n",
    "    val_scores.append(clf.score(X_val,y_val))\n",
    "    if clf.score(X_val,y_val)>maxValAccuracy:\n",
    "        maxValAccuracy=clf.score(X_val,y_val)\n",
    "        gammaMaxAccuracy=g\n",
    "            "
   ]
  },
  {
   "cell_type": "markdown",
   "metadata": {},
   "source": [
    "4. We plot the result."
   ]
  },
  {
   "cell_type": "code",
   "execution_count": null,
   "metadata": {},
   "outputs": [],
   "source": [
    "fig=plt.figure()\n",
    "ax=fig.add_subplot(111)\n",
    "plt.plot(gammaValues,train_scores,'b',label='training data')\n",
    "plt.plot(gammaValues,val_scores,':m', label='validation data')\n",
    "plt.legend()\n",
    "ax.set_xscale('log')\n",
    "plt.xlabel('gamma Value')\n",
    "plt.ylabel('accuracy')\n",
    "plt.axis('tight')\n",
    "plt.title(\"Gamma Values for dataCircle37\")\n",
    "plt.savefig('plots/GammaTest_dataCircle37.png', dpi=600)\n",
    "        "
   ]
  },
  {
   "cell_type": "markdown",
   "metadata": {},
   "source": [
    "And print the maximum validation accuracy and its gamma value"
   ]
  },
  {
   "cell_type": "code",
   "execution_count": null,
   "metadata": {
    "tags": []
   },
   "outputs": [],
   "source": [
    "print(f\"max validation accuracy: {maxValAccuracy:.5f} for gamma {gammaMaxAccuracy}\")"
   ]
  },
  {
   "cell_type": "markdown",
   "metadata": {},
   "source": [
    "We can observe that when increasing `gamma` we achieve a maximum in the validation (minimum variance). While we can reduce the bias (increase the traing accuracy) when further increasing `gamma` the variance will be reduced."
   ]
  },
  {
   "cell_type": "markdown",
   "metadata": {},
   "source": [
    "To enable the reuse of above code we generate a function:"
   ]
  },
  {
   "cell_type": "code",
   "execution_count": null,
   "metadata": {},
   "outputs": [],
   "source": [
    "def gammaTest(file,cValue):\n",
    "    gammaValues=np.logspace(-3,2,200)\n",
    "    df=pd.read_csv('data/'+file)\n",
    "    Xdata=df.copy()\n",
    "    ydata=Xdata.pop('class')\n",
    "   \n",
    "    # we first separate the test data set\n",
    "    X_train, X_test, y_train, y_test=train_test_split(Xdata,ydata,test_size=0.33,random_state=10)   \n",
    "    # and now we separate the validation data set\n",
    "    X_trainH, X_val, y_trainH, y_val=train_test_split(X_train,y_train,test_size=0.33,random_state=11)   \n",
    "    \n",
    "    # we will keep track of the max accucary and its gamma value\n",
    "    gammaMaxAccuracy=0\n",
    "    maxValAccuracy=0\n",
    "    train_scores, val_scores=[],[]\n",
    "    for g in gammaValues:\n",
    "        # learn an SVC\n",
    "        # https://scikit-learn.org/stable/modules/generated/sklearn.svm.SVC.html#sklearn.svm.SVC\n",
    "        clf=SVC(gamma=g,random_state=10,C=cValue)\n",
    "        clf.fit(X_trainH,y_trainH)\n",
    "        train_scores.append(clf.score(X_trainH,y_trainH))\n",
    "        val_scores.append(clf.score(X_val,y_val))\n",
    "        if clf.score(X_val,y_val)>maxValAccuracy:\n",
    "            maxValAccuracy=clf.score(X_val,y_val)\n",
    "            gammaMaxAccuracy=g\n",
    "            \n",
    "            \n",
    "            \n",
    "    fig=plt.figure()\n",
    "    ax=fig.add_subplot(111)\n",
    "    plt.plot(gammaValues,train_scores,'b',label='training data')\n",
    "    plt.plot(gammaValues,val_scores,':m', label='validation data')\n",
    "    plt.legend()\n",
    "    ax.set_xscale('log')\n",
    "    plt.xlabel('gamma Value')\n",
    "    plt.ylabel('accuracy')\n",
    "    plt.axis('tight')\n",
    "    plt.title(f\"Gamma Values for {file[:-4]} with C={cValue}\")\n",
    "    plt.savefig(f'plots/C_{cValue}_GammaTest_{file[:-4]}.png', dpi=600)\n",
    "    return maxValAccuracy, gammaMaxAccuracy"
   ]
  },
  {
   "cell_type": "markdown",
   "metadata": {},
   "source": [
    "To generate a plot for above file and `C=1`:"
   ]
  },
  {
   "cell_type": "code",
   "execution_count": null,
   "metadata": {},
   "outputs": [],
   "source": [
    "gammaTest('dataCircle37.csv',cValue=1)"
   ]
  },
  {
   "cell_type": "markdown",
   "metadata": {},
   "source": [
    "Use the function to plot similar `gamma` plots for all possible `C` values from 1 to 10. Compare the results. "
   ]
  },
  {
   "cell_type": "code",
   "execution_count": null,
   "metadata": {},
   "outputs": [],
   "source": [
    "# we create a dictionayry to store the gamma and accuracy value for each C value\n",
    "gammaTestValues={}\n",
    "for c in range(1,11):\n",
    "    a,g=gammaTest('dataCircle37.csv',cValue=c)\n",
    "    gammaTestValues[c]={'accuracy':a,'gamma':g}"
   ]
  },
  {
   "cell_type": "markdown",
   "metadata": {},
   "source": [
    "And we display the values for the different `C`-values:"
   ]
  },
  {
   "cell_type": "code",
   "execution_count": null,
   "metadata": {
    "tags": []
   },
   "outputs": [],
   "source": [
    "for s,w in gammaTestValues.items():\n",
    "    print(f\"C={s:2}: acc={w['accuracy']:.4f}, gamma={w['gamma']:8.5f}\")"
   ]
  },
  {
   "cell_type": "markdown",
   "metadata": {},
   "source": [
    "As we can clearly observe, the optimum `gamma` depends on the specifc `C` value."
   ]
  },
  {
   "cell_type": "markdown",
   "metadata": {},
   "source": [
    "We now select a combination of `C` and `gamma` with a maximum accuracy and train the SVC with the complete trainings data (trainH and validation data) and test it with the formerly unseen test data: "
   ]
  },
  {
   "cell_type": "code",
   "execution_count": null,
   "metadata": {
    "tags": []
   },
   "outputs": [],
   "source": [
    "clf=SVC(random_state=10,C=4, gamma=0.61510)\n",
    "clf.fit(X_train,y_train)\n",
    "\n",
    "print(\"accuracy trainings data:\",clf.score(X_train,y_train))\n",
    "print(\"accuracy test data:      \",clf.score(X_test,y_test))\n",
    "# we need to determine the predicted labels\n",
    "yPredict=clf.predict(X_test)\n",
    "# and calculate the confusion matrix\n",
    "cm=confusion_matrix(y_test, yPredict)\n",
    "# and print it\n",
    "print(cm)\n",
    "\n",
    "fig=plt.figure()\n",
    "disp = ConfusionMatrixDisplay(confusion_matrix=cm,\n",
    "                              display_labels=clf.classes_)\n",
    "disp.plot()\n",
    "plt.title('CM Test: dataCircle37 C=4 gamma=0.61510,')\n",
    "plt.savefig('plots/confusionMatrix_Test_dataCircle37_C3_gamma.png',dpi=600)\n",
    "\n",
    "fig=plt.figure()\n",
    "                                       \n",
    "DecisionBoundaryDisplay.from_estimator(clf,X=Xdata,response_method=\"predict\",cmap=plt.cm.coolwarm,\n",
    "                                        alpha=0.4)\n",
    "plt.scatter(X_train['feature1'],X_train['feature2'],c=y_train,\n",
    "            cmap=plt.cm.coolwarm,edgecolors='k',alpha=0.5)\n",
    "plt.scatter(X_test['feature1'],X_test['feature2'],c=y_test,\n",
    "            cmap=plt.cm.coolwarm,edgecolors='k',alpha=1)\n",
    "plt.title('TT SVM DecisionBoundary, C=4 gamma=0.61510, dataCircle37')\n",
    "plt.savefig('plots\\DecisionBoundary_dataCircle37_C3_gamma.png',dpi=600)\n",
    "\n"
   ]
  },
  {
   "cell_type": "markdown",
   "metadata": {},
   "source": [
    "**Exercise:**\n",
    "\n",
    "Open the data set in the file `dataCircle25.csv` and make a simple scatter plot."
   ]
  },
  {
   "cell_type": "code",
   "execution_count": null,
   "metadata": {},
   "outputs": [],
   "source": [
    "# your code\n",
    "\n"
   ]
  },
  {
   "cell_type": "markdown",
   "metadata": {},
   "source": [
    "We create the trainings and test data set. Out of the trainings data set create additionally a trainings data set for the hyperparameter as well as a validation data set."
   ]
  },
  {
   "cell_type": "code",
   "execution_count": null,
   "metadata": {
    "tags": []
   },
   "outputs": [],
   "source": [
    "# we first separate the test data set\n",
    "# we remove 20 % of the data for test and the validation set \n",
    "X_train, X_test, y_train, y_test=train_test_split(Xdata,ydata,test_size=0.33,random_state=10)   \n",
    "# and now we separate the validation data set\n",
    "X_trainH, X_val, y_trainH, y_val=train_test_split(X_train,y_train,test_size=0.33,random_state=11)   "
   ]
  },
  {
   "cell_type": "markdown",
   "metadata": {},
   "source": [
    "Repeat the gamma tests for `C` from 1 to 10, observe the results. "
   ]
  },
  {
   "cell_type": "code",
   "execution_count": null,
   "metadata": {},
   "outputs": [],
   "source": [
    "# your code\n"
   ]
  },
  {
   "cell_type": "markdown",
   "metadata": {},
   "source": [
    "Print the results for the best combination of `C` and `gamma` values:"
   ]
  },
  {
   "cell_type": "code",
   "execution_count": null,
   "metadata": {
    "tags": []
   },
   "outputs": [],
   "source": [
    "# your code\n"
   ]
  },
  {
   "cell_type": "markdown",
   "metadata": {},
   "source": [
    "Select a good combination for the `C` and `gamma` value, train the data on the whole trainings data set and test ist on the test set."
   ]
  },
  {
   "cell_type": "code",
   "execution_count": null,
   "metadata": {
    "tags": []
   },
   "outputs": [],
   "source": [
    "# your code\n"
   ]
  },
  {
   "cell_type": "markdown",
   "metadata": {},
   "source": [
    "*End of the Notebook*"
   ]
  },
  {
   "cell_type": "markdown",
   "metadata": {
    "deletable": false,
    "editable": false
   },
   "source": [
    "<a rel=\"license\" href=\"http://creativecommons.org/licenses/by-nc-nd/4.0/\"><img alt=\"Creative Commons License\" style=\"border-width:0\" src=\"https://i.creativecommons.org/l/by-nc-nd/4.0/88x31.png\" /></a><br />This notebook was created by Christina B. Class for teaching at EAH Jena and is licensed under a <a rel=\"license\" href=\"http://creativecommons.org/licenses/by-nc-nd/4.0/\">Creative Commons Attribution-NonCommercial-NoDerivatives 4.0 International License</a>."
   ]
  }
 ],
 "metadata": {
  "kernelspec": {
   "display_name": "Python 3 (ipykernel)",
   "language": "python",
   "name": "python3"
  },
  "language_info": {
   "codemirror_mode": {
    "name": "ipython",
    "version": 3
   },
   "file_extension": ".py",
   "mimetype": "text/x-python",
   "name": "python",
   "nbconvert_exporter": "python",
   "pygments_lexer": "ipython3",
   "version": "3.10.13"
  }
 },
 "nbformat": 4,
 "nbformat_minor": 4
}
