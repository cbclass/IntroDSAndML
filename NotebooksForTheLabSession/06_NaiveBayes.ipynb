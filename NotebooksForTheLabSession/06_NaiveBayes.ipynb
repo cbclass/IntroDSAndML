{
 "cells": [
  {
   "cell_type": "markdown",
   "metadata": {},
   "source": [
    "**Section 6: Naive Bayes**\n",
    "\n",
    "Notebook for \"Introduction to Data Science and Machine Learning\"\n",
    "\n",
    "version 1.0, May 28 2024\n"
   ]
  },
  {
   "cell_type": "markdown",
   "metadata": {},
   "source": [
    "`import` statements required for this notebook."
   ]
  },
  {
   "cell_type": "code",
   "execution_count": null,
   "metadata": {},
   "outputs": [],
   "source": [
    "import numpy as np\n",
    "import pandas as pd"
   ]
  },
  {
   "cell_type": "markdown",
   "metadata": {},
   "source": [
    "# 1. Naive Bayes Classifier: First Steps"
   ]
  },
  {
   "cell_type": "markdown",
   "metadata": {},
   "source": [
    "In this notebook we solve the exercise from the Self Study Assignment. Given is the following table of observations:\n",
    "\n",
    "| A | B | C | Class |\n",
    "| --- | --- | --- | ------ |\n",
    "| 0 | 0 | 0 | + |\n",
    "| 0 | 0 | 1 | - |\n",
    "| 0 | 1 | 1 | - |\n",
    "| 0 | 1 | 1 | - |\n",
    "| 0 | 0 | 1 | + |\n",
    "| 1 | 0 | 1 | + |\n",
    "| 1 | 0 | 1 | - |\n",
    "| 1 | 0 | 1 | - |\n",
    "| 1 | 1 | 1 | + |\n",
    "| 1 | 0 | 1 | + |\n",
    "\n",
    "\n"
   ]
  },
  {
   "cell_type": "markdown",
   "metadata": {},
   "source": [
    "For this exercise we replaced class `+` by `1` and class `-` by `0` and stored it in a `.csv` file named `exerciseBayes.csv`. "
   ]
  },
  {
   "cell_type": "code",
   "execution_count": null,
   "metadata": {},
   "outputs": [],
   "source": [
    "df=pd.read_csv('data/exerciseBayes.csv')\n",
    "print(df)"
   ]
  },
  {
   "cell_type": "markdown",
   "metadata": {},
   "source": [
    "Now let's create a numpy array that only contains the data:"
   ]
  },
  {
   "cell_type": "code",
   "execution_count": null,
   "metadata": {},
   "outputs": [],
   "source": [
    "data=np.array(df)\n",
    "print(data)"
   ]
  },
  {
   "cell_type": "markdown",
   "metadata": {},
   "source": [
    "For the Bayes Classifier, we need to count occurences and determine probabilities. So first the total number of rows, i.e. observations:"
   ]
  },
  {
   "cell_type": "code",
   "execution_count": null,
   "metadata": {},
   "outputs": [],
   "source": [
    "totalNb=data.shape[0]\n",
    "print('totalNb:',totalNb)"
   ]
  },
  {
   "cell_type": "markdown",
   "metadata": {},
   "source": [
    "Occurences of class 1 and class 2:"
   ]
  },
  {
   "cell_type": "code",
   "execution_count": null,
   "metadata": {},
   "outputs": [],
   "source": [
    "nbClass1=(data[:,3]==1).sum()\n",
    "print('nbClass1:',nbClass1)\n",
    "nbClass0=(data[:,3]==0).sum()\n",
    "print('nbClass0:',nbClass0)"
   ]
  },
  {
   "cell_type": "markdown",
   "metadata": {},
   "source": [
    "And we determine the probabilities for the two classes:"
   ]
  },
  {
   "cell_type": "code",
   "execution_count": null,
   "metadata": {},
   "outputs": [],
   "source": [
    "probClass1=nbClass1/totalNb\n",
    "print('probClass1:',probClass1)\n",
    "probClass0=nbClass0/totalNb\n",
    "print('probClass0:',probClass0)"
   ]
  },
  {
   "cell_type": "markdown",
   "metadata": {},
   "source": [
    "And now we need to determine the conditional probabilities. There are two issues that might make this task a bit tedious:\n",
    "1. we need many Python variables (Three attributes with each two values for 2 classes ==> 12 different conditonal probilities!) or need to be careful not to confuse values when we use a list.\n",
    "2. while we can use one condition to determine index vectors (also used in `(data[:,3]==1).sum()`) we cannot use more than one condition. Therefore, we would need reduction. Or we go through all the ovservations to count occurences but this is confusing to program with the different variables...."
   ]
  },
  {
   "cell_type": "markdown",
   "metadata": {},
   "source": [
    "The Python concepts we know so far are thus not very supportive to our task.\n",
    "\n",
    "We will now introduce a new data structure, the `dictionary` that helps us in counting the occurences and determining the required probabilities."
   ]
  },
  {
   "cell_type": "markdown",
   "metadata": {},
   "source": [
    "# 2. Data Types: The Dictionary `dict`"
   ]
  },
  {
   "cell_type": "markdown",
   "metadata": {},
   "source": [
    "A **dictionary**, or **map** as in some programming languages, allows for the storage of **key-value-pairs**.\n",
    "The keys must have unique values. "
   ]
  },
  {
   "cell_type": "markdown",
   "metadata": {},
   "source": [
    "## 2.1 Definition of a Dictionary"
   ]
  },
  {
   "cell_type": "markdown",
   "metadata": {},
   "source": [
    "An empty dictionary is defined using empty curly bracktes `{}` or `dict()`."
   ]
  },
  {
   "cell_type": "code",
   "execution_count": null,
   "metadata": {},
   "outputs": [],
   "source": [
    "d1={}\n",
    "d2=dict()\n",
    "\n",
    "print(type(d1))\n",
    "print(type(d2))"
   ]
  },
  {
   "cell_type": "markdown",
   "metadata": {},
   "source": [
    "When defining a non-empty  dictionary the key-value pairs are specified using a `:` as `k:v` where `k` is the key and `v` is the value. "
   ]
  },
  {
   "cell_type": "code",
   "execution_count": null,
   "metadata": {},
   "outputs": [],
   "source": [
    "d3={1:2,3:4}\n",
    "print(d3)"
   ]
  },
  {
   "cell_type": "markdown",
   "metadata": {},
   "source": [
    "## 2.2 Access "
   ]
  },
  {
   "cell_type": "markdown",
   "metadata": {},
   "source": [
    "Given is the following dictionary:"
   ]
  },
  {
   "cell_type": "code",
   "execution_count": null,
   "metadata": {},
   "outputs": [],
   "source": [
    "example={1:12,'s1':13,'text':17,-4:12,3.4:\"8\"}\n",
    "print(example)"
   ]
  },
  {
   "cell_type": "markdown",
   "metadata": {},
   "source": [
    "As you can see, keys as well as values can have different data types. "
   ]
  },
  {
   "cell_type": "markdown",
   "metadata": {},
   "source": [
    "The values of the dictionary are accessed via the key and the  `[]` operator:"
   ]
  },
  {
   "cell_type": "code",
   "execution_count": null,
   "metadata": {},
   "outputs": [],
   "source": [
    "print('Value at key \"s1\":',example['s1'])\n",
    "print('Value at key 1   :',example[1])\n",
    "print('Value at key 3.4 :',example[0.34e+1])"
   ]
  },
  {
   "cell_type": "markdown",
   "metadata": {},
   "source": [
    "A dictionary is a mutable data type, i.e. its values can be modfied. Using the access via the key, a value can be modified with a simple assignment: "
   ]
  },
  {
   "cell_type": "code",
   "execution_count": null,
   "metadata": {},
   "outputs": [],
   "source": [
    "example['s1']=17"
   ]
  },
  {
   "cell_type": "markdown",
   "metadata": {},
   "source": [
    "In case no value exists for the specified key, a new key-value pair is inserted into the dictionary:"
   ]
  },
  {
   "cell_type": "code",
   "execution_count": null,
   "metadata": {},
   "outputs": [],
   "source": [
    "print(example)\n",
    "example[2]=123\n",
    "print(example)"
   ]
  },
  {
   "cell_type": "markdown",
   "metadata": {},
   "source": [
    "The operator `in` tests, whether a specified key exists in the dictionary. It cannot be used to test for the existence of values: "
   ]
  },
  {
   "cell_type": "code",
   "execution_count": null,
   "metadata": {},
   "outputs": [],
   "source": [
    "print(example)\n",
    "print(\"in 'text':\",'text' in example)\n",
    "print(\"in '8':\",'8' in example)"
   ]
  },
  {
   "cell_type": "markdown",
   "metadata": {},
   "source": [
    "## 2.3 Printing a Dictionary"
   ]
  },
  {
   "cell_type": "markdown",
   "metadata": {},
   "source": [
    "A dictionary can be output using a `for` loop. A `for` loop requires a so-called iterable. There are three methods to obtain an iterable from a dictionary: \n",
    "1. `items()`: creates an iterable of key-value pairs\n",
    "2. `keys()`: creates an iterable of keys\n",
    "3. `values()`: creates an iterble of values"
   ]
  },
  {
   "cell_type": "markdown",
   "metadata": {},
   "source": [
    "**Output using `keys()`**"
   ]
  },
  {
   "cell_type": "markdown",
   "metadata": {},
   "source": [
    "`keys()` creates an iterable of keys:"
   ]
  },
  {
   "cell_type": "code",
   "execution_count": null,
   "metadata": {},
   "outputs": [],
   "source": [
    "example={1:12,'s1':13,'text':17,-4:12,3.4:\"8\"}\n",
    "for k in example.keys():\n",
    "    print(k)"
   ]
  },
  {
   "cell_type": "markdown",
   "metadata": {},
   "source": [
    "Using the keys the values can be equally printed:"
   ]
  },
  {
   "cell_type": "code",
   "execution_count": null,
   "metadata": {},
   "outputs": [],
   "source": [
    "example={1:12,'s1':13,'text':17,-4:12,3.4:\"8\"}\n",
    "for k in example.keys():\n",
    "    print(k,'with value',example[k])"
   ]
  },
  {
   "cell_type": "markdown",
   "metadata": {},
   "source": [
    "**Output using `items()`**"
   ]
  },
  {
   "cell_type": "markdown",
   "metadata": {},
   "source": [
    "In order to print key-value pairs, the `items()` method can be used:"
   ]
  },
  {
   "cell_type": "code",
   "execution_count": null,
   "metadata": {},
   "outputs": [],
   "source": [
    "example={1:12,'s1':13,'text':17,-4:12,3.4:\"8\"}\n",
    "for i in example.items():\n",
    "    print(i)"
   ]
  },
  {
   "cell_type": "markdown",
   "metadata": {},
   "source": [
    "`items()` returns a tuple that can be unpacked:"
   ]
  },
  {
   "cell_type": "code",
   "execution_count": null,
   "metadata": {},
   "outputs": [],
   "source": [
    "example={1:12,'s1':13,'text':17,-4:12,3.4:\"8\"}\n",
    "for s,w in example.items():\n",
    "    print(s,'is the key and',w,'is the value')"
   ]
  },
  {
   "cell_type": "markdown",
   "metadata": {},
   "source": [
    "**Output using `values()`**"
   ]
  },
  {
   "cell_type": "markdown",
   "metadata": {},
   "source": [
    "A last method to create an iterable from a dictionary is `values()`."
   ]
  },
  {
   "cell_type": "code",
   "execution_count": null,
   "metadata": {},
   "outputs": [],
   "source": [
    "example={1:12,'s1':13,'text':17,-4:12,3.4:\"8\"}\n",
    "for v in example.values():\n",
    "    print(v)"
   ]
  },
  {
   "cell_type": "markdown",
   "metadata": {},
   "source": [
    "**Please note:** there is no method to retreive the key of a value (as different keys might have the same value). If you wish to output key-value pairs, you need to use the method `items()` or `keys()`.   "
   ]
  },
  {
   "cell_type": "markdown",
   "metadata": {},
   "source": [
    "But of course we can equally print a dictionary using a simple `print()` statement."
   ]
  },
  {
   "cell_type": "code",
   "execution_count": null,
   "metadata": {},
   "outputs": [],
   "source": [
    "print(example)"
   ]
  },
  {
   "cell_type": "markdown",
   "metadata": {},
   "source": [
    "## 2.4 Example: Counting the Words in a Text"
   ]
  },
  {
   "cell_type": "markdown",
   "metadata": {},
   "source": [
    "Let's assume we have a text and want to count the words. To make things easier we assume that there are no punctuation marks and no upper case words."
   ]
  },
  {
   "cell_type": "code",
   "execution_count": null,
   "metadata": {
    "tags": []
   },
   "outputs": [],
   "source": [
    "theText=\"this is a sample text to demonstrate the use of a dictionary in a notebook we do not use punctuation marks or any specific things in this text for the notebook I hope you will have some fun and can learn something from the notebook\""
   ]
  },
  {
   "cell_type": "markdown",
   "metadata": {},
   "source": [
    "We first need to create a list of the single words in the text. We can do so by calling the method `split()` of the class `str`:"
   ]
  },
  {
   "cell_type": "code",
   "execution_count": null,
   "metadata": {
    "tags": []
   },
   "outputs": [],
   "source": [
    "wordList=theText.split()\n",
    "print(wordList)"
   ]
  },
  {
   "cell_type": "markdown",
   "metadata": {},
   "source": [
    "Now we create a dictionary to count the words."
   ]
  },
  {
   "cell_type": "code",
   "execution_count": null,
   "metadata": {
    "tags": []
   },
   "outputs": [],
   "source": [
    "wordCounter={}"
   ]
  },
  {
   "cell_type": "markdown",
   "metadata": {},
   "source": [
    "We now iterate through the list of words. We test whether the current word is a key of the dictionary using the `in` operator. If not, we create a new entry in the dictionary and set the counter value to 1. Otherwise we increment the counter associated with the word."
   ]
  },
  {
   "cell_type": "code",
   "execution_count": null,
   "metadata": {
    "tags": []
   },
   "outputs": [],
   "source": [
    "for word in wordList:\n",
    "    if word in wordCounter.keys():\n",
    "        wordCounter[word]=wordCounter[word]+1\n",
    "    else:\n",
    "        wordCounter[word]=1"
   ]
  },
  {
   "cell_type": "markdown",
   "metadata": {},
   "source": [
    "and output the result:"
   ]
  },
  {
   "cell_type": "code",
   "execution_count": null,
   "metadata": {
    "tags": []
   },
   "outputs": [],
   "source": [
    "for word,number in wordCounter.items():\n",
    "    print(f\"'{word}' occures {number}-times\")"
   ]
  },
  {
   "cell_type": "markdown",
   "metadata": {},
   "source": [
    "# 3. Example from the self study: \"Learning\" the Classifier"
   ]
  },
  {
   "cell_type": "markdown",
   "metadata": {},
   "source": [
    "## 3.1 Introductory Example"
   ]
  },
  {
   "cell_type": "markdown",
   "metadata": {},
   "source": [
    "As a first example simply let's count the samples belonging to each class and store those numbers in a dictionary. The classes are `1` and `0` and thus we define the dictionary as follows: "
   ]
  },
  {
   "cell_type": "code",
   "execution_count": null,
   "metadata": {
    "tags": []
   },
   "outputs": [],
   "source": [
    "dic1={1:0,0:0}"
   ]
  },
  {
   "cell_type": "markdown",
   "metadata": {},
   "source": [
    "The classes are in the fourth column `class` with index 3. We use a for loop to look at all data samples and increment the counter for the class:"
   ]
  },
  {
   "cell_type": "code",
   "execution_count": null,
   "metadata": {
    "tags": []
   },
   "outputs": [],
   "source": [
    "for row in data:\n",
    "    dic1[row[3]]+=1\n",
    "print (dic1)\n",
    "    "
   ]
  },
  {
   "cell_type": "markdown",
   "metadata": {},
   "source": [
    "Now let's expand this example and count the values for the attribute A (first column, index 0) for each of the classes. We use now a two-level dictionary"
   ]
  },
  {
   "cell_type": "code",
   "execution_count": null,
   "metadata": {
    "tags": []
   },
   "outputs": [],
   "source": [
    "dic2={1:{0:0,1:0},0:{0:0,1:0}}"
   ]
  },
  {
   "cell_type": "markdown",
   "metadata": {},
   "source": [
    "The first level indicates the class, the second the value of attribute A.\n",
    "\n",
    "`dic2[1][0]` contains therefore the number of data samples belonging to class 1 with a value 0 for attribute A."
   ]
  },
  {
   "cell_type": "code",
   "execution_count": null,
   "metadata": {
    "tags": []
   },
   "outputs": [],
   "source": [
    "for row in data:\n",
    "    dic2[row[3]][row[0]]+=1\n",
    "print (dic2)\n",
    "    "
   ]
  },
  {
   "cell_type": "markdown",
   "metadata": {},
   "source": [
    "This code starts looking a bit cryptic, so we could add another level to the dictionary:"
   ]
  },
  {
   "cell_type": "code",
   "execution_count": null,
   "metadata": {
    "tags": []
   },
   "outputs": [],
   "source": [
    "dic3={1:{'A':{0:0,1:0}},0:{'A':{0:0,1:0}}}"
   ]
  },
  {
   "cell_type": "code",
   "execution_count": null,
   "metadata": {
    "tags": []
   },
   "outputs": [],
   "source": [
    "for row in data:\n",
    "    dic3[row[3]]['A'][row[0]]+=1\n",
    "print (dic3)"
   ]
  },
  {
   "cell_type": "markdown",
   "metadata": {},
   "source": [
    "We can now enhance this to count the values of all attributes."
   ]
  },
  {
   "cell_type": "markdown",
   "metadata": {},
   "source": [
    "## 3.2 Counting the samples"
   ]
  },
  {
   "cell_type": "markdown",
   "metadata": {},
   "source": [
    "We will now use a three level dictionary to count values:\n",
    "\n",
    "We use the classes as keys for the dictionary. Our dictionary has two keys, the key `1` and `0` representing the classes.\n",
    "The corresponding values are equally dictionaries representing the attributes, i.e. the features `A`, `B` and `C`. To count the values of each feature, we create a third level of a dictionary with the keys `1` (the corresponding attribute has the value 1) and `0`, the corresponding attribute has the value 0. The values of this dictionary are integer numbers, initialized with 0, to count the number of occurences.\n",
    "\n",
    "The data structure is defined as follows:"
   ]
  },
  {
   "cell_type": "code",
   "execution_count": null,
   "metadata": {},
   "outputs": [],
   "source": [
    "count={1:{'A':{0:0,1:0},'B':{0:0,1:0},'C':{0:0,1:0}},0:{'A':{0:0,1:0},'B':{0:0,1:0},'C':{0:0,1:0}}}"
   ]
  },
  {
   "cell_type": "markdown",
   "metadata": {},
   "source": [
    "Let's take a look at the data structre and print it:"
   ]
  },
  {
   "cell_type": "code",
   "execution_count": null,
   "metadata": {},
   "outputs": [],
   "source": [
    "print(count)"
   ]
  },
  {
   "cell_type": "markdown",
   "metadata": {},
   "source": [
    "We now create a second dictionary, to count the occurences of the classes (we already know, that both classes occur 5 times):"
   ]
  },
  {
   "cell_type": "code",
   "execution_count": null,
   "metadata": {},
   "outputs": [],
   "source": [
    "classCount={1:0,0:0}"
   ]
  },
  {
   "cell_type": "markdown",
   "metadata": {},
   "source": [
    "And a variable to count the total number of occurences (10)."
   ]
  },
  {
   "cell_type": "code",
   "execution_count": null,
   "metadata": {},
   "outputs": [],
   "source": [
    "totalNumber=0"
   ]
  },
  {
   "cell_type": "markdown",
   "metadata": {},
   "source": [
    "Now we define one more variable, a list, to make access to the dictionary (its keys) easier:"
   ]
  },
  {
   "cell_type": "code",
   "execution_count": null,
   "metadata": {},
   "outputs": [],
   "source": [
    "attributeNames=['A','B','C']"
   ]
  },
  {
   "cell_type": "markdown",
   "metadata": {},
   "source": [
    "`A` in `attributeNames` is at index `0` which \"happens\" to be the index of the column in the array `data`."
   ]
  },
  {
   "cell_type": "markdown",
   "metadata": {},
   "source": [
    "Now we can use a for loop to look at each occurence, and increment the corresponding numbers in the dictionary for the different attribute values: "
   ]
  },
  {
   "cell_type": "code",
   "execution_count": null,
   "metadata": {},
   "outputs": [],
   "source": [
    "# go through the array row by row\n",
    "for row in data:\n",
    "    # the class (1 (+) or 0 (-) ) is stored in the fourth column at index 3\n",
    "    theClass=row[3]\n",
    "    # now we go through the three columns with the attribute values, i is the \n",
    "    # index of the columns\n",
    "    for i in range(len(attributeNames)): \n",
    "        # first let's retrieve the attribute name (index i of the names list)\n",
    "        theAttribute=attributeNames[i]\n",
    "        # and the value of the attribute (in index i)\n",
    "        theValue=row[i]\n",
    "        # and now we use theClass, theAttribute and theValue as the keys for the \n",
    "        # three level dictionary and increment the counter\n",
    "        count[theClass][theAttribute][theValue]+=1\n",
    "    # after we finished looking at all attribute values, \n",
    "    # we finished one occurence and incremented the corresponding counter \n",
    "    # for the class\n",
    "    classCount[theClass]+=1\n",
    "    # and for the total numbers\n",
    "    totalNumber+=1"
   ]
  },
  {
   "cell_type": "markdown",
   "metadata": {},
   "source": [
    "Let's print the result:"
   ]
  },
  {
   "cell_type": "code",
   "execution_count": null,
   "metadata": {},
   "outputs": [],
   "source": [
    "print(count)"
   ]
  },
  {
   "cell_type": "markdown",
   "metadata": {},
   "source": [
    "You may check it by looking at the table of the self study assigment. We did a simple count, nothing special. The dictionary helped us to easily address the respective field. No magic, or BAM!., as StatQuest uses to say."
   ]
  },
  {
   "cell_type": "markdown",
   "metadata": {},
   "source": [
    "## 3.3 Determining the Probabilities"
   ]
  },
  {
   "cell_type": "markdown",
   "metadata": {},
   "source": [
    "In the next step we need to calculate probabilities:"
   ]
  },
  {
   "cell_type": "markdown",
   "metadata": {},
   "source": [
    "Let's define a dictionary for the class probabilities:"
   ]
  },
  {
   "cell_type": "code",
   "execution_count": null,
   "metadata": {},
   "outputs": [],
   "source": [
    "classProbability={1:0,0:0}"
   ]
  },
  {
   "cell_type": "markdown",
   "metadata": {},
   "source": [
    "Just to avoid hard coding things, let's make a list with the class names:"
   ]
  },
  {
   "cell_type": "code",
   "execution_count": null,
   "metadata": {},
   "outputs": [],
   "source": [
    "classNames=[0,1]"
   ]
  },
  {
   "cell_type": "markdown",
   "metadata": {},
   "source": [
    "We can now use a `for` loop to initialize the class probabilities (with two classes this seems a bit too complex, but we might have more classes). The probability of class $c_i$ is determined by\n",
    "\n",
    "$$ prob_{c_i}=\\frac{nb_{c_i}}{nb_{all}} $$\n",
    "\n",
    "where $nb_{c_i}$ is the number of occurences of class $c_i$ and $nb_{all}$ the number of all occurences:"
   ]
  },
  {
   "cell_type": "code",
   "execution_count": null,
   "metadata": {},
   "outputs": [],
   "source": [
    "for cl in classNames:\n",
    "    classProbability[cl]=classCount[cl]/totalNumber"
   ]
  },
  {
   "cell_type": "markdown",
   "metadata": {},
   "source": [
    "And let's check it:"
   ]
  },
  {
   "cell_type": "code",
   "execution_count": null,
   "metadata": {},
   "outputs": [],
   "source": [
    "print(classProbability)"
   ]
  },
  {
   "cell_type": "markdown",
   "metadata": {},
   "source": [
    "In order to determine the conditional probabilities, we must divide the number of occurences in the `count` variable by the number of occurences of the respective class. In order to go through the whole dictionary, we define an additional list for the attribute values: "
   ]
  },
  {
   "cell_type": "code",
   "execution_count": null,
   "metadata": {},
   "outputs": [],
   "source": [
    "attributeValues=[0,1]"
   ]
  },
  {
   "cell_type": "markdown",
   "metadata": {},
   "source": [
    "As well as a dictionary for the probabilies (with analog code as for `count`):"
   ]
  },
  {
   "cell_type": "code",
   "execution_count": null,
   "metadata": {},
   "outputs": [],
   "source": [
    "probability={1:{'A':{0:0,1:0},'B':{0:0,1:0},'C':{0:0,1:0}},\n",
    "             0:{'A':{0:0,1:0},'B':{0:0,1:0},'C':{0:0,1:0}}}"
   ]
  },
  {
   "cell_type": "markdown",
   "metadata": {},
   "source": [
    "and can now use for loops to calcuate the probabilities. Please **complete** the following code (that currently sets all probabilities to the number of counted samples): "
   ]
  },
  {
   "cell_type": "code",
   "execution_count": null,
   "metadata": {},
   "outputs": [],
   "source": [
    "for cl in classNames:\n",
    "    for a in attributeNames:\n",
    "        for v in attributeValues:\n",
    "            # replace the following assignment\n",
    "            probability[cl][a][v]=count[cl][a][v]"
   ]
  },
  {
   "cell_type": "markdown",
   "metadata": {},
   "source": [
    "Please `print()` the dictionary and check some values."
   ]
  },
  {
   "cell_type": "code",
   "execution_count": null,
   "metadata": {},
   "outputs": [],
   "source": [
    "print(probability)"
   ]
  },
  {
   "cell_type": "markdown",
   "metadata": {},
   "source": [
    "# 4. Classification"
   ]
  },
  {
   "cell_type": "markdown",
   "metadata": {},
   "source": [
    "In order to classify an instance using the Naive Bayes classifier we calculate the following value for each class $c$ based on the values $v_i$ of all $k$ attributes:\n",
    "\n",
    "$$ p(c) \\prod_{i=1}^k p(v_i|c) $$\n",
    "\n",
    "where $p(c)$ is the probability of the class and $p(v_i|c)$ the conditional probability of the attribute value $v_i$."
   ]
  },
  {
   "cell_type": "markdown",
   "metadata": {},
   "source": [
    "Let's assume that the occurence is defined in a dictionary where the attribute names are the keys. Let's further assume, the class proababilizies and the probabilities are defined in dictionaries as above. We can thus define the following classification function:"
   ]
  },
  {
   "cell_type": "code",
   "execution_count": null,
   "metadata": {},
   "outputs": [],
   "source": [
    "def classify(newValue,classProb,condProb):\n",
    "    # newValue is a dictionary describing the sample\n",
    "    # classProb is the dictionary with the class probabilities\n",
    "    # condProb is the three level dictionary with the conditional probabilities (class, attributes, values)\n",
    "    result={'Class':0,'prob':0}\n",
    "    for cl in classProb.keys():\n",
    "        p=classProb[cl]\n",
    "        for a in newValue.keys():\n",
    "            p=p*condProb[cl][a][newValue[a]]\n",
    "        print('Class:',cl,'has the probability of',p)\n",
    "        if p>result['prob']:\n",
    "            result['Class']=cl\n",
    "            result['prob']=p\n",
    "    return result\n",
    "    "
   ]
  },
  {
   "cell_type": "markdown",
   "metadata": {},
   "source": [
    "Now let's test our classification with some tuples of the table:"
   ]
  },
  {
   "cell_type": "markdown",
   "metadata": {},
   "source": [
    "1. A tuple that exists only once in the table"
   ]
  },
  {
   "cell_type": "code",
   "execution_count": null,
   "metadata": {},
   "outputs": [],
   "source": [
    "values={'A':0,'B':0,'C':0}\n",
    "print(\"The classification should be 1\")\n",
    "result= classify(values,classProbability,probability)\n",
    "print(\"The resulting class is\",result['Class'],'with probability:',result['prob'])"
   ]
  },
  {
   "cell_type": "markdown",
   "metadata": {},
   "source": [
    "2. A tuple that has 2 occurences with the same class:"
   ]
  },
  {
   "cell_type": "code",
   "execution_count": null,
   "metadata": {},
   "outputs": [],
   "source": [
    "values={'A':0,'B':1,'C':1}\n",
    "print(\"The classification should be 0\")\n",
    "result= classify(values,classProbability,probability)\n",
    "print(\"The resulting class is\",result['Class'],'with probability:',result['prob'])"
   ]
  },
  {
   "cell_type": "markdown",
   "metadata": {},
   "source": [
    "3. A tuple that has three occurences with different classes. "
   ]
  },
  {
   "cell_type": "code",
   "execution_count": null,
   "metadata": {},
   "outputs": [],
   "source": [
    "values={'A':1,'B':0,'C':1}\n",
    "print(\"The tuple values have once class 1 and twice class 0\")\n",
    "result= classify(values,classProbability,probability)\n",
    "print(\"The resulting class is\",result['Class'],'with probability:',result['prob'])"
   ]
  },
  {
   "cell_type": "markdown",
   "metadata": {},
   "source": [
    "The tuple is not classified as expected. Please check the probability values to validate above result."
   ]
  },
  {
   "cell_type": "markdown",
   "metadata": {},
   "source": [
    "4. A new tuple"
   ]
  },
  {
   "cell_type": "code",
   "execution_count": null,
   "metadata": {},
   "outputs": [],
   "source": [
    "values={'A':0,'B':1,'C':0}\n",
    "print(\"This tuple is new\")\n",
    "result= classify(values,classProbability,probability)\n",
    "print(\"The resulting class is\",result['Class'],'with probability:',result['prob'])"
   ]
  },
  {
   "cell_type": "markdown",
   "metadata": {},
   "source": [
    "And here we have now a problem. In the original data we did not have any sample, that has class `0` and a value of `0` for `C`. Therefore the conditional probability of $p(C=0|0)$ is 0."
   ]
  },
  {
   "cell_type": "markdown",
   "metadata": {},
   "source": [
    "# 5. Improved Classifier"
   ]
  },
  {
   "cell_type": "markdown",
   "metadata": {},
   "source": [
    "In order to overcome such problems, we can add (as equally proposed in the video) a 1 ($\\alpha$) to all counts. We may do this during the definition of `count`:"
   ]
  },
  {
   "cell_type": "code",
   "execution_count": null,
   "metadata": {},
   "outputs": [],
   "source": [
    "countImproved={1:{'A':{0:1,1:1},'B':{0:1,1:1},'C':{0:1,1:1}},0:{'A':{0:1,1:1},'B':{0:1,1:1},'C':{0:1,1:1}}}"
   ]
  },
  {
   "cell_type": "markdown",
   "metadata": {},
   "source": [
    "Please note, that the total number of values as well as the count of the class values must be corrected accordingly. In each class we added a count of 6 and must thus define the values as:"
   ]
  },
  {
   "cell_type": "code",
   "execution_count": null,
   "metadata": {},
   "outputs": [],
   "source": [
    "classCountImproved={1:6,0:6}\n",
    "totalNumberImproved=12"
   ]
  },
  {
   "cell_type": "markdown",
   "metadata": {},
   "source": [
    "We can equally use the same lists:"
   ]
  },
  {
   "cell_type": "code",
   "execution_count": null,
   "metadata": {},
   "outputs": [],
   "source": [
    "attributeNames=['A','B','C']\n",
    "classNames=[0,1]\n",
    "attributeValues=[0,1]"
   ]
  },
  {
   "cell_type": "markdown",
   "metadata": {
    "tags": []
   },
   "source": [
    "**Task 1**: Please repeat the counting of the attribute values per class using the `countImproved` data structure."
   ]
  },
  {
   "cell_type": "code",
   "execution_count": null,
   "metadata": {
    "tags": []
   },
   "outputs": [],
   "source": [
    "# your code\n",
    "for row in data:\n",
    "    # the class (1 (+) or 0 (-) ) is stored in the fourth column at index 3\n",
    "    \n",
    "    # now we go through the three columns with the attribute values, i is the index of the columns\n",
    "    for i in range(len(attributeNames)): \n",
    "        # first let's retrieve the attribute name (index i of the names list)\n",
    "        \n",
    "        # and the value of the attribute (in index i)\n",
    "        \n",
    "        # and now we use theClass - theAttribute - theValue as the keys for the three level dictionary\n",
    "        # and increment the counter\n",
    "        \n",
    "    # after we finished looking at all attribute values, we finished one occurence and increment the\n",
    "    # corresponding counter for the class\n",
    "    classCountImproved[theClass]+=1\n",
    "    # and for the total numbers\n",
    "    totalNumberImproved+=1"
   ]
  },
  {
   "cell_type": "markdown",
   "metadata": {},
   "source": [
    "**Task 2:** Please calculate the new probabilities."
   ]
  },
  {
   "cell_type": "markdown",
   "metadata": {},
   "source": [
    "The dictionary definition for the probabilities remains unchanged:"
   ]
  },
  {
   "cell_type": "code",
   "execution_count": null,
   "metadata": {
    "tags": []
   },
   "outputs": [],
   "source": [
    "probabilityImproved={1:{'A':{0:0,1:0},'B':{0:0,1:0},'C':{0:0,1:0}},0:{'A':{0:0,1:0},'B':{0:0,1:0},'C':{0:0,1:0}}}\n",
    "classProbabilityImproved={1:0,0:0}"
   ]
  },
  {
   "cell_type": "code",
   "execution_count": null,
   "metadata": {},
   "outputs": [],
   "source": [
    "# for the class probabilities\n",
    "# your code\n",
    "for cl in classNames:\n",
    "    # please replace the 1 in the following assignment by the correct code\n",
    "    classProbabilityImproved[cl]=1"
   ]
  },
  {
   "cell_type": "code",
   "execution_count": null,
   "metadata": {},
   "outputs": [],
   "source": [
    "# for the conditional probabilities\n",
    "# your code\n",
    "for cl in classNamesImproved:\n",
    "    for a in attributeNames:\n",
    "        for v in attributeValues:\n",
    "            # replace the following assignment\n",
    "            probabilityImproved[cl][a][v]=countImproved[cl][a][v]\n",
    "            "
   ]
  },
  {
   "cell_type": "code",
   "execution_count": null,
   "metadata": {},
   "outputs": [],
   "source": [
    "probabilityImproved\n"
   ]
  },
  {
   "cell_type": "markdown",
   "metadata": {},
   "source": [
    "Please repeat above tests by using the newly calculated probabilities:\n"
   ]
  },
  {
   "cell_type": "markdown",
   "metadata": {},
   "source": [
    "**Test 1:** A tuple that exists only once in the table"
   ]
  },
  {
   "cell_type": "code",
   "execution_count": null,
   "metadata": {},
   "outputs": [],
   "source": [
    "values={'A':0,'B':0,'C':0}\n",
    "print(\"The classification should be 1\")\n",
    "# classify the tuple"
   ]
  },
  {
   "cell_type": "markdown",
   "metadata": {},
   "source": [
    "**Test 2:** A tuple that has 2 occurences with the same class:"
   ]
  },
  {
   "cell_type": "code",
   "execution_count": null,
   "metadata": {},
   "outputs": [],
   "source": [
    "values={'A':0,'B':1,'C':1}\n",
    "print(\"The classification should be 0\")\n",
    "# classify the tuple"
   ]
  },
  {
   "cell_type": "markdown",
   "metadata": {},
   "source": [
    "**Test 3:** A tuple that has three occurences with different classes. "
   ]
  },
  {
   "cell_type": "code",
   "execution_count": null,
   "metadata": {},
   "outputs": [],
   "source": [
    "values={'A':1,'B':0,'C':1}\n",
    "print(\"The tuple values have once class 1 and twice class 0\")\n",
    "# classify the tuple"
   ]
  },
  {
   "cell_type": "markdown",
   "metadata": {},
   "source": [
    "**Test 4:** A new tuple"
   ]
  },
  {
   "cell_type": "code",
   "execution_count": null,
   "metadata": {},
   "outputs": [],
   "source": [
    "values={'A':0,'B':1,'C':0}\n",
    "print(\"This tuple is new\")\n",
    "# classify the tuple"
   ]
  },
  {
   "cell_type": "markdown",
   "metadata": {},
   "source": [
    "\n",
    "*End of the Notebook*"
   ]
  },
  {
   "cell_type": "markdown",
   "metadata": {
    "deletable": false,
    "editable": false
   },
   "source": [
    "<a rel=\"license\" href=\"http://creativecommons.org/licenses/by-nc-nd/4.0/\"><img alt=\"Creative Commons License\" style=\"border-width:0\" src=\"https://i.creativecommons.org/l/by-nc-nd/4.0/88x31.png\" /></a><br />This notebook was created by Christina B. Class for teaching at EAH Jena and is licensed under a <a rel=\"license\" href=\"http://creativecommons.org/licenses/by-nc-nd/4.0/\">Creative Commons Attribution-NonCommercial-NoDerivatives 4.0 International License</a>."
   ]
  }
 ],
 "metadata": {
  "kernelspec": {
   "display_name": "Python 3 (ipykernel)",
   "language": "python",
   "name": "python3"
  },
  "language_info": {
   "codemirror_mode": {
    "name": "ipython",
    "version": 3
   },
   "file_extension": ".py",
   "mimetype": "text/x-python",
   "name": "python",
   "nbconvert_exporter": "python",
   "pygments_lexer": "ipython3",
   "version": "3.10.13"
  }
 },
 "nbformat": 4,
 "nbformat_minor": 4
}
