{
 "cells": [
  {
   "cell_type": "markdown",
   "metadata": {},
   "source": [
    "**Section 8: Clusters**\n",
    "\n",
    "Notebook for \"Introduction to Data Science and Machine Learning\"\n",
    "\n",
    "version 1.0, June 21 2024\n",
    "\n"
   ]
  },
  {
   "cell_type": "markdown",
   "metadata": {},
   "source": [
    "# 1.  Preparations"
   ]
  },
  {
   "cell_type": "markdown",
   "metadata": {},
   "source": [
    "`import` statements required for this notebook."
   ]
  },
  {
   "cell_type": "code",
   "execution_count": null,
   "metadata": {},
   "outputs": [],
   "source": [
    "import matplotlib.pyplot as plt\n",
    "import seaborn as sns\n",
    "import pandas as pd\n",
    "from sklearn.cluster import KMeans\n",
    "from sklearn.metrics import silhouette_score"
   ]
  },
  {
   "cell_type": "markdown",
   "metadata": {},
   "source": [
    "And import some functions written for this notebook:"
   ]
  },
  {
   "cell_type": "code",
   "execution_count": null,
   "metadata": {
    "tags": []
   },
   "outputs": [],
   "source": [
    "from modules.ClusterFunctions import * "
   ]
  },
  {
   "cell_type": "markdown",
   "metadata": {},
   "source": [
    "The function `plotClusters()` plots clusters with the centers."
   ]
  },
  {
   "cell_type": "code",
   "execution_count": null,
   "metadata": {},
   "outputs": [],
   "source": [
    "help(plotClusters)"
   ]
  },
  {
   "cell_type": "markdown",
   "metadata": {},
   "source": [
    "# 2. Introduction"
   ]
  },
  {
   "cell_type": "markdown",
   "metadata": {},
   "source": [
    "In this notebook you will work with **k-means clustering**. Contrary to the algorithms we discussed so far in the practical sessions (regression and different classification algorithms), **clustering** is an unsupervised learning algorithm , i.e. our data is not labeled. \n",
    "\n",
    "Therefore the main task of this assignment is to learn different clusters for different data sets to observe the influence of $k$. We will equally use the propsed graphical method to create an elbow plot and make an estimate for $k$."
   ]
  },
  {
   "cell_type": "markdown",
   "metadata": {},
   "source": [
    "# 3. Cluster Analysis"
   ]
  },
  {
   "cell_type": "markdown",
   "metadata": {},
   "source": [
    "First we load the data frame and use a `pandas` function:"
   ]
  },
  {
   "cell_type": "code",
   "execution_count": null,
   "metadata": {},
   "outputs": [],
   "source": [
    "df=pd.read_csv('data/example1_data.csv')"
   ]
  },
  {
   "cell_type": "markdown",
   "metadata": {},
   "source": [
    "In order to get to know the data, we create a simple scatter plot."
   ]
  },
  {
   "cell_type": "code",
   "execution_count": null,
   "metadata": {},
   "outputs": [],
   "source": [
    "# retrieve the columns names\n",
    "cols=df.columns\n",
    "# plot the data\n",
    "plt.plot(df[cols[0]],df[cols[1]],'.')\n",
    "# label the x and y axis with the column names    \n",
    "plt.xlabel(cols[0])\n",
    "plt.ylabel(cols[1])"
   ]
  },
  {
   "cell_type": "markdown",
   "metadata": {},
   "source": [
    "This data can obviously be separated into two clusters. To create a cluster, we first need to crate an instance of the estimator `KMeans`. We specify the number of clusters, i.e.$k$ as well as a random state (to be able to repeat the algorithm with different valus for $k$)."
   ]
  },
  {
   "cell_type": "markdown",
   "metadata": {},
   "source": [
    "The result of the clustering depends on the initial centroids (cluster centers). Those are selected randomly. `KMeans` sets the centroids randomly. The clustering process is repeated several times and then the best result, in terms of *inertia* (sum of squared distances of samples to their closest cluster center) is selected. The number of consecutives runs is defined in `n_init`. It was set to 10, with `sklean` version 1.4 this default value is changed to 1.4. For compatibility reason we will use the old default value here."
   ]
  },
  {
   "cell_type": "code",
   "execution_count": null,
   "metadata": {},
   "outputs": [],
   "source": [
    "kmeans=KMeans(n_clusters=2,random_state=10,n_init=10)"
   ]
  },
  {
   "cell_type": "markdown",
   "metadata": {},
   "source": [
    "And we apply the algoritm on our data:"
   ]
  },
  {
   "cell_type": "code",
   "execution_count": null,
   "metadata": {},
   "outputs": [],
   "source": [
    "kmeans.fit(df)"
   ]
  },
  {
   "cell_type": "markdown",
   "metadata": {},
   "source": [
    "Now we call the function `plotClusters()`"
   ]
  },
  {
   "cell_type": "code",
   "execution_count": null,
   "metadata": {},
   "outputs": [],
   "source": [
    "plotClusters(df=df,model=kmeans)"
   ]
  },
  {
   "cell_type": "markdown",
   "metadata": {},
   "source": [
    "Our function equally allows for the plotting of the cluster centers:"
   ]
  },
  {
   "cell_type": "code",
   "execution_count": null,
   "metadata": {},
   "outputs": [],
   "source": [
    "plotClusters(df=df,model=kmeans,draw_center=True)"
   ]
  },
  {
   "cell_type": "markdown",
   "metadata": {},
   "source": [
    "And their annotation:"
   ]
  },
  {
   "cell_type": "code",
   "execution_count": null,
   "metadata": {},
   "outputs": [],
   "source": [
    "plotClusters(df=df,model=kmeans,draw_center=True,annotate_centers=True)"
   ]
  },
  {
   "cell_type": "markdown",
   "metadata": {},
   "source": [
    "Using `save=True` and a filename you may also save the plot."
   ]
  },
  {
   "cell_type": "markdown",
   "metadata": {},
   "source": [
    "Now let's look at some information the estimator. The values of the cluster means are stored in `cluster_centers_`: "
   ]
  },
  {
   "cell_type": "code",
   "execution_count": null,
   "metadata": {},
   "outputs": [],
   "source": [
    "print(kmeans.cluster_centers_)"
   ]
  },
  {
   "cell_type": "markdown",
   "metadata": {},
   "source": [
    "`inertia_` is the sum of squared disctances of the samples to the nearest cluster centers. We can try to reduce this sum. Please note that we talk of disctances and not squared errors, as this is an **unsupervised** learning method and we do not know the ground truth."
   ]
  },
  {
   "cell_type": "code",
   "execution_count": null,
   "metadata": {},
   "outputs": [],
   "source": [
    "print(kmeans.inertia_)"
   ]
  },
  {
   "cell_type": "markdown",
   "metadata": {},
   "source": [
    "The overall silhouette coefficient is calculated a using the `silhouette_score()` method."
   ]
  },
  {
   "cell_type": "code",
   "execution_count": null,
   "metadata": {
    "tags": []
   },
   "outputs": [],
   "source": [
    "silhouette=silhouette_score(df, kmeans.fit_predict(df))"
   ]
  },
  {
   "cell_type": "markdown",
   "metadata": {},
   "source": [
    "Now let's take a look at the result of learning three clusters:"
   ]
  },
  {
   "cell_type": "code",
   "execution_count": null,
   "metadata": {
    "scrolled": true
   },
   "outputs": [],
   "source": [
    "kmeans2=KMeans(n_clusters=3,random_state=10,n_init=10)\n",
    "kmeans2.fit(df)\n",
    "plotClusters(df,kmeans2,legend=False,draw_center=True)\n",
    "silhouette2=silhouette_score(df, kmeans2.fit_predict(df))"
   ]
  },
  {
   "cell_type": "code",
   "execution_count": null,
   "metadata": {},
   "outputs": [],
   "source": [
    "print('sum of squared distances (2 clusters):', kmeans.inertia_)\n",
    "print('sum of squared distances (3 clusters):', kmeans2.inertia_)\n",
    "print('overall silhouette score (2 clusters):',silhouette)\n",
    "print('overall silhouette score (3 clusters):',silhouette2)"
   ]
  },
  {
   "cell_type": "markdown",
   "metadata": {},
   "source": [
    "The sum of distances was reduced bute the silhouette score was equally reduced. We might equally test four clusters:"
   ]
  },
  {
   "cell_type": "code",
   "execution_count": null,
   "metadata": {},
   "outputs": [],
   "source": [
    "kmeans3=KMeans(n_clusters=4,random_state=10,n_init=10)\n",
    "kmeans3.fit(df)\n",
    "plotClusters(df,kmeans3,legend=False,draw_center=True)\n",
    "silhouette3=silhouette_score(df, kmeans3.fit_predict(df))\n",
    "print('sum of squared distances (2 clusters):', kmeans.inertia_)\n",
    "print('sum of squared distances (3 clusters):', kmeans2.inertia_)\n",
    "print('sum of squared distances (4 clusters):', kmeans2.inertia_)\n",
    "print('overall silhouette score (2 clusters):',silhouette)\n",
    "print('overall silhouette score (3 clusters):',silhouette2)\n",
    "print('overall silhouette score (4 clusters):',silhouette3)"
   ]
  },
  {
   "cell_type": "markdown",
   "metadata": {},
   "source": [
    "The resulting sum of squared distances is the same but teh silhouette score was further reduces. We might now make a test from 1 to 6 clusters. When the number of clusters is set to 1, we get a warning. We simply ignore it. In this case we set the silhouette coefficient to -1, the worst possible value.:"
   ]
  },
  {
   "cell_type": "code",
   "execution_count": null,
   "metadata": {},
   "outputs": [],
   "source": [
    "kValues=list(range(1,7))\n",
    "distances=[]\n",
    "cummulatedDistancesReduction=[0]\n",
    "silhouetteCoefficient=[]\n",
    "for k in kValues:\n",
    "    estimator=KMeans(n_clusters=k,random_state=10,n_init=10)\n",
    "    estimator.fit(df)\n",
    "    distances.append(estimator.inertia_)\n",
    "    if k==1:\n",
    "        silhouetteCoefficient.append(-1)\n",
    "    else:\n",
    "        silhouetteCoefficient.append(silhouette_score(df, estimator.fit_predict(df)))\n",
    "for i in range(1,len(kValues)):\n",
    "    cummulatedDistancesReduction.append(distances[0]-distances[i])"
   ]
  },
  {
   "cell_type": "markdown",
   "metadata": {},
   "source": [
    "And now we plot the result:"
   ]
  },
  {
   "cell_type": "code",
   "execution_count": null,
   "metadata": {},
   "outputs": [],
   "source": [
    "plt.plot(kValues,cummulatedDistancesReduction,'.-')\n",
    "plt.xlabel('k')\n",
    "plt.ylabel('cummulated distances reduction')"
   ]
  },
  {
   "cell_type": "markdown",
   "metadata": {},
   "source": [
    "This \"ellbow\" plot shows nicely that 2 is a good value for $k$."
   ]
  },
  {
   "cell_type": "markdown",
   "metadata": {},
   "source": [
    "Now let's print the silhouette coefficients:"
   ]
  },
  {
   "cell_type": "code",
   "execution_count": null,
   "metadata": {
    "tags": []
   },
   "outputs": [],
   "source": [
    "for i in range(1,7):\n",
    "    print(f\"{i} clusters: silhouette coefficient: {silhouetteCoefficient[i-1]:.3f}\")"
   ]
  },
  {
   "cell_type": "markdown",
   "metadata": {},
   "source": [
    "Based on the silhouette coefficient 2 is euqally a good value for $k$, the number of clusters,"
   ]
  },
  {
   "cell_type": "markdown",
   "metadata": {},
   "source": [
    "Information: The data was artifically generated using `sklearn.datasets.make_blobs()` with two cluster centers."
   ]
  },
  {
   "cell_type": "markdown",
   "metadata": {},
   "source": [
    "# 4. Exercise\n",
    "\n",
    "Use above steps to determine the best $k$ for k-means clustering for the data in the files:\n",
    "- example2_data.csv\n",
    "- example3_data.csv\n",
    "- example4_data.csv\n",
    "- example5_data.csv"
   ]
  },
  {
   "cell_type": "code",
   "execution_count": null,
   "metadata": {
    "tags": []
   },
   "outputs": [],
   "source": [
    "# Your code for example2_data.csv\n",
    "df2=pd.read_csv('data/example2_data.csv')"
   ]
  },
  {
   "cell_type": "code",
   "execution_count": null,
   "metadata": {
    "tags": []
   },
   "outputs": [],
   "source": [
    "# Your code for example3_data.csv\n",
    "df3=pd.read_csv('data/example3_data.csv')"
   ]
  },
  {
   "cell_type": "code",
   "execution_count": null,
   "metadata": {
    "tags": []
   },
   "outputs": [],
   "source": [
    "# Your code for example4_data.csv\n",
    "df4=pd.read_csv('data/example4_data.csv')"
   ]
  },
  {
   "cell_type": "code",
   "execution_count": null,
   "metadata": {
    "tags": []
   },
   "outputs": [],
   "source": [
    "# Your code for example5_data.csv\n",
    "df5=pd.read_csv('data/example5_data.csv')"
   ]
  },
  {
   "cell_type": "markdown",
   "metadata": {},
   "source": [
    "*End of the Notebook*"
   ]
  },
  {
   "cell_type": "markdown",
   "metadata": {
    "deletable": false,
    "editable": false
   },
   "source": [
    "<a rel=\"license\" href=\"http://creativecommons.org/licenses/by-nc-nd/4.0/\"><img alt=\"Creative Commons License\" style=\"border-width:0\" src=\"https://i.creativecommons.org/l/by-nc-nd/4.0/88x31.png\" /></a><br />This notebook was created by Christina B. Class for teaching at EAH Jena and is licensed under a <a rel=\"license\" href=\"http://creativecommons.org/licenses/by-nc-nd/4.0/\">Creative Commons Attribution-NonCommercial-NoDerivatives 4.0 International License</a>."
   ]
  }
 ],
 "metadata": {
  "kernelspec": {
   "display_name": "Python 3 (ipykernel)",
   "language": "python",
   "name": "python3"
  },
  "language_info": {
   "codemirror_mode": {
    "name": "ipython",
    "version": 3
   },
   "file_extension": ".py",
   "mimetype": "text/x-python",
   "name": "python",
   "nbconvert_exporter": "python",
   "pygments_lexer": "ipython3",
   "version": "3.10.13"
  }
 },
 "nbformat": 4,
 "nbformat_minor": 4
}
