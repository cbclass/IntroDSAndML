{
 "cells": [
  {
   "cell_type": "markdown",
   "id": "1e1e76f8",
   "metadata": {
    "deletable": false,
    "editable": false
   },
   "source": [
    "**Section 1: Getting to know your data**\n",
    "\n",
    "Notebook for \"Introduction to Data Science and Machine Learning\"\n",
    "\n",
    "Version 1.1, 15 April 2025"
   ]
  },
  {
   "cell_type": "markdown",
   "id": "34e81f40",
   "metadata": {
    "deletable": false,
    "editable": false
   },
   "source": [
    "# Getting to know your data"
   ]
  },
  {
   "cell_type": "markdown",
   "id": "bd6eee0d",
   "metadata": {
    "deletable": false,
    "editable": false
   },
   "source": [
    "## 1. Data Understanding (CRISP-DM)"
   ]
  },
  {
   "cell_type": "markdown",
   "id": "2e7707b0",
   "metadata": {
    "deletable": false,
    "editable": false
   },
   "source": [
    "In this section we look at methods to get to know the data, i.e. to look at data, get an overview of its statistics and plot data. We equally check whether there are missing values.\n",
    "\n",
    "The purpose of **Data Understanding** is the overview and the documentation of any possible problems. Those are solved in a later step (data preparation). Please make always sure never to modify the original data without having copies."
   ]
  },
  {
   "cell_type": "markdown",
   "id": "7cbb037a",
   "metadata": {
    "deletable": false,
    "editable": false
   },
   "source": [
    "## 2. Introduction"
   ]
  },
  {
   "cell_type": "markdown",
   "id": "803b7bcf",
   "metadata": {
    "deletable": false,
    "editable": false
   },
   "source": [
    "In this notebook you will get to know a basic data structure for data analysis and machine learninge as well as some usefull functions and methods."
   ]
  },
  {
   "cell_type": "markdown",
   "id": "806d0f8a-b3c2-477e-b784-ee5f0bf3a355",
   "metadata": {
    "deletable": false,
    "editable": false
   },
   "source": [
    "A data frame is the basic data structure in the Python module `pandas`. A data frame is a two-dimensional structure that can store data of different data types such as characters, integers, floating point values, and categorical data. One column is named a \"{}data series\"{}. \n",
    "\n",
    "The size of data frames can be modified, columns and rows can be added and deleted. Columns have labels that can be used to access data.\n",
    "\n",
    "Data frames can be created inside code. In this assignment we will use existing data."
   ]
  },
  {
   "cell_type": "markdown",
   "id": "4fc210c7-0088-4ce7-ba06-6874d1bea0ac",
   "metadata": {
    "deletable": false,
    "editable": false
   },
   "source": [
    "Often data is stored in **csv files**. In csv files the column values are separated by commas (thus the name: comma separated values) and rows by a new line. Spreadsheet applications such as LibreOffice Calc and Microsoft Excel can read csv files and store data as csv files. \n",
    "\n",
    "csv files may have a header that displays the column name. A csv file can be read using the function `read_csv()` in Pandas that takes the file name as argument."
   ]
  },
  {
   "cell_type": "markdown",
   "id": "b43cd2d5",
   "metadata": {
    "deletable": false,
    "editable": false
   },
   "source": [
    "Some basic data sets are often equally provided with modules. In this notebook we will use the Iris data set, that was equally presented in the lecture. This data set is ofte used for basic classification tasks. We will use it to introduce some basic functionality. "
   ]
  },
  {
   "cell_type": "markdown",
   "id": "abd21a78",
   "metadata": {
    "deletable": false,
    "editable": false
   },
   "source": [
    "## 3. Importing Required Python Modules"
   ]
  },
  {
   "cell_type": "markdown",
   "id": "e80d71b3",
   "metadata": {
    "deletable": false,
    "editable": false
   },
   "source": [
    "We will need some basic modules:\n",
    "\n",
    "- `pandas` implements the class DataFrame that we get to know in this notebook\n",
    "- `seaborn` provides statistical plots and some basic data sets like the iris flower data set, and\n",
    "- `matplotib.pyplot` provides basic (MATLAB like) plotting functionality.\n",
    "\n",
    "We will thus import all three modules first."
   ]
  },
  {
   "cell_type": "code",
   "execution_count": null,
   "id": "ace3ff19",
   "metadata": {
    "scrolled": true
   },
   "outputs": [],
   "source": [
    "import pandas as pd\n",
    "import seaborn as sns\n",
    "import matplotlib.pyplot as plt"
   ]
  },
  {
   "cell_type": "markdown",
   "id": "239edc9d",
   "metadata": {
    "deletable": false,
    "editable": false
   },
   "source": [
    "## 4. Loading the data"
   ]
  },
  {
   "cell_type": "markdown",
   "id": "702c291b",
   "metadata": {
    "deletable": false,
    "editable": false
   },
   "source": [
    "We will now load the iris data set and store it in a variable `iris`."
   ]
  },
  {
   "cell_type": "code",
   "execution_count": null,
   "id": "fcdc2ec1",
   "metadata": {},
   "outputs": [],
   "source": [
    "iris=sns.load_dataset('iris')"
   ]
  },
  {
   "cell_type": "markdown",
   "id": "90b1e867",
   "metadata": {
    "deletable": false,
    "editable": false
   },
   "source": [
    "And quickly display the variable."
   ]
  },
  {
   "cell_type": "code",
   "execution_count": null,
   "id": "01b6eb03",
   "metadata": {
    "scrolled": true
   },
   "outputs": [],
   "source": [
    "iris"
   ]
  },
  {
   "cell_type": "markdown",
   "id": "142eb7db",
   "metadata": {
    "deletable": false,
    "editable": false
   },
   "source": [
    "**Question:**\n",
    "\n",
    "How many rows and columns does the `iris` data frame have? What are the types of the columns? Can you make a guess?"
   ]
  },
  {
   "cell_type": "markdown",
   "id": "ad97161d-a2e7-4475-8111-abcd3de812d1",
   "metadata": {
    "deletable": false
   },
   "source": [
    "**Answer:**\n",
    "\n"
   ]
  },
  {
   "cell_type": "markdown",
   "id": "7773f6ee",
   "metadata": {
    "deletable": false,
    "editable": false
   },
   "source": [
    "## 5. Getting to know the data"
   ]
  },
  {
   "cell_type": "markdown",
   "id": "8354ec19",
   "metadata": {
    "deletable": false,
    "editable": false
   },
   "source": [
    "`iris` is a `pandas` data frame (https://pandas.pydata.org/pandas-docs/stable/reference/api/pandas.DataFrame.html). Pandas data frames offer many functionality in form of methods. Methods are like functions that are bound to specific objects. \n",
    "\n",
    "Methods are called as `variableName.method(parameter list)`.\n",
    "\n",
    "You have already seen methods of lists. Let `theList` be an object of the `list` class, then the method `append()` is called as \n",
    "\n",
    "`theList.append(12)`.\n",
    "\n",
    "In the following a list of basic methods of pandas data frames is specified. Please call the methods in the code cells for the variable `iris`, observe the output and make a note in the cell (in form of a comment). If you have problems with the methods, you find the pandas documentation at: https://pandas.pydata.org/docs/reference/frame.html"
   ]
  },
  {
   "cell_type": "markdown",
   "id": "c6f7b5ef",
   "metadata": {
    "deletable": false,
    "editable": false
   },
   "source": [
    "- the method `head()` to **display the top 5 rows**. If you pass an integer value `n` as parameter (`head(n)`), the top `n` rows are displayed. "
   ]
  },
  {
   "cell_type": "code",
   "execution_count": null,
   "id": "5b1916ff",
   "metadata": {},
   "outputs": [],
   "source": [
    "# call the method for the iris data frame\n"
   ]
  },
  {
   "cell_type": "markdown",
   "id": "9541f508",
   "metadata": {
    "deletable": false,
    "editable": false
   },
   "source": [
    "- the method `tail()` to **view the bottom rows**. If you pass an integer value `n` as parameter, the bottom `n` rows are displayed. "
   ]
  },
  {
   "cell_type": "code",
   "execution_count": null,
   "id": "51cb11ff",
   "metadata": {},
   "outputs": [],
   "source": [
    "# call the method for the iris data frame\n"
   ]
  },
  {
   "cell_type": "code",
   "execution_count": null,
   "id": "ade9297b",
   "metadata": {},
   "outputs": [],
   "source": [
    "# call the method for the iris data frame to display the bottom three rows\n"
   ]
  },
  {
   "cell_type": "markdown",
   "id": "733d6a08",
   "metadata": {
    "deletable": false,
    "editable": false
   },
   "source": [
    "- Attributes of objects are accessed using the variable name and a dot followed by the attribute name: `variableName.attributeName`.\n",
    "<p>Display the following attribute values (using the `print()` function) and describe their values in a comment:</p>\n",
    "\n",
    "    - `index`\n",
    "    - `columns`\n",
    "    - `shape`\n",
    "    - `axes`\n"
   ]
  },
  {
   "cell_type": "code",
   "execution_count": null,
   "id": "c1f7b92c",
   "metadata": {},
   "outputs": [],
   "source": [
    "# display the values of the attributes\n"
   ]
  },
  {
   "cell_type": "markdown",
   "id": "120aae33",
   "metadata": {
    "deletable": false,
    "editable": false
   },
   "source": [
    "- the method `info()` summarizes information about the data frame."
   ]
  },
  {
   "cell_type": "code",
   "execution_count": null,
   "id": "777fa96d",
   "metadata": {},
   "outputs": [],
   "source": [
    "# call the method for the iris data frame\n"
   ]
  },
  {
   "cell_type": "markdown",
   "id": "8677692c",
   "metadata": {
    "deletable": false,
    "editable": false
   },
   "source": [
    "- the method `describe()` gives a statistical overview of the numerical data."
   ]
  },
  {
   "cell_type": "code",
   "execution_count": null,
   "id": "037d86c5",
   "metadata": {},
   "outputs": [],
   "source": [
    "# call the method for the iris data frame\n"
   ]
  },
  {
   "cell_type": "markdown",
   "id": "b15202d2",
   "metadata": {
    "deletable": false,
    "editable": false
   },
   "source": [
    "## 6. Accessing data in the data frame"
   ]
  },
  {
   "cell_type": "markdown",
   "id": "d87e339c",
   "metadata": {
    "deletable": false,
    "editable": false
   },
   "source": [
    "Data Columns (series) can be easily accessed using the column name like an attribute:"
   ]
  },
  {
   "cell_type": "code",
   "execution_count": null,
   "id": "82717b36",
   "metadata": {},
   "outputs": [],
   "source": [
    "iris.sepal_length"
   ]
  },
  {
   "cell_type": "markdown",
   "id": "810c56b7",
   "metadata": {
    "deletable": false,
    "editable": false
   },
   "source": [
    "The column name can equally be used inside `[]` to access the series. Don't forget to use quotation marks around the column name."
   ]
  },
  {
   "cell_type": "code",
   "execution_count": null,
   "id": "16b04215",
   "metadata": {},
   "outputs": [],
   "source": [
    "iris['sepal_length']"
   ]
  },
  {
   "cell_type": "markdown",
   "id": "bbfdbf8b",
   "metadata": {
    "deletable": false,
    "editable": false
   },
   "source": [
    "`loc` can be used to access single elements (rows) or to create slices:"
   ]
  },
  {
   "cell_type": "code",
   "execution_count": null,
   "id": "e7b69c6d",
   "metadata": {},
   "outputs": [],
   "source": [
    "#second row\n",
    "iris.loc[1]"
   ]
  },
  {
   "cell_type": "code",
   "execution_count": null,
   "id": "681fa8c0",
   "metadata": {},
   "outputs": [],
   "source": [
    "#second row\n",
    "iris.loc[1,'sepal_length']"
   ]
  },
  {
   "cell_type": "code",
   "execution_count": null,
   "id": "07c5ecb4",
   "metadata": {
    "scrolled": true
   },
   "outputs": [],
   "source": [
    "# the firsth three rows\n",
    "iris.loc[0:2]"
   ]
  },
  {
   "cell_type": "markdown",
   "id": "0107d16d",
   "metadata": {
    "deletable": false,
    "editable": false
   },
   "source": [
    "Please note that the slice indices are **inclusive**."
   ]
  },
  {
   "cell_type": "code",
   "execution_count": null,
   "id": "f0ed649d",
   "metadata": {},
   "outputs": [],
   "source": [
    "# rows 10 to 15, petal_length and petal_width\n",
    "iris.loc[10:15,['petal_length', 'petal_width']]"
   ]
  },
  {
   "cell_type": "markdown",
   "id": "052f60bb",
   "metadata": {
    "deletable": false,
    "editable": false
   },
   "source": [
    "We can use boolean values in an index vector to access data.\n",
    "The third quartile, Q3, of sepal_length is 6.4. Let's create a boolean array that has `True` if the length is > 6.4, `False` otherwise:"
   ]
  },
  {
   "cell_type": "code",
   "execution_count": null,
   "id": "4f6464cc",
   "metadata": {},
   "outputs": [],
   "source": [
    "booleanArray=iris.sepal_length>6.4"
   ]
  },
  {
   "cell_type": "code",
   "execution_count": null,
   "id": "8c3c43ac",
   "metadata": {},
   "outputs": [],
   "source": [
    "print(booleanArray)"
   ]
  },
  {
   "cell_type": "markdown",
   "id": "fa598a17",
   "metadata": {
    "deletable": false,
    "editable": false
   },
   "source": [
    "We can now use this array to display/access only the rows where sepal_length is > 6.4:"
   ]
  },
  {
   "cell_type": "code",
   "execution_count": null,
   "id": "8b988d83",
   "metadata": {},
   "outputs": [],
   "source": [
    "iris.loc[booleanArray]"
   ]
  },
  {
   "cell_type": "markdown",
   "id": "bd8b1296",
   "metadata": {
    "deletable": false,
    "editable": false
   },
   "source": [
    "or store the result in a new data frame:"
   ]
  },
  {
   "cell_type": "code",
   "execution_count": null,
   "id": "2ec3bdc2",
   "metadata": {},
   "outputs": [],
   "source": [
    "largeSepalLength=iris.loc[booleanArray]"
   ]
  },
  {
   "cell_type": "markdown",
   "id": "d5a85735",
   "metadata": {
    "deletable": false,
    "editable": false
   },
   "source": [
    "Let's check by displaying the statistics:"
   ]
  },
  {
   "cell_type": "code",
   "execution_count": null,
   "id": "0acd7043",
   "metadata": {},
   "outputs": [],
   "source": [
    "largeSepalLength.describe()"
   ]
  },
  {
   "cell_type": "markdown",
   "id": "44548ad9",
   "metadata": {
    "deletable": false,
    "editable": false
   },
   "source": [
    "With `iloc` access to columns and rows is possible in the same way as with `numpy` arrays: "
   ]
  },
  {
   "cell_type": "code",
   "execution_count": null,
   "id": "fbb96f76",
   "metadata": {},
   "outputs": [],
   "source": [
    "iris.iloc[1:3,:]"
   ]
  },
  {
   "cell_type": "markdown",
   "id": "99c39bc6",
   "metadata": {
    "deletable": false,
    "editable": false
   },
   "source": [
    "Please note, the (end-)index in `iloc` is **exclusive**!\n",
    "\n",
    "Values in the data frame are accessed with `iloc` using the index. "
   ]
  },
  {
   "cell_type": "markdown",
   "id": "6f3a889c",
   "metadata": {
    "deletable": false,
    "editable": false
   },
   "source": [
    "By contrast the (end-)index in `loc` is **inclusive**!"
   ]
  },
  {
   "cell_type": "code",
   "execution_count": null,
   "id": "d276c105",
   "metadata": {},
   "outputs": [],
   "source": [
    "iris.loc[1:3,:]"
   ]
  },
  {
   "cell_type": "markdown",
   "id": "0db83a68",
   "metadata": {
    "deletable": false,
    "editable": false
   },
   "source": [
    "`loc` enables the access to columns using columns names also."
   ]
  },
  {
   "cell_type": "code",
   "execution_count": null,
   "id": "cb67467f",
   "metadata": {},
   "outputs": [],
   "source": [
    "iris.loc[1:3,'sepal_width']\n"
   ]
  },
  {
   "cell_type": "markdown",
   "id": "a2e06557",
   "metadata": {
    "deletable": false,
    "editable": false
   },
   "source": [
    "Use lists to access different columns by names or equally specific rows:"
   ]
  },
  {
   "cell_type": "code",
   "execution_count": null,
   "id": "3aefec7b",
   "metadata": {},
   "outputs": [],
   "source": [
    "iris.loc[1:3,['sepal_width','petal_width']]\n"
   ]
  },
  {
   "cell_type": "code",
   "execution_count": null,
   "id": "e0349dc0",
   "metadata": {},
   "outputs": [],
   "source": [
    "iris.loc[[2,4,6,8],['sepal_width','petal_width']]\n"
   ]
  },
  {
   "cell_type": "markdown",
   "id": "90bbe768",
   "metadata": {
    "deletable": false,
    "editable": false
   },
   "source": [
    "## 7. Calculations"
   ]
  },
  {
   "cell_type": "markdown",
   "id": "43327fd6",
   "metadata": {
    "deletable": false,
    "editable": false
   },
   "source": [
    "It is possible to use arithmetic operations in data frames. As the `iris` data frame is very large, let's shortly take a look at the example of https://pandas.pydata.org/docs/reference/api/pandas.DataFrame.div.html.\n",
    "In the example you see how a (small) data frame can be defined directly."
   ]
  },
  {
   "cell_type": "code",
   "execution_count": null,
   "id": "1af53aee",
   "metadata": {},
   "outputs": [],
   "source": [
    "df = pd.DataFrame({'angles': [0, 3, 4],\n",
    "                   'degrees': [360, 180, 360]},\n",
    "                  index=['circle', 'triangle', 'rectangle'])"
   ]
  },
  {
   "cell_type": "code",
   "execution_count": null,
   "id": "8cd0e622",
   "metadata": {},
   "outputs": [],
   "source": [
    "df"
   ]
  },
  {
   "cell_type": "markdown",
   "id": "104f2369",
   "metadata": {
    "deletable": false,
    "editable": false
   },
   "source": [
    "Just let's test some arithmetic operations:\n"
   ]
  },
  {
   "cell_type": "code",
   "execution_count": null,
   "id": "75987737",
   "metadata": {},
   "outputs": [],
   "source": [
    "df+1"
   ]
  },
  {
   "cell_type": "code",
   "execution_count": null,
   "id": "307a2ee6",
   "metadata": {},
   "outputs": [],
   "source": [
    "df-1"
   ]
  },
  {
   "cell_type": "code",
   "execution_count": null,
   "id": "edbd6e3a",
   "metadata": {},
   "outputs": [],
   "source": [
    "df*[2,0.5]"
   ]
  },
  {
   "cell_type": "code",
   "execution_count": null,
   "id": "1a01813c",
   "metadata": {},
   "outputs": [],
   "source": [
    "df+[-1,-100]"
   ]
  },
  {
   "cell_type": "markdown",
   "id": "ef1b93ae",
   "metadata": {
    "deletable": false,
    "editable": false
   },
   "source": [
    "Please check out the documentation for more detailed information about the operations as well as how to apply the opertions on the different axes."
   ]
  },
  {
   "cell_type": "markdown",
   "id": "cc53637d",
   "metadata": {
    "deletable": false,
    "editable": false
   },
   "source": [
    "## 8. Empty cells"
   ]
  },
  {
   "cell_type": "markdown",
   "id": "8527d9cf",
   "metadata": {
    "deletable": false,
    "editable": false
   },
   "source": [
    "Please load the file `NATest.csv` as follows:"
   ]
  },
  {
   "cell_type": "code",
   "execution_count": null,
   "id": "b04e0ebb",
   "metadata": {},
   "outputs": [],
   "source": [
    "data=pd.read_csv('../NATest.csv')"
   ]
  },
  {
   "cell_type": "code",
   "execution_count": null,
   "id": "ef06ee93",
   "metadata": {},
   "outputs": [],
   "source": [
    "data"
   ]
  },
  {
   "cell_type": "markdown",
   "id": "4d44fe9a",
   "metadata": {
    "deletable": false,
    "editable": false
   },
   "source": [
    "Let's taka a look:"
   ]
  },
  {
   "cell_type": "code",
   "execution_count": null,
   "id": "cd8f4c22",
   "metadata": {},
   "outputs": [],
   "source": [
    "data.info()"
   ]
  },
  {
   "cell_type": "markdown",
   "id": "a6e18a75",
   "metadata": {
    "deletable": false,
    "editable": false
   },
   "source": [
    "`NaN` indicates that the respective cell has no value, is empty. Methods like `sum()`, `mean()`, `median()`, `cumsum()` etc. (please check the documentation for a complete list of the functions) can deal with these values and will work only on existing data:"
   ]
  },
  {
   "cell_type": "code",
   "execution_count": null,
   "id": "b8739e61",
   "metadata": {},
   "outputs": [],
   "source": [
    "data['Value 1'].sum()"
   ]
  },
  {
   "cell_type": "code",
   "execution_count": null,
   "id": "e32d04f1",
   "metadata": {},
   "outputs": [],
   "source": [
    "data['Value 1'].cumsum()"
   ]
  },
  {
   "cell_type": "code",
   "execution_count": null,
   "id": "2d051a54",
   "metadata": {},
   "outputs": [],
   "source": [
    "data['Value 1'].mean()"
   ]
  },
  {
   "cell_type": "code",
   "execution_count": null,
   "id": "3767bc44",
   "metadata": {},
   "outputs": [],
   "source": [
    "data.describe()"
   ]
  },
  {
   "cell_type": "markdown",
   "id": "41b94b24",
   "metadata": {
    "deletable": false,
    "editable": false
   },
   "source": [
    "To test a value for `NaN`, the comparison operator `==` is not working. You need to apply the method `isna()` or `notna()`:"
   ]
  },
  {
   "cell_type": "code",
   "execution_count": null,
   "id": "926d439f",
   "metadata": {},
   "outputs": [],
   "source": [
    "data['Value 1'].isna()"
   ]
  },
  {
   "cell_type": "code",
   "execution_count": null,
   "id": "79d4c60b",
   "metadata": {
    "scrolled": true
   },
   "outputs": [],
   "source": [
    "data['Value 2'].notna()"
   ]
  },
  {
   "cell_type": "markdown",
   "id": "f395dff4",
   "metadata": {
    "deletable": false,
    "editable": false
   },
   "source": [
    "We can thus count the `NaN` values by simply using the `sum()` method:"
   ]
  },
  {
   "cell_type": "code",
   "execution_count": null,
   "id": "1e272d85",
   "metadata": {},
   "outputs": [],
   "source": [
    "print('Value 1 has',data['Value 1'].isna().sum(),'NaN values')"
   ]
  },
  {
   "cell_type": "markdown",
   "id": "608a7cf5",
   "metadata": {
    "deletable": false,
    "editable": false
   },
   "source": [
    "## 9. Plots"
   ]
  },
  {
   "cell_type": "markdown",
   "id": "53b1eb78",
   "metadata": {
    "deletable": false,
    "editable": false
   },
   "source": [
    "The examples of this section base on https://pandas.pydata.org/docs/user_guide/visualization.html#visualization-scatter. Check out more examples there."
   ]
  },
  {
   "cell_type": "markdown",
   "id": "c8a42643",
   "metadata": {
    "deletable": false,
    "editable": false
   },
   "source": [
    "Let's go back to the iris data set:"
   ]
  },
  {
   "cell_type": "code",
   "execution_count": null,
   "id": "a713a7f2",
   "metadata": {},
   "outputs": [],
   "source": [
    "iris=sns.load_dataset('iris')\n",
    "iris.columns"
   ]
  },
  {
   "cell_type": "markdown",
   "id": "ae55731d",
   "metadata": {
    "deletable": false,
    "editable": false
   },
   "source": [
    "A small scatter plot of sepal length versus sepal width:"
   ]
  },
  {
   "cell_type": "code",
   "execution_count": null,
   "id": "f31791b6",
   "metadata": {
    "scrolled": true
   },
   "outputs": [],
   "source": [
    "iris.plot.scatter(x='sepal_length',y='petal_length')"
   ]
  },
  {
   "cell_type": "markdown",
   "id": "97c4d9c0",
   "metadata": {
    "deletable": false,
    "editable": false
   },
   "source": [
    "Instead of a 3-D plot the value of a third dimension, here the petal width, can be added as color coding."
   ]
  },
  {
   "cell_type": "code",
   "execution_count": null,
   "id": "bcddc62c",
   "metadata": {},
   "outputs": [],
   "source": [
    "iris.info()"
   ]
  },
  {
   "cell_type": "code",
   "execution_count": null,
   "id": "9f165deb",
   "metadata": {},
   "outputs": [],
   "source": [
    "iris.plot.scatter(x='sepal_length',y='petal_length',c='petal_width')"
   ]
  },
  {
   "cell_type": "markdown",
   "id": "0e18bb92",
   "metadata": {
    "deletable": false,
    "editable": false
   },
   "source": [
    "We can also use a third value to control the size of the points:"
   ]
  },
  {
   "cell_type": "code",
   "execution_count": null,
   "id": "f0046a62",
   "metadata": {},
   "outputs": [],
   "source": [
    "iris.plot.scatter(x=\"sepal_length\", y=\"sepal_width\", s=iris[\"petal_width\"] * 10);"
   ]
  },
  {
   "cell_type": "markdown",
   "id": "299a3ba5",
   "metadata": {
    "deletable": false,
    "editable": false
   },
   "source": [
    "In order to color the dots according to the classes we need a categorial column for the class. In order not to modify the data, we copy our data frame and modify the copy:"
   ]
  },
  {
   "cell_type": "code",
   "execution_count": null,
   "id": "dac2a8dd",
   "metadata": {},
   "outputs": [],
   "source": [
    "myIris=iris.copy()\n",
    "myIris[\"class\"] = myIris[\"species\"].astype(\"category\")\n",
    "myIris.plot.scatter(x='sepal_length',y='petal_length',c='class',cmap=\"viridis\")"
   ]
  },
  {
   "cell_type": "markdown",
   "id": "8a7d6a5e",
   "metadata": {
    "deletable": false,
    "editable": false
   },
   "source": [
    "We can easily create boxplots for the different attributes."
   ]
  },
  {
   "cell_type": "code",
   "execution_count": null,
   "id": "699a558a",
   "metadata": {},
   "outputs": [],
   "source": [
    "iris.plot.box()"
   ]
  },
  {
   "cell_type": "markdown",
   "id": "a71c9b55",
   "metadata": {
    "deletable": false,
    "editable": false
   },
   "source": [
    "Or a scatter matrix:"
   ]
  },
  {
   "cell_type": "code",
   "execution_count": null,
   "id": "d8055853",
   "metadata": {},
   "outputs": [],
   "source": [
    "from pandas.plotting import scatter_matrix"
   ]
  },
  {
   "cell_type": "code",
   "execution_count": null,
   "id": "c19726de",
   "metadata": {},
   "outputs": [],
   "source": [
    "scatter_matrix(iris, alpha=0.2, figsize=(6, 6), diagonal=\"kde\");"
   ]
  },
  {
   "cell_type": "markdown",
   "id": "3aaaf2de",
   "metadata": {
    "deletable": false,
    "editable": false
   },
   "source": [
    "Seaborn offers additional plotting possiblities. A `hue` parameter allows for coloring the dots according to the class. As we need a categroical attribute, we use our copies data frame `myIris` with the newly created colum:"
   ]
  },
  {
   "cell_type": "code",
   "execution_count": null,
   "id": "ac207c6c",
   "metadata": {},
   "outputs": [],
   "source": [
    "myIris=iris.copy()\n",
    "myIris[\"class\"] = myIris[\"species\"].astype(\"category\")\n",
    "sns.scatterplot(x=myIris.sepal_length,y=myIris.sepal_width,hue=myIris['class'])"
   ]
  },
  {
   "cell_type": "markdown",
   "id": "2452dcc1",
   "metadata": {
    "deletable": false,
    "editable": false
   },
   "source": [
    "## 10. Exercise: The penguin data"
   ]
  },
  {
   "cell_type": "markdown",
   "id": "a8aae1f7",
   "metadata": {
    "deletable": false,
    "editable": false
   },
   "source": [
    "Load the `penguin` data set. Read about it in the internet and use some of above mentioned functions to understand andn plot the data."
   ]
  },
  {
   "cell_type": "code",
   "execution_count": null,
   "id": "568ea276",
   "metadata": {},
   "outputs": [],
   "source": [
    "penguins=sns.load_dataset('penguins')\n",
    "\n",
    "# your code.... enjoy!"
   ]
  },
  {
   "cell_type": "markdown",
   "id": "a2526119",
   "metadata": {
    "deletable": false,
    "editable": false
   },
   "source": [
    "<a rel=\"license\" href=\"http://creativecommons.org/licenses/by-nc-nd/4.0/\"><img alt=\"Creative Commons License\" style=\"border-width:0\" src=\"https://i.creativecommons.org/l/by-nc-nd/4.0/88x31.png\" /></a><br />This notebook was created by Christina B. Class for teaching at EAH Jena and is licensed under a <a rel=\"license\" href=\"http://creativecommons.org/licenses/by-nc-nd/4.0/\">Creative Commons Attribution-NonCommercial-NoDerivatives 4.0 International License</a>."
   ]
  }
 ],
 "metadata": {
  "kernelspec": {
   "display_name": "Python 3 (ipykernel)",
   "language": "python",
   "name": "python3"
  },
  "language_info": {
   "codemirror_mode": {
    "name": "ipython",
    "version": 3
   },
   "file_extension": ".py",
   "mimetype": "text/x-python",
   "name": "python",
   "nbconvert_exporter": "python",
   "pygments_lexer": "ipython3",
   "version": "3.12.2"
  }
 },
 "nbformat": 4,
 "nbformat_minor": 5
}
