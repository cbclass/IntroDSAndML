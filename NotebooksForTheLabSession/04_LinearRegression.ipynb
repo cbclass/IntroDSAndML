{
 "cells": [
  {
   "cell_type": "markdown",
   "id": "1e1e76f8",
   "metadata": {
    "deletable": false,
    "editable": false
   },
   "source": [
    "**Section 4: Linear Regression - Solution**\n",
    "\n",
    "Notebook for \"Introduction to Data Science and Machine Learning\"\n",
    "\n",
    "version 1.0, May 27 2024"
   ]
  },
  {
   "cell_type": "markdown",
   "id": "34e81f40",
   "metadata": {
    "deletable": false,
    "editable": false
   },
   "source": [
    "# Linear Regression"
   ]
  },
  {
   "cell_type": "markdown",
   "id": "f106c586",
   "metadata": {
    "deletable": false,
    "editable": false
   },
   "source": [
    "In this lab we will use functions and carry out a linear regression task. \n",
    "\n",
    "We need the following modules. So please run the following code:"
   ]
  },
  {
   "cell_type": "code",
   "execution_count": null,
   "id": "3fc3fb2e",
   "metadata": {},
   "outputs": [],
   "source": [
    "import pandas as pd\n",
    "import seaborn as sns\n",
    "import numpy as np\n",
    "import matplotlib.pyplot as plt"
   ]
  },
  {
   "cell_type": "markdown",
   "id": "4710a0e1",
   "metadata": {
    "deletable": false,
    "editable": false
   },
   "source": [
    "## 1. Loading the data"
   ]
  },
  {
   "cell_type": "markdown",
   "id": "dee4601c",
   "metadata": {
    "deletable": false,
    "editable": false
   },
   "source": [
    "We load the dataset. We will use one of the data sets that is often recommended for classification tasks."
   ]
  },
  {
   "cell_type": "code",
   "execution_count": null,
   "id": "c332f46f",
   "metadata": {},
   "outputs": [],
   "source": [
    "data=pd.read_csv('data/winequality-red.csv')"
   ]
  },
  {
   "cell_type": "markdown",
   "id": "22e6c7e9",
   "metadata": {
    "deletable": false,
    "editable": false
   },
   "source": [
    "## 2. Getting to know the data\n",
    "\n",
    "Use code you used in former lab assignments:"
   ]
  },
  {
   "cell_type": "markdown",
   "id": "974bd8b4",
   "metadata": {
    "deletable": false,
    "editable": false
   },
   "source": [
    "- Display the first five rows of the data"
   ]
  },
  {
   "cell_type": "code",
   "execution_count": null,
   "id": "4a077ee7",
   "metadata": {},
   "outputs": [],
   "source": [
    "# your code\n"
   ]
  },
  {
   "cell_type": "markdown",
   "id": "799a70f4",
   "metadata": {
    "deletable": false,
    "editable": false
   },
   "source": [
    "- Display the information about the data "
   ]
  },
  {
   "cell_type": "code",
   "execution_count": null,
   "id": "a5eefefb",
   "metadata": {},
   "outputs": [],
   "source": [
    "# your code\n"
   ]
  },
  {
   "cell_type": "markdown",
   "id": "62332a2d",
   "metadata": {
    "deletable": false,
    "editable": false
   },
   "source": [
    "- Display the statistical information of the numerical data"
   ]
  },
  {
   "cell_type": "code",
   "execution_count": null,
   "id": "53c98799",
   "metadata": {
    "scrolled": true
   },
   "outputs": [],
   "source": [
    "# your code\n"
   ]
  },
  {
   "cell_type": "markdown",
   "id": "592fe5c2-f715-41bf-be09-fbb01967447c",
   "metadata": {
    "deletable": false,
    "editable": false
   },
   "source": [
    "This dataset has many features, we will thus solve a **Multivariable Linear Regression** problem."
   ]
  },
  {
   "cell_type": "markdown",
   "id": "ef78d27e",
   "metadata": {
    "deletable": false,
    "editable": false
   },
   "source": [
    "## 3. Data cleaning"
   ]
  },
  {
   "cell_type": "markdown",
   "id": "1ac0b7f3-21f5-4d92-bfe6-4857f402923a",
   "metadata": {
    "deletable": false,
    "editable": false
   },
   "source": [
    "Let's check whether there is any missing data: "
   ]
  },
  {
   "cell_type": "code",
   "execution_count": null,
   "id": "b0debb82-f070-43c5-b785-4b33c7d3d5c8",
   "metadata": {},
   "outputs": [],
   "source": [
    "data.isna().sum()"
   ]
  },
  {
   "cell_type": "markdown",
   "id": "3ff33c71",
   "metadata": {
    "deletable": false,
    "editable": false
   },
   "source": [
    "As we could see above there are no null values. We should now check for duplicate entries. \n"
   ]
  },
  {
   "cell_type": "markdown",
   "id": "da711db2-f81d-4910-9352-75bda6c43ce4",
   "metadata": {
    "deletable": false,
    "editable": false
   },
   "source": [
    "Lets count how many duplicated rows are in the data set. `duplicated()` returns a boolean series denoting duplicate rows."
   ]
  },
  {
   "cell_type": "code",
   "execution_count": null,
   "id": "d71e1472-51e1-41db-a738-c175f6f7005d",
   "metadata": {
    "tags": []
   },
   "outputs": [],
   "source": [
    "# Number of duplicates\n",
    "data.duplicated().sum()"
   ]
  },
  {
   "cell_type": "markdown",
   "id": "dc159d3e-2187-4f8b-b934-90fd20d079d3",
   "metadata": {
    "deletable": false,
    "editable": false
   },
   "source": [
    "We use `inplace=True` in `drop_duplicates()` to modify the data by removing the duplicates, i.e. we modify the data frame. \n",
    "\n",
    "*Please remember that we should do this always with the greatest care!*"
   ]
  },
  {
   "cell_type": "code",
   "execution_count": null,
   "id": "138a50c4",
   "metadata": {},
   "outputs": [],
   "source": [
    "# drop the duplicates in the original data\n",
    "data.drop_duplicates(inplace=True)"
   ]
  },
  {
   "cell_type": "markdown",
   "id": "ce314401-e72c-4227-b699-86e568470d9a",
   "metadata": {
    "deletable": false,
    "editable": false
   },
   "source": [
    "Before we split the data, we take a look at the `quality` attribute. Contrary to the other atrributes it is of type `int32` with few unique values:"
   ]
  },
  {
   "cell_type": "code",
   "execution_count": null,
   "id": "a204b655-c5a3-41d1-a6e1-d209e24f8ba3",
   "metadata": {
    "tags": []
   },
   "outputs": [],
   "source": [
    "data.quality.unique()"
   ]
  },
  {
   "cell_type": "markdown",
   "id": "8e9dce48-a726-4ae7-9295-6c22e6ef3fc6",
   "metadata": {
    "deletable": false,
    "editable": false
   },
   "source": [
    "The `quality` can be seen as a target variable / class. We will not use it in the regression task and thus drop it."
   ]
  },
  {
   "cell_type": "code",
   "execution_count": null,
   "id": "57538918-1f5e-4c65-81bc-93ae0f4b07c2",
   "metadata": {
    "tags": []
   },
   "outputs": [],
   "source": [
    "regressionData=data.drop(columns=['quality'])"
   ]
  },
  {
   "cell_type": "markdown",
   "id": "39e605cf",
   "metadata": {
    "deletable": false,
    "editable": false
   },
   "source": [
    "## 4. Data Splitting"
   ]
  },
  {
   "cell_type": "markdown",
   "id": "6f4bd3e1",
   "metadata": {
    "deletable": false,
    "editable": false
   },
   "source": [
    "In machine learning we normally split our data into several sets:\n",
    "- the training set is used for training\n",
    "- the test set consists of data that have not been used for training and is used to evaluate the quality of the learned model\n",
    "- if there are different parameters to choose from an additional set, a validation set, is used to select the best among different models that is then tested with an idependet data set.\n",
    "\n",
    "The easiest split is splitting the data into 2 sets, the *training* and the *test* set. Data in the training set is used to learn a model (here the linear regression). We then use the test set data (that is unknown to the model) to estimate how good the model is. We will look at this in the lecture. \n",
    "\n",
    "We use the function `train_test_split()` to create random trainings and test subsets.\n",
    "\n",
    "Often the data is split in 70% trainings and 30% test data.\n",
    "\n",
    "Using `random_state` we get reproducible splits."
   ]
  },
  {
   "cell_type": "markdown",
   "id": "ce77ee6a-ed5e-4a6b-8da3-a86ca9a79d38",
   "metadata": {
    "deletable": false,
    "editable": false
   },
   "source": [
    "**Question:** \n",
    "\n",
    "Do you have an idea why \"reproducibility\" might be important?"
   ]
  },
  {
   "cell_type": "markdown",
   "id": "6e568c78-580c-45db-9ef0-d57014a5a3e6",
   "metadata": {
    "deletable": false
   },
   "source": [
    "**Your answer**"
   ]
  },
  {
   "cell_type": "markdown",
   "id": "c410d4e5-2659-4479-ae51-e2f4e7d119af",
   "metadata": {
    "deletable": false,
    "editable": false
   },
   "source": [
    "Now we split the data set into a trainings and a test data set."
   ]
  },
  {
   "cell_type": "code",
   "execution_count": null,
   "id": "6678ed0d",
   "metadata": {},
   "outputs": [],
   "source": [
    "from sklearn.model_selection import train_test_split\n",
    "\n",
    "dfTrain, dfTest=train_test_split(regressionData,train_size=0.7,test_size=0.3,random_state=12)"
   ]
  },
  {
   "cell_type": "markdown",
   "id": "6e06d2aa",
   "metadata": {
    "deletable": false,
    "editable": false
   },
   "source": [
    "Let's take a look at the data set sizes:"
   ]
  },
  {
   "cell_type": "code",
   "execution_count": null,
   "id": "bc99dcb6",
   "metadata": {},
   "outputs": [],
   "source": [
    "print('training set:',dfTrain.shape[0])\n",
    "print('test set:',dfTest.shape[0])"
   ]
  },
  {
   "cell_type": "markdown",
   "id": "87e90e7b",
   "metadata": {
    "deletable": false,
    "editable": false
   },
   "source": [
    "Let's plot the data:"
   ]
  },
  {
   "cell_type": "code",
   "execution_count": null,
   "id": "2ef228ab",
   "metadata": {},
   "outputs": [],
   "source": [
    "# uncomment this code if you want to see the pairplots (it takes some time to display the graph)\n",
    "#sns.pairplot(dfTrain)"
   ]
  },
  {
   "cell_type": "markdown",
   "id": "717e384e",
   "metadata": {
    "deletable": false,
    "editable": false
   },
   "source": [
    "And the correlation matrix."
   ]
  },
  {
   "cell_type": "code",
   "execution_count": null,
   "id": "a197d49c",
   "metadata": {
    "scrolled": true
   },
   "outputs": [],
   "source": [
    "sns.heatmap(data.corr(),cmap='RdBu') # with annot=True the values will be displayed"
   ]
  },
  {
   "cell_type": "markdown",
   "id": "0a604514",
   "metadata": {
    "deletable": false,
    "editable": false
   },
   "source": [
    "## 5. Scaling"
   ]
  },
  {
   "cell_type": "markdown",
   "id": "405d915a",
   "metadata": {
    "deletable": false,
    "editable": false
   },
   "source": [
    "As the range of the values of the features are different we apply scaling. We use the `MinMaxScaler` to perform scaling to the interval $[0,1]$. \n",
    "\n",
    "**Important:** It is important that the training, i.e. the development of the regression model, is completely **independent** of the test data. Therefore, the scaling must **only** base on the trainings data. It is thus performed after splitting the data. "
   ]
  },
  {
   "cell_type": "markdown",
   "id": "7fb00bec",
   "metadata": {
    "deletable": false,
    "editable": false
   },
   "source": [
    "We use the `MinMaxScaler` of `scikit-learn` to perform the scaling. `MinMaxScaler` is a class. We first create a so-called instance of this class, an object, and then we use the object to perform the scaling. The following code shows one example how to apply the `MinMaxScaler`:"
   ]
  },
  {
   "cell_type": "code",
   "execution_count": null,
   "id": "376111c3",
   "metadata": {},
   "outputs": [],
   "source": [
    "# import the class\n",
    "from sklearn.preprocessing import MinMaxScaler\n",
    "\n",
    "# instantiate (=create) a MinMaxScaler object with default characteristics\n",
    "theScaler=MinMaxScaler()\n",
    "\n",
    "# determine minimum and maximum to be used for scaling (initialize the scaler for the \n",
    "# data)\n",
    "theScaler.fit(dfTrain)"
   ]
  },
  {
   "cell_type": "markdown",
   "id": "5b3b99b3-f25e-4667-8aa8-80dd259770d9",
   "metadata": {
    "deletable": false,
    "editable": false
   },
   "source": [
    "Now we can apply the Scaler:"
   ]
  },
  {
   "cell_type": "code",
   "execution_count": null,
   "id": "7480ef71-584d-4629-a417-2a2fcd590f42",
   "metadata": {},
   "outputs": [],
   "source": [
    "# scale the data to [0,1] and store it in a numpy array\n",
    "dfTrainScaled=theScaler.transform(dfTrain)\n",
    "\n",
    "# scale the data to [0,1] and replace the values in the data frame \n",
    "dfTrain[:]=theScaler.transform(dfTrain[:])"
   ]
  },
  {
   "cell_type": "markdown",
   "id": "5a0cc7b9",
   "metadata": {
    "deletable": false,
    "editable": false
   },
   "source": [
    "`dfTrainScaled` is a `numpy` array while `dfTrain` is still a data frame. "
   ]
  },
  {
   "cell_type": "code",
   "execution_count": null,
   "id": "5a73ebb9",
   "metadata": {},
   "outputs": [],
   "source": [
    "print(type(dfTrainScaled),type(dfTrain))"
   ]
  },
  {
   "cell_type": "markdown",
   "id": "47918683",
   "metadata": {
    "deletable": false,
    "editable": false
   },
   "source": [
    "Please display the statistical information of `dfTrain`."
   ]
  },
  {
   "cell_type": "code",
   "execution_count": null,
   "id": "cbe08edc-7484-4567-9b55-9e5b169b795e",
   "metadata": {},
   "outputs": [],
   "source": [
    "# your code"
   ]
  },
  {
   "cell_type": "markdown",
   "id": "daa6f07e-f183-4b0f-bcda-04c30287c47a",
   "metadata": {
    "deletable": false,
    "editable": false
   },
   "source": [
    "Please apply the same scaler model to the test data, and replace the values in the `dfTest` data frame. "
   ]
  },
  {
   "cell_type": "code",
   "execution_count": null,
   "id": "4c538fe7-7083-42a4-acd0-e8b1aa64e7b5",
   "metadata": {},
   "outputs": [],
   "source": [
    "# your code"
   ]
  },
  {
   "cell_type": "markdown",
   "id": "0a69ec8b-9d66-4640-9017-ce7be0e840c6",
   "metadata": {
    "deletable": false,
    "editable": false
   },
   "source": [
    "Now let's take a look at the minimum and maximum values of the columns in the testing and the trainigs data frame."
   ]
  },
  {
   "cell_type": "code",
   "execution_count": null,
   "id": "2bca1172-b4f3-4dfd-ae1e-8594760351a4",
   "metadata": {
    "tags": []
   },
   "outputs": [],
   "source": [
    "minMaxDf=pd.DataFrame([dfTest.min(),dfTrain.min(),dfTest.max(),dfTrain.max()], \n",
    "                      index=[\"test min\",\"train min\", \"test max\",\"train max\"]).T \n",
    "\n",
    "minMaxDf"
   ]
  },
  {
   "cell_type": "markdown",
   "id": "1ebabd80-ca0b-406a-9c02-6764bb1861a7",
   "metadata": {
    "deletable": false,
    "editable": false
   },
   "source": [
    "**Question:** Let's take look at the values:\n",
    "- Is there anything unexpected?\n",
    "- Can you explain the values?"
   ]
  },
  {
   "cell_type": "markdown",
   "id": "019d40f2-bed3-4509-9d2c-e2ef7aade18a",
   "metadata": {
    "deletable": false
   },
   "source": [
    "**Answer:**"
   ]
  },
  {
   "cell_type": "markdown",
   "id": "23c41171",
   "metadata": {
    "deletable": false,
    "editable": false
   },
   "source": [
    "## 6. Regression"
   ]
  },
  {
   "cell_type": "markdown",
   "id": "6472ebd5",
   "metadata": {
    "deletable": false,
    "editable": false
   },
   "source": [
    "The columns of the data frame are:"
   ]
  },
  {
   "cell_type": "code",
   "execution_count": null,
   "id": "326f91af",
   "metadata": {},
   "outputs": [],
   "source": [
    "dfTrain.columns"
   ]
  },
  {
   "cell_type": "markdown",
   "id": "d5f27166",
   "metadata": {
    "deletable": false,
    "editable": false
   },
   "source": [
    "We will build a model for `citric acid`."
   ]
  },
  {
   "cell_type": "markdown",
   "id": "2e5f8725",
   "metadata": {
    "deletable": false,
    "editable": false
   },
   "source": [
    "We first create the `X` and `y` data from `dfTrain`:"
   ]
  },
  {
   "cell_type": "code",
   "execution_count": null,
   "id": "2835f771",
   "metadata": {
    "scrolled": true
   },
   "outputs": [],
   "source": [
    "# copy the data frame to a new one\n",
    "XTrain=dfTrain.copy()\n",
    "\n",
    "# remove the column 'citric acid' from the data frame and store it in a new variable\n",
    "yTrain=XTrain.pop('citric acid')\n",
    "\n",
    "print('shape XTrain',XTrain.shape)\n",
    "print('shape yTrain',yTrain.shape)"
   ]
  },
  {
   "cell_type": "markdown",
   "id": "e296ad09",
   "metadata": {
    "deletable": false,
    "editable": false
   },
   "source": [
    "We now build a linear regression model using the class `LinearRegression` in the module `sklearn.linear_model`. As with the `MinMaxScaler` we need to create an instance first."
   ]
  },
  {
   "cell_type": "code",
   "execution_count": null,
   "id": "3f70a5cf",
   "metadata": {},
   "outputs": [],
   "source": [
    "# import the class\n",
    "from sklearn.linear_model import LinearRegression\n",
    "\n",
    "# instantiate the class, create a regression model\n",
    "lm=LinearRegression()\n"
   ]
  },
  {
   "cell_type": "markdown",
   "id": "da677d34-cb96-45de-bb5a-09f928390e92",
   "metadata": {
    "deletable": false,
    "editable": false
   },
   "source": [
    "And then we train the model:"
   ]
  },
  {
   "cell_type": "code",
   "execution_count": null,
   "id": "26c66638-71e8-4e59-b7f3-325cd14b3aa3",
   "metadata": {},
   "outputs": [],
   "source": [
    "# train the model\n",
    "lm.fit(XTrain,yTrain)"
   ]
  },
  {
   "cell_type": "markdown",
   "id": "dbe629d8-55ce-47af-9306-78518c44a693",
   "metadata": {
    "deletable": false,
    "editable": false
   },
   "source": [
    "Let's display the names of the features used during the training process:"
   ]
  },
  {
   "cell_type": "code",
   "execution_count": null,
   "id": "58a41951",
   "metadata": {},
   "outputs": [],
   "source": [
    "lm.feature_names_in_"
   ]
  },
  {
   "cell_type": "markdown",
   "id": "2974a51a",
   "metadata": {
    "deletable": false,
    "editable": false
   },
   "source": [
    "Now we can display the coefficients that were learned:"
   ]
  },
  {
   "cell_type": "code",
   "execution_count": null,
   "id": "c5e2fe6a",
   "metadata": {},
   "outputs": [],
   "source": [
    "lm.coef_"
   ]
  },
  {
   "cell_type": "markdown",
   "id": "5c7be994",
   "metadata": {
    "deletable": false,
    "editable": false
   },
   "source": [
    "We now use the model to predict data in the test data set. First we need to remove the `citric acid` column from the data:"
   ]
  },
  {
   "cell_type": "code",
   "execution_count": null,
   "id": "3728838c",
   "metadata": {},
   "outputs": [],
   "source": [
    "# copy the data frame to a new one\n",
    "XTest=dfTest.copy()\n",
    "\n",
    "# remove the column 'citric acid' from the data frame and store it in a new variable\n",
    "yTest=XTest.pop('citric acid')\n",
    "\n",
    "print('shape Xtest',XTest.shape)\n",
    "print('shape yTest',yTest.shape)"
   ]
  },
  {
   "cell_type": "markdown",
   "id": "72d34735",
   "metadata": {
    "deletable": false,
    "editable": false
   },
   "source": [
    "And now we use the model to predict the citric acid data:"
   ]
  },
  {
   "cell_type": "code",
   "execution_count": null,
   "id": "ac3de67c",
   "metadata": {},
   "outputs": [],
   "source": [
    "yPredicted=lm.predict(XTest)"
   ]
  },
  {
   "cell_type": "markdown",
   "id": "e2996fe5",
   "metadata": {
    "deletable": false,
    "editable": false
   },
   "source": [
    "And now we can calculate the error and plot them:"
   ]
  },
  {
   "cell_type": "code",
   "execution_count": null,
   "id": "309830de",
   "metadata": {
    "scrolled": true
   },
   "outputs": [],
   "source": [
    "errors=yTest-yPredicted\n",
    "\n",
    "plt.boxplot(errors,vert=False)"
   ]
  },
  {
   "cell_type": "markdown",
   "id": "1b222867",
   "metadata": {
    "deletable": false,
    "editable": false
   },
   "source": [
    "As we have a multivariate linear regression, with 10 features we cannot draw a scatterplot with the residuals as in the \"Gradient Descent\" Lab. "
   ]
  },
  {
   "cell_type": "markdown",
   "id": "23bb23f9-690f-42f3-93b9-9cc1405faf28",
   "metadata": {
    "deletable": false,
    "editable": false
   },
   "source": [
    "In the following plot we thus simply plot the number of the data set on the $x$-axis."
   ]
  },
  {
   "cell_type": "code",
   "execution_count": null,
   "id": "e962762c-4e97-405e-9ea6-206e2d33b226",
   "metadata": {},
   "outputs": [],
   "source": [
    "xNumbers=list(range(1,len(yTest)+1))\n",
    "plt.plot(xNumbers,yTest,'.',label='the data')\n",
    "plt.plot(xNumbers,yPredicted,'.',label='predicted')\n",
    "plt.legend()"
   ]
  },
  {
   "cell_type": "markdown",
   "id": "fc2e1499",
   "metadata": {
    "deletable": false,
    "editable": false
   },
   "source": [
    "Our model does not seem to be very good. Let's take a look at the stastics."
   ]
  },
  {
   "cell_type": "markdown",
   "id": "4e033135",
   "metadata": {
    "deletable": false,
    "editable": false
   },
   "source": [
    "## 7. Statistics of Linear Regression"
   ]
  },
  {
   "cell_type": "markdown",
   "id": "52cbf086",
   "metadata": {
    "deletable": false,
    "editable": false
   },
   "source": [
    "In order to take a look at the statistics of the regression we build the model using the `statsmodels.api`."
   ]
  },
  {
   "cell_type": "code",
   "execution_count": null,
   "id": "2c3c1c0c",
   "metadata": {},
   "outputs": [],
   "source": [
    "import statsmodels.api as sm "
   ]
  },
  {
   "cell_type": "markdown",
   "id": "3999d271",
   "metadata": {
    "deletable": false,
    "editable": false
   },
   "source": [
    "First we add the constant ($x_0$ that is always 1) as an additional feature for the multivariate regression."
   ]
  },
  {
   "cell_type": "code",
   "execution_count": null,
   "id": "98b308a5",
   "metadata": {},
   "outputs": [],
   "source": [
    "# create a copy of the data frame\n",
    "XTrainDF=XTrain.copy()\n",
    "# add the constant\n",
    "XTrainDF = sm.add_constant(XTrainDF)"
   ]
  },
  {
   "cell_type": "markdown",
   "id": "7f84bf4c",
   "metadata": {
    "deletable": false,
    "editable": false
   },
   "source": [
    "Then we train the model using ordinary least square:"
   ]
  },
  {
   "cell_type": "code",
   "execution_count": null,
   "id": "66869504",
   "metadata": {},
   "outputs": [],
   "source": [
    "smLm = sm.OLS(yTrain,XTrainDF).fit()"
   ]
  },
  {
   "cell_type": "markdown",
   "id": "46815253",
   "metadata": {
    "deletable": false,
    "editable": false
   },
   "source": [
    "And we display the statistics:"
   ]
  },
  {
   "cell_type": "code",
   "execution_count": null,
   "id": "8b38e59e",
   "metadata": {},
   "outputs": [],
   "source": [
    "print(smLm.summary())"
   ]
  },
  {
   "cell_type": "markdown",
   "id": "815f04e8-1340-4847-858d-0e39583b7c46",
   "metadata": {
    "deletable": false,
    "editable": false
   },
   "source": [
    "For more information on the statistics please take a look at the document in moodle."
   ]
  },
  {
   "cell_type": "markdown",
   "id": "0793cf33",
   "metadata": {
    "deletable": false,
    "editable": false
   },
   "source": [
    "In above table we see the $R^2$ value of 0.690. The adjusted $R^2$ value is 0.687. "
   ]
  },
  {
   "cell_type": "markdown",
   "id": "945a767e",
   "metadata": {
    "deletable": false,
    "editable": false
   },
   "source": [
    "You might remember that some variables might improve the result of linear regression by chance. Therefore $R^2$ is corrected (adjusted $R²$).\n"
   ]
  },
  {
   "cell_type": "markdown",
   "id": "f7f34f29",
   "metadata": {
    "deletable": false,
    "editable": false
   },
   "source": [
    "## 8. Feature Selection"
   ]
  },
  {
   "cell_type": "markdown",
   "id": "ea7c3649",
   "metadata": {
    "deletable": false,
    "editable": false
   },
   "source": [
    "Above model bases on 10 features. \n",
    "\n",
    "Let's try to reduce the number of features: \n",
    "\n",
    "First we develop a model with 8 features. Of course we should not simply select any eight features but the ones that are most important for the model."
   ]
  },
  {
   "cell_type": "markdown",
   "id": "a435e72d",
   "metadata": {
    "deletable": false,
    "editable": false
   },
   "source": [
    "We use the class `RFE`(recursive feature elimination) in the module `sklearn.feature_selection`."
   ]
  },
  {
   "cell_type": "code",
   "execution_count": null,
   "id": "c07ed837",
   "metadata": {},
   "outputs": [],
   "source": [
    "from sklearn.feature_selection import RFE"
   ]
  },
  {
   "cell_type": "markdown",
   "id": "5b93db62",
   "metadata": {
    "deletable": false,
    "editable": false
   },
   "source": [
    "Now we instantiate the class using the linear regression model we built and asking for  the $n$ most important features. We want to look for the most important 8 features and thus select $n=8$. "
   ]
  },
  {
   "cell_type": "markdown",
   "id": "73774b7b-ee9a-485a-8b19-40aeea349f39",
   "metadata": {
    "deletable": false,
    "editable": false
   },
   "source": [
    "We create a new estimator object. This object takes the traines linear regression model (`LinearRegression`) and the number of features we are interested in as parameters:"
   ]
  },
  {
   "cell_type": "code",
   "execution_count": null,
   "id": "a12fba06",
   "metadata": {},
   "outputs": [],
   "source": [
    "rfe=RFE(lm,n_features_to_select=8)"
   ]
  },
  {
   "cell_type": "markdown",
   "id": "8324d798",
   "metadata": {
    "deletable": false,
    "editable": false
   },
   "source": [
    "And now we apply this estimator object to our trainings data:"
   ]
  },
  {
   "cell_type": "code",
   "execution_count": null,
   "id": "c4835994",
   "metadata": {},
   "outputs": [],
   "source": [
    "rfeObj=rfe.fit(XTrainDF, yTrain)"
   ]
  },
  {
   "cell_type": "markdown",
   "id": "b0775e76",
   "metadata": {
    "deletable": false,
    "editable": false
   },
   "source": [
    "And display the result"
   ]
  },
  {
   "cell_type": "code",
   "execution_count": null,
   "id": "1809c9a3",
   "metadata": {},
   "outputs": [],
   "source": [
    "print(\"{:22} {:7} {:2}\".format(\"column\",\"support\",\"rank\"))\n",
    "for el in list(zip(XTrainDF.columns,rfeObj.support_,rfeObj.ranking_)):\n",
    "    print(f\"{el[0]:22} {str(el[1]):7} {el[2]:2}\")"
   ]
  },
  {
   "cell_type": "markdown",
   "id": "d4282536",
   "metadata": {
    "deletable": false,
    "editable": false
   },
   "source": [
    "We display the support as well as the ranking. The 8 most important features are ranked with 1 and have a support of `True`. We use now this support to reduce the features to the most relevant 8:"
   ]
  },
  {
   "cell_type": "code",
   "execution_count": null,
   "id": "86a8f90e",
   "metadata": {},
   "outputs": [],
   "source": [
    "XTrainDF2=XTrainDF[XTrainDF.columns[rfe.support_]]\n",
    "\n",
    "print(XTrainDF2.columns)\n"
   ]
  },
  {
   "cell_type": "markdown",
   "id": "05b226db",
   "metadata": {
    "deletable": false,
    "editable": false
   },
   "source": [
    "The features might equally have been reduced using `XTrainDF3=rfeObj.transform(XTrainDF)`. The result in this case would be a `numpy` array."
   ]
  },
  {
   "cell_type": "markdown",
   "id": "4c585ac9",
   "metadata": {
    "deletable": false,
    "editable": false
   },
   "source": [
    "Now we can relearn the model and calculate the new statistics:"
   ]
  },
  {
   "cell_type": "code",
   "execution_count": null,
   "id": "167ab03e",
   "metadata": {},
   "outputs": [],
   "source": [
    "XTrainDF2 = sm.add_constant(XTrainDF2)\n",
    "smLm2 = sm.OLS(yTrain,XTrainDF2).fit()\n",
    "print(smLm2.summary())"
   ]
  },
  {
   "cell_type": "markdown",
   "id": "f5c4f1ad-3e23-4276-9ad3-be094b88987a",
   "metadata": {
    "deletable": false,
    "editable": false
   },
   "source": [
    "Our model has the same $R^2$ value."
   ]
  },
  {
   "cell_type": "markdown",
   "id": "21892bbc",
   "metadata": {
    "deletable": false,
    "editable": false
   },
   "source": [
    "## 9.Variance Inflation Factor"
   ]
  },
  {
   "cell_type": "markdown",
   "id": "89f7ce58",
   "metadata": {
    "deletable": false,
    "editable": false
   },
   "source": [
    "When we reduce feature we try to identify the most important ones. If two features have a high linear correlation the model becomes complex and very hard to be interpreted. Therefore, it is sometimes advisable to eliminate one of the two correlating features. The `variance_inflation_factor` helps identifying such features:"
   ]
  },
  {
   "cell_type": "markdown",
   "id": "57ed6c94",
   "metadata": {
    "deletable": false,
    "editable": false
   },
   "source": [
    "First, we import the required class:"
   ]
  },
  {
   "cell_type": "code",
   "execution_count": null,
   "id": "0ffa8fae",
   "metadata": {},
   "outputs": [],
   "source": [
    "from statsmodels.stats.outliers_influence import variance_inflation_factor"
   ]
  },
  {
   "cell_type": "markdown",
   "id": "d54a3c6c",
   "metadata": {
    "deletable": false,
    "editable": false
   },
   "source": [
    "Then we create a data frame with:\n",
    "- the column names\n",
    "- the variance inflation factor for the columns\n"
   ]
  },
  {
   "cell_type": "code",
   "execution_count": null,
   "id": "50720a1a",
   "metadata": {},
   "outputs": [],
   "source": [
    "# calculate the VIF values\n",
    "vifList=[]\n",
    "dfAsNumpy=XTrainDF2.values\n",
    "# for all columns\n",
    "for c in range(XTrainDF2.shape[1]):\n",
    "    vifList.append(variance_inflation_factor(dfAsNumpy,c))\n",
    "vifArray=np.array(vifList)\n",
    "vifArray=vifArray.round(2)\n",
    "\n",
    "# create an empty data frame\n",
    "vif = pd.DataFrame()\n",
    "\n",
    "# create a column features with column names    \n",
    "vif['Features'] = XTrainDF2.columns\n",
    "# create a column VIF with the calculated values\n",
    "vif['VIF']=vifArray\n",
    "# sort the data frame in descending order\n",
    "vif = vif.sort_values(by = \"VIF\", ascending = False)\n",
    "\n",
    "print(vif)"
   ]
  },
  {
   "cell_type": "markdown",
   "id": "eced5f48",
   "metadata": {
    "deletable": false,
    "editable": false
   },
   "source": [
    "It is recommended to eliminate any feature with an VIF larger than 5 (https://www.statsmodels.org/stable/generated/statsmodels.stats.outliers_influence.variance_inflation_factor.html#). We do not have such a feature (remember that const is the intercept)."
   ]
  },
  {
   "cell_type": "markdown",
   "id": "92165b44",
   "metadata": {
    "deletable": false,
    "editable": false
   },
   "source": [
    "## 10. Exercise\n",
    "\n",
    "Repeat the steps in section 6 ff. to create a regression model for `residual sugar`. Do you get better results? How many features should you take into account?"
   ]
  },
  {
   "cell_type": "code",
   "execution_count": null,
   "id": "8ecfc97b-297b-4bcd-a79d-4affbb34ce33",
   "metadata": {},
   "outputs": [],
   "source": [
    "# Your Code"
   ]
  },
  {
   "cell_type": "markdown",
   "id": "a2526119",
   "metadata": {
    "deletable": false,
    "editable": false
   },
   "source": [
    "<a rel=\"license\" href=\"http://creativecommons.org/licenses/by-nc-nd/4.0/\"><img alt=\"Creative Commons License\" style=\"border-width:0\" src=\"https://i.creativecommons.org/l/by-nc-nd/4.0/88x31.png\" /></a><br />This notebook was created by Christina B. Class for teaching at EAH Jena and is licensed under a <a rel=\"license\" href=\"http://creativecommons.org/licenses/by-nc-nd/4.0/\">Creative Commons Attribution-NonCommercial-NoDerivatives 4.0 International License</a>."
   ]
  }
 ],
 "metadata": {
  "kernelspec": {
   "display_name": "Python 3 (ipykernel)",
   "language": "python",
   "name": "python3"
  },
  "language_info": {
   "codemirror_mode": {
    "name": "ipython",
    "version": 3
   },
   "file_extension": ".py",
   "mimetype": "text/x-python",
   "name": "python",
   "nbconvert_exporter": "python",
   "pygments_lexer": "ipython3",
   "version": "3.10.13"
  }
 },
 "nbformat": 4,
 "nbformat_minor": 5
}
