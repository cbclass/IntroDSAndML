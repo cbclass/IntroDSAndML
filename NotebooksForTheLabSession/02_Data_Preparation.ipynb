{
 "cells": [
  {
   "cell_type": "markdown",
   "id": "1e1e76f8",
   "metadata": {},
   "source": [
    "**Section 2: Data Preparation**\n",
    "\n",
    "Notebook for \"Introduction to Data Science and Machine Learning\"\n",
    "\n",
    "version 1.0, April 30 2024"
   ]
  },
  {
   "cell_type": "markdown",
   "id": "b43cd2d5",
   "metadata": {},
   "source": [
    "**Information:**\n",
    "\n",
    "In this task we will work with a data set that offers possibilities of data cleaning. The data set consists of some dummy data that was produced specifically for this lab assignment. So it is not meaningful. "
   ]
  },
  {
   "cell_type": "markdown",
   "id": "abd21a78",
   "metadata": {},
   "source": [
    "## Importing Basic Modules"
   ]
  },
  {
   "cell_type": "markdown",
   "id": "d7d3bafd-23c2-4ca1-8e84-72513f2b7900",
   "metadata": {},
   "source": [
    "We will need some basic modules:\n",
    "\n",
    "- `pandas` implements the data frames we will look at\n",
    "- `seaborn` provides statitical plots and some basic data sets like the iris flower data set, and\n",
    "- `matplotib.pyplot` provides basic (MATLAB like) plotting functionality.\n",
    "\n",
    "We will thus import all four modules first."
   ]
  },
  {
   "cell_type": "code",
   "execution_count": null,
   "id": "ace3ff19",
   "metadata": {},
   "outputs": [],
   "source": [
    "import pandas as pd\n",
    "import seaborn as sns\n",
    "import matplotlib.pyplot as plt\n",
    "import numpy as np\n",
    "from pandas.plotting import scatter_matrix\n",
    "from pandas.api.types import CategoricalDtype"
   ]
  },
  {
   "cell_type": "markdown",
   "id": "34e81f40",
   "metadata": {},
   "source": [
    "# Data Preparation"
   ]
  },
  {
   "cell_type": "markdown",
   "id": "239edc9d",
   "metadata": {},
   "source": [
    "## 1. Loading the data"
   ]
  },
  {
   "cell_type": "markdown",
   "id": "702c291b",
   "metadata": {},
   "source": [
    "We start by loading the dataset. It is defined in a `csv` file so we load it directly to a pandas data frame using `read_csv()`.\n"
   ]
  },
  {
   "cell_type": "code",
   "execution_count": null,
   "id": "fcdc2ec1",
   "metadata": {},
   "outputs": [],
   "source": [
    "data=pd.read_csv('data/dataPreparation.csv')"
   ]
  },
  {
   "cell_type": "code",
   "execution_count": null,
   "id": "01b6eb03",
   "metadata": {},
   "outputs": [],
   "source": [
    "data"
   ]
  },
  {
   "cell_type": "markdown",
   "id": "7773f6ee",
   "metadata": {},
   "source": [
    "## 2. Getting to know the data"
   ]
  },
  {
   "cell_type": "markdown",
   "id": "2f3db646",
   "metadata": {},
   "source": [
    "Please use the code elements you learned in the notebook \"1 Getting to Know the Data\":"
   ]
  },
  {
   "cell_type": "markdown",
   "id": "df1b6740",
   "metadata": {},
   "source": [
    "- Display the first five rows of the data"
   ]
  },
  {
   "cell_type": "code",
   "execution_count": null,
   "id": "521ecc1d",
   "metadata": {},
   "outputs": [],
   "source": []
  },
  {
   "cell_type": "markdown",
   "id": "842f0f41",
   "metadata": {},
   "source": [
    "- Display the information about the data "
   ]
  },
  {
   "cell_type": "code",
   "execution_count": null,
   "id": "f70577a2",
   "metadata": {},
   "outputs": [],
   "source": []
  },
  {
   "cell_type": "markdown",
   "id": "9d2e857c-2f2c-4d47-80c4-26f4bb48e69b",
   "metadata": {},
   "source": [
    "**Questions:**\n",
    "- how many data entries are there?\n",
    "- how many columns are there?\n",
    "- are there any missing values? How many? In which column?"
   ]
  },
  {
   "cell_type": "markdown",
   "id": "5b6e20cb",
   "metadata": {},
   "source": [
    "- Display the statistical information of the numerical data"
   ]
  },
  {
   "cell_type": "markdown",
   "id": "f3534c7f",
   "metadata": {},
   "source": [
    "Execute the following code. Does this plot display useful information?"
   ]
  },
  {
   "cell_type": "code",
   "execution_count": null,
   "id": "dc240898",
   "metadata": {},
   "outputs": [],
   "source": [
    "data.plot.box()"
   ]
  },
  {
   "cell_type": "markdown",
   "id": "002f3eb1",
   "metadata": {},
   "source": [
    "Create a scatter matrix for the data:"
   ]
  },
  {
   "cell_type": "code",
   "execution_count": null,
   "id": "3b701f4e",
   "metadata": {},
   "outputs": [],
   "source": [
    "\n"
   ]
  },
  {
   "cell_type": "markdown",
   "id": "0dca4878",
   "metadata": {},
   "source": [
    "**Question:** Are there any attributes that might be correlated?"
   ]
  },
  {
   "cell_type": "markdown",
   "id": "f0e7d28b",
   "metadata": {},
   "source": [
    "## 3. Filling in missing values"
   ]
  },
  {
   "cell_type": "markdown",
   "id": "a217c232",
   "metadata": {},
   "source": [
    "In the data frame we have missing values: each one value is missing in column `B`, `D` and `E`.\n",
    "\n",
    "We will now look at three different methods to deal with the missing values. As the data set is random, this is used to demonstrate how we could handle missing values. For real data we need of course to carefully investigate the data and make a well informed decision.\n",
    "\n",
    "As a hint we will always mention \"*after careful deliberation we decided to*\"."
   ]
  },
  {
   "cell_type": "markdown",
   "id": "ac1851d8",
   "metadata": {},
   "source": [
    "First we are interested in taking a look at the rows with `na`s. In order to do so we use Boolean indexing. We write a function so we can call it later to easily check whether we solved all problems:"
   ]
  },
  {
   "cell_type": "code",
   "execution_count": null,
   "id": "30e02eb0",
   "metadata": {},
   "outputs": [],
   "source": [
    "def printNARows(data):\n",
    "    # First we create the Boolean mask for na values\n",
    "    mask=pd.isna(data)\n",
    "    # We remember that Boolean values are numeric data types: True has the value of 1 and False of 0\n",
    "    # we now create a vector with the sums of the rows\n",
    "    sums=mask.sum(axis=1)\n",
    "    # and now we select the rows where the sum is >=1 (i.e. there is at least one na)\n",
    "    naFrame=data[sums>0]\n",
    "    print(naFrame)"
   ]
  },
  {
   "cell_type": "code",
   "execution_count": null,
   "id": "297ebf24",
   "metadata": {},
   "outputs": [],
   "source": [
    "# We call the function\n",
    "printNARows(data)"
   ]
  },
  {
   "cell_type": "markdown",
   "id": "7a22df12",
   "metadata": {},
   "source": [
    "We now assume we carefully investigated the rows with the missing data.\n",
    "Lets take a look at the different values of column `B`:"
   ]
  },
  {
   "cell_type": "code",
   "execution_count": null,
   "id": "87eb9b2a",
   "metadata": {},
   "outputs": [],
   "source": [
    "data['B'].unique()"
   ]
  },
  {
   "cell_type": "markdown",
   "id": "7744a619",
   "metadata": {},
   "source": [
    "The values are either `yes` or `no`. We count the values:"
   ]
  },
  {
   "cell_type": "code",
   "execution_count": null,
   "id": "fe972a2e",
   "metadata": {},
   "outputs": [],
   "source": [
    "data['B'].value_counts()"
   ]
  },
  {
   "cell_type": "markdown",
   "id": "d7d2523a",
   "metadata": {},
   "source": [
    "The method `value_counts()` ignores `na`s. *After careful deliberation we decided to* **replace** the `na` with **the most frequent value**, that is a `no`."
   ]
  },
  {
   "cell_type": "code",
   "execution_count": null,
   "id": "37166dcb",
   "metadata": {},
   "outputs": [],
   "source": [
    "data.loc[15,'B']='no'"
   ]
  },
  {
   "cell_type": "markdown",
   "id": "375929f2",
   "metadata": {},
   "source": [
    "And now we again display the `na` rows:"
   ]
  },
  {
   "cell_type": "code",
   "execution_count": null,
   "id": "56dfb66c",
   "metadata": {},
   "outputs": [],
   "source": [
    "printNARows(data)"
   ]
  },
  {
   "cell_type": "markdown",
   "id": "24b8beea",
   "metadata": {},
   "source": [
    "*After careful deliberation we decided to* **replace** the `na` for the `D` value in row 8 **with the mean value** of the column:"
   ]
  },
  {
   "cell_type": "code",
   "execution_count": null,
   "id": "04df319b",
   "metadata": {},
   "outputs": [],
   "source": [
    "data.loc[8,'D']=data['D'].mean()"
   ]
  },
  {
   "cell_type": "markdown",
   "id": "d084cba5",
   "metadata": {},
   "source": [
    "And we check again the `na` rows:"
   ]
  },
  {
   "cell_type": "code",
   "execution_count": null,
   "id": "fa4019c0",
   "metadata": {},
   "outputs": [],
   "source": [
    "printNARows(data)"
   ]
  },
  {
   "cell_type": "markdown",
   "id": "371a64c3",
   "metadata": {},
   "source": [
    "Unfortunately we cannot solve the problem with the last `na`. We assume that this is an indication for an errorneous data collection so *after careful deliberation we decided to* **drop the whole row**:"
   ]
  },
  {
   "cell_type": "code",
   "execution_count": null,
   "id": "55d8a8bc",
   "metadata": {},
   "outputs": [],
   "source": [
    "dataNoNA=data.dropna()\n",
    "printNARows(dataNoNA)"
   ]
  },
  {
   "cell_type": "markdown",
   "id": "4fcee01c",
   "metadata": {},
   "source": [
    "We will now continue working with `dataNoNA`."
   ]
  },
  {
   "cell_type": "markdown",
   "id": "fc57ce29-863f-4a4c-ab9c-5b3d376396d0",
   "metadata": {
    "tags": []
   },
   "source": [
    "### 3.1 `pandas` Methods"
   ]
  },
  {
   "cell_type": "markdown",
   "id": "0efebbe0-622d-4248-9482-66de6d3c09b8",
   "metadata": {},
   "source": [
    "In our example we looked at `na` values individually and decided what to do. The `pandas` module offers several methods to handle `na`-values automatically:\n",
    "- bfill(): Fill NA/NaN values by using the next valid observation to fill the gap.  (https://pandas.pydata.org/docs/reference/api/pandas.DataFrame.bfill.html)\n",
    "- ffill(): Fill NA/NaN values by propagating the last valid observation to next valid. (https://pandas.pydata.org/docs/reference/api/pandas.DataFrame.ffill.html)\n",
    "- dropna(): Remove missing values. (https://pandas.pydata.org/docs/reference/api/pandas.DataFrame.dropna.html)\n",
    "- fillna(): Fill NA/NaN values using the specified method.(https://pandas.pydata.org/docs/reference/api/pandas.DataFrame.fillna.html)\n",
    "- interpolate(): Fill NaN values using an interpolation method. (https://pandas.pydata.org/docs/reference/api/pandas.DataFrame.interpolate.html)"
   ]
  },
  {
   "cell_type": "markdown",
   "id": "ae0ee59b",
   "metadata": {},
   "source": [
    "## 4. Examining Column `A`"
   ]
  },
  {
   "cell_type": "markdown",
   "id": "3a182bf6",
   "metadata": {},
   "source": [
    "Let's take a look at the boxplot of column `A` alone:"
   ]
  },
  {
   "cell_type": "code",
   "execution_count": null,
   "id": "b8f19a2e",
   "metadata": {},
   "outputs": [],
   "source": [
    "dataNoNA['A'].plot.box()"
   ]
  },
  {
   "cell_type": "markdown",
   "id": "282de3ba",
   "metadata": {},
   "source": [
    "It looks very regular. But this should be no surprise: when we take a closer look at the data, we realize that it is an index. So this column does not contain any specific information. We evaluate the situation and determine that it is not important to keep this index for our analysis. Therefore, we simply **drop the column** (of course if we needed to refer back to the data object, we should keep the index. In this assignment we simply do many things to learn how they are done!) and save the result in a new data frame `df1`. "
   ]
  },
  {
   "cell_type": "code",
   "execution_count": null,
   "id": "8d6962e5",
   "metadata": {},
   "outputs": [],
   "source": [
    "df1=dataNoNA.drop('A',axis=1)"
   ]
  },
  {
   "cell_type": "code",
   "execution_count": null,
   "id": "c4f5a9ea",
   "metadata": {},
   "outputs": [],
   "source": [
    "df1.head()\n"
   ]
  },
  {
   "cell_type": "markdown",
   "id": "2b4e9019",
   "metadata": {},
   "source": [
    "## 5. Examining Column `B`"
   ]
  },
  {
   "cell_type": "markdown",
   "id": "fe08d167",
   "metadata": {},
   "source": [
    "Let's take a look at column `B`. "
   ]
  },
  {
   "cell_type": "code",
   "execution_count": null,
   "id": "d8e5c6a1",
   "metadata": {},
   "outputs": [],
   "source": [
    "df1.B.unique()"
   ]
  },
  {
   "cell_type": "markdown",
   "id": "89c19118",
   "metadata": {},
   "source": [
    "This column has two different values. As `dtype` `object` is specified. But by understanding the data we realize that the data is categorical. So we add a new column with categorical data.\n",
    "\n",
    "**Hint**: In fact this categorical data is nominal, as we cannot specify an order."
   ]
  },
  {
   "cell_type": "code",
   "execution_count": null,
   "id": "f73237c4",
   "metadata": {},
   "outputs": [],
   "source": [
    "df1['B_cat']=df1['B'].astype('category')"
   ]
  },
  {
   "cell_type": "code",
   "execution_count": null,
   "id": "0d125f7d",
   "metadata": {},
   "outputs": [],
   "source": [
    "df1.info()"
   ]
  },
  {
   "cell_type": "markdown",
   "id": "d3f090c4-ec43-49a4-b726-c8eb7437cb4a",
   "metadata": {},
   "source": [
    "**Hint:** There is no general rule whether you should keep the original column and add a new one or, after adding the column with categorical B values delete the original B column. In this example we will delete (drop) the original column."
   ]
  },
  {
   "cell_type": "code",
   "execution_count": null,
   "id": "921553d9-34f7-495a-88ee-aeecf2f2badb",
   "metadata": {
    "tags": []
   },
   "outputs": [],
   "source": [
    "df1=df1.drop('B',axis=1)"
   ]
  },
  {
   "cell_type": "markdown",
   "id": "47c4ec8b",
   "metadata": {},
   "source": [
    "## 6. Examining Column `C`"
   ]
  },
  {
   "cell_type": "markdown",
   "id": "46acc3aa",
   "metadata": {},
   "source": [
    "Let's take a look at the boxplot for column `C`."
   ]
  },
  {
   "cell_type": "code",
   "execution_count": null,
   "id": "5ac27164",
   "metadata": {},
   "outputs": [],
   "source": [
    "df1.C.plot.box()"
   ]
  },
  {
   "cell_type": "markdown",
   "id": "9ce289ed",
   "metadata": {},
   "source": [
    "It really looks a bit weird. When we look at the numerical data (type `int64`) we see that there are only two different values:"
   ]
  },
  {
   "cell_type": "code",
   "execution_count": null,
   "id": "4922a284",
   "metadata": {},
   "outputs": [],
   "source": [
    "df1.C.value_counts()"
   ]
  },
  {
   "cell_type": "markdown",
   "id": "08752667",
   "metadata": {},
   "source": [
    "When investigating the attribute we learn that the values `1` and `0` are not numerical but *ordinal* attributes, with `0` < `1`. We want that the values are treated as categories and not as numbers, as average values, etc., are not defined (i.e. do not make sense). Therefore, we create a new column for the `C` attribute as ordinal type:"
   ]
  },
  {
   "cell_type": "code",
   "execution_count": null,
   "id": "b3cacbc0",
   "metadata": {},
   "outputs": [],
   "source": [
    "cat_dtype = CategoricalDtype(categories=[0,1], ordered=True)\n",
    "\n",
    "df1['C_ord']=df1.C.astype(cat_dtype)"
   ]
  },
  {
   "cell_type": "code",
   "execution_count": null,
   "id": "f127df83",
   "metadata": {},
   "outputs": [],
   "source": [
    "df1.info()"
   ]
  },
  {
   "cell_type": "markdown",
   "id": "8a992693",
   "metadata": {},
   "source": [
    "Please check out the differences."
   ]
  },
  {
   "cell_type": "code",
   "execution_count": null,
   "id": "421f1596",
   "metadata": {},
   "outputs": [],
   "source": [
    "df1.B_cat.dtype"
   ]
  },
  {
   "cell_type": "code",
   "execution_count": null,
   "id": "ce4fe564",
   "metadata": {},
   "outputs": [],
   "source": [
    "df1.C_ord.dtype"
   ]
  },
  {
   "cell_type": "code",
   "execution_count": null,
   "id": "5c0040f2",
   "metadata": {
    "scrolled": true
   },
   "outputs": [],
   "source": [
    "df1.describe()"
   ]
  },
  {
   "cell_type": "markdown",
   "id": "03bb4336-0e6d-41c1-bbf2-ec25175415e5",
   "metadata": {},
   "source": [
    "**Hint:** We will equally drop the original C column, as we do not one any average values for the ordinal values 0 and 1 to be displayed in a summary like the one above."
   ]
  },
  {
   "cell_type": "code",
   "execution_count": null,
   "id": "f16cc4f3-ab1e-406d-99f2-8ceadb5153db",
   "metadata": {
    "tags": []
   },
   "outputs": [],
   "source": [
    "df1=df1.drop('C',axis=1)"
   ]
  },
  {
   "cell_type": "markdown",
   "id": "c80337ec",
   "metadata": {},
   "source": [
    "## 7. Examining Columns `D` and `E` "
   ]
  },
  {
   "cell_type": "markdown",
   "id": "61d5c0ba",
   "metadata": {},
   "source": [
    "The columns `D` and `E` are numerical floating point data. We can take a look at the boxplots. In order to only display the boxplots for those two data, we need to create a new data frame"
   ]
  },
  {
   "cell_type": "code",
   "execution_count": null,
   "id": "e3f2b098",
   "metadata": {},
   "outputs": [],
   "source": [
    "(df1.loc[:,['D','E']]).plot.box()"
   ]
  },
  {
   "cell_type": "markdown",
   "id": "f11b0106-e69d-4482-a676-1de3f17cdcf7",
   "metadata": {},
   "source": [
    "## 8. Examining the `age` column"
   ]
  },
  {
   "cell_type": "markdown",
   "id": "5c39658d",
   "metadata": {},
   "source": [
    "Column `age` contains the age in form of an integer. Let's take a look at the boxplot:\n"
   ]
  },
  {
   "cell_type": "code",
   "execution_count": null,
   "id": "0f7ec699-87b8-4b28-85fd-b29afb846950",
   "metadata": {
    "tags": []
   },
   "outputs": [],
   "source": [
    "(df1.loc[:,['age']]).plot.box()"
   ]
  },
  {
   "cell_type": "markdown",
   "id": "df15eeea-92d1-4464-85e7-c8c30cff7584",
   "metadata": {},
   "source": [
    "This looks weird. So lets check the statistical summary of data:\n"
   ]
  },
  {
   "cell_type": "code",
   "execution_count": null,
   "id": "4fec8ab2-83f1-41a0-954c-b82e3a1339ca",
   "metadata": {
    "tags": []
   },
   "outputs": [],
   "source": [
    "df1.age.describe()"
   ]
  },
  {
   "cell_type": "markdown",
   "id": "95e5766f-118d-4d49-91eb-c1189611e136",
   "metadata": {},
   "source": [
    "We have a negative `age` value which is apparently wrong. "
   ]
  },
  {
   "cell_type": "markdown",
   "id": "de576486-b74d-4c2e-be79-11d45d8a21c4",
   "metadata": {},
   "source": [
    "Now let's take a look at the row(s) with a negative age:"
   ]
  },
  {
   "cell_type": "code",
   "execution_count": null,
   "id": "b69a4988-8840-46ca-856d-a49897eb402c",
   "metadata": {
    "tags": []
   },
   "outputs": [],
   "source": [
    "df1.loc[df1.age<0,:]"
   ]
  },
  {
   "cell_type": "markdown",
   "id": "205adb02-b564-4351-8b79-78e6d0b34728",
   "metadata": {},
   "source": [
    "We see that it is one single row. There must be a data entry error. We do not know, how to fix it, so we drow the row:\n"
   ]
  },
  {
   "cell_type": "code",
   "execution_count": null,
   "id": "834d6433-43e3-460f-b05f-fbc4b83f1b78",
   "metadata": {
    "tags": []
   },
   "outputs": [],
   "source": [
    "df1=df1.drop(16,axis=0)"
   ]
  },
  {
   "cell_type": "markdown",
   "id": "4208dd8d-f09a-4b1e-b803-a61d8c7b170f",
   "metadata": {},
   "source": [
    "and check the result:"
   ]
  },
  {
   "cell_type": "code",
   "execution_count": null,
   "id": "d6a43dfc-9c12-4bd3-acc8-eacc6af7ecda",
   "metadata": {
    "tags": []
   },
   "outputs": [],
   "source": [
    "df1.age.describe()"
   ]
  },
  {
   "cell_type": "markdown",
   "id": "22d1ef00-e99d-4b42-885b-fcd95c61ace1",
   "metadata": {},
   "source": [
    "A histogram might be helpful to display the age disctribution: "
   ]
  },
  {
   "cell_type": "code",
   "execution_count": null,
   "id": "f3a5c8b7",
   "metadata": {
    "scrolled": true
   },
   "outputs": [],
   "source": [
    "sns.histplot(df1.age,kde=True)"
   ]
  },
  {
   "cell_type": "markdown",
   "id": "2751ba9f",
   "metadata": {},
   "source": [
    "## 9. Examining the column `gender`"
   ]
  },
  {
   "cell_type": "markdown",
   "id": "52c870dd",
   "metadata": {},
   "source": [
    "Now let's take a look at the column `gender`. First we will display the unique values:"
   ]
  },
  {
   "cell_type": "code",
   "execution_count": null,
   "id": "2ba2bef1",
   "metadata": {},
   "outputs": [],
   "source": [
    "df1.gender.unique()"
   ]
  },
  {
   "cell_type": "markdown",
   "id": "a085c1ef",
   "metadata": {},
   "source": [
    "And here we see now a problem that might be a result of data entry: `F` and `female` are both values for  `female`. `M`, `m` and `male` are all values for `male`. Additionally the attribute is an `object` and not a category.\n",
    "\n",
    "First we will fix the wrong entries by replacing the values with the correct values.\n",
    "\n",
    "To do so we use the method `replace()`. Using the parameter `inplace=True` we modify the original data frame."
   ]
  },
  {
   "cell_type": "code",
   "execution_count": null,
   "id": "2045861a",
   "metadata": {},
   "outputs": [],
   "source": [
    "df1.replace({\"gender\":{\"F\":\"female\",\"M\":\"male\",\"m\":\"male\"}}, inplace=True)"
   ]
  },
  {
   "cell_type": "markdown",
   "id": "688f17bd-0de0-4961-b1ac-fa95498e007f",
   "metadata": {},
   "source": [
    "The `replace()` method expects a dictionary. A dictionary ist defined inside `{}` and consists of key-value pairs. First the key is specified followed by a `:` and the value.\n",
    "In above code we state that we want to apply the `replace()` method to the column `gender`. As value we specify a second dictionary that contains as keys the values to be replaces and as values the new values. So we state that \"F\" should be replaced by \"female\", \"M\" by \"male\" and \"m\" by \"male\". The singe key-value pairs are separated by commas. \n",
    "\n",
    "We coulds equally specify values in other columns to be replaced.\n",
    "\n",
    "With the keyword argument `inplace=True` we speciify that the values should be replaced in the original data frame and not on a copy, that would then be returned by the method."
   ]
  },
  {
   "cell_type": "markdown",
   "id": "b6c7c168",
   "metadata": {},
   "source": [
    "And we control the result:"
   ]
  },
  {
   "cell_type": "code",
   "execution_count": null,
   "id": "14f595d2",
   "metadata": {},
   "outputs": [],
   "source": [
    "df1.gender.unique()"
   ]
  },
  {
   "cell_type": "markdown",
   "id": "c2dae4b2",
   "metadata": {},
   "source": [
    "Now we need to modify the type of the column to a category (not an ordinal value). Please proceed as explained above and create a new column named `genderCat` and drop the origial `gender` category:"
   ]
  },
  {
   "cell_type": "code",
   "execution_count": null,
   "id": "e2a14ec5",
   "metadata": {},
   "outputs": [],
   "source": [
    "# your solution\n"
   ]
  },
  {
   "cell_type": "markdown",
   "id": "76962703-b201-4a51-8820-2760c899371e",
   "metadata": {},
   "source": [
    "Let's check the result:"
   ]
  },
  {
   "cell_type": "code",
   "execution_count": null,
   "id": "0e5ea2a6-9595-4145-b6aa-044c04b9dc19",
   "metadata": {
    "tags": []
   },
   "outputs": [],
   "source": [
    "df1.info()"
   ]
  },
  {
   "cell_type": "markdown",
   "id": "5e4192f2",
   "metadata": {},
   "source": [
    "## 9. Examining the column `country`"
   ]
  },
  {
   "cell_type": "markdown",
   "id": "5b704228",
   "metadata": {},
   "source": [
    "Let's take a look at the values of the column `country`:"
   ]
  },
  {
   "cell_type": "code",
   "execution_count": null,
   "id": "786040c3",
   "metadata": {},
   "outputs": [],
   "source": [
    "df1.country.unique()"
   ]
  },
  {
   "cell_type": "markdown",
   "id": "d8762aec",
   "metadata": {},
   "source": [
    "Here we equally have the problem of errornous entries. Please correct the wrong entries as above. Use `India`, `Germany`, `France` and `UK` as the correct entries: "
   ]
  },
  {
   "cell_type": "code",
   "execution_count": null,
   "id": "d5aeb3fe",
   "metadata": {},
   "outputs": [],
   "source": [
    "# your solution\n"
   ]
  },
  {
   "cell_type": "markdown",
   "id": "187fb57d-a1ce-4064-8f46-e88239be6945",
   "metadata": {},
   "source": [
    "Let's check the solution:"
   ]
  },
  {
   "cell_type": "code",
   "execution_count": null,
   "id": "1877c8e4-4dd1-4a74-8768-75d2324cb878",
   "metadata": {
    "tags": []
   },
   "outputs": [],
   "source": [
    "df1.country.unique()"
   ]
  },
  {
   "cell_type": "markdown",
   "id": "e64d5f8c",
   "metadata": {},
   "source": [
    "Let's count the data objects per value:"
   ]
  },
  {
   "cell_type": "code",
   "execution_count": null,
   "id": "3b3d4926",
   "metadata": {},
   "outputs": [],
   "source": [
    "df1.country.value_counts()"
   ]
  },
  {
   "cell_type": "markdown",
   "id": "72799605",
   "metadata": {},
   "source": [
    "And now let's create a plot that displays the counts of the country data"
   ]
  },
  {
   "cell_type": "code",
   "execution_count": null,
   "id": "4b300230",
   "metadata": {},
   "outputs": [],
   "source": [
    "sns.countplot(df1,x='country')"
   ]
  },
  {
   "cell_type": "markdown",
   "id": "b161a1a3",
   "metadata": {},
   "source": [
    "We can now distinguish the number of counts per gender (please ignore the Furure Warning):"
   ]
  },
  {
   "cell_type": "code",
   "execution_count": null,
   "id": "8c42253e",
   "metadata": {},
   "outputs": [],
   "source": [
    "sns.countplot(df1,x='country',hue='genderCat')"
   ]
  },
  {
   "cell_type": "markdown",
   "id": "bd974e5d",
   "metadata": {},
   "source": [
    "Here we can, e.g. see, that the gender distribution differs significantly per country. (Keep in mind, this is just an artificial data set for this lab assignment, so this does not really mean anything.)"
   ]
  },
  {
   "cell_type": "markdown",
   "id": "50df6a66-7ae0-47bc-89ea-ac202afdd8cc",
   "metadata": {},
   "source": [
    "We can equally display the percentage:"
   ]
  },
  {
   "cell_type": "code",
   "execution_count": null,
   "id": "c74bd3be-2223-46b9-9746-bfb12c1190d6",
   "metadata": {
    "tags": []
   },
   "outputs": [],
   "source": [
    "sns.countplot(df1,x='country',hue='genderCat',stat=\"percent\")"
   ]
  },
  {
   "cell_type": "markdown",
   "id": "b7ba8892",
   "metadata": {},
   "source": [
    "Now we want to modify the type of the `country` column. The `country` shall be (for whatever reason) an ordinal attribute. The order is defined by the population size in descending order (India, Germany, UK, France). "
   ]
  },
  {
   "cell_type": "code",
   "execution_count": null,
   "id": "5c1304f4",
   "metadata": {},
   "outputs": [],
   "source": [
    "# Your solution"
   ]
  },
  {
   "cell_type": "markdown",
   "id": "ab293e08",
   "metadata": {},
   "source": [
    "## 10. Some statistical information"
   ]
  },
  {
   "cell_type": "markdown",
   "id": "857ed6e1",
   "metadata": {},
   "source": [
    "As already seen, we display statistical information for numeric / quantitative attributes using `describe()`:"
   ]
  },
  {
   "cell_type": "code",
   "execution_count": null,
   "id": "3fe0e393",
   "metadata": {},
   "outputs": [],
   "source": [
    "df1.describe()"
   ]
  },
  {
   "cell_type": "markdown",
   "id": "bea59909",
   "metadata": {},
   "source": [
    "Let's take a look at the mean values of `D` and `E`:"
   ]
  },
  {
   "cell_type": "code",
   "execution_count": null,
   "id": "4becd0b9",
   "metadata": {},
   "outputs": [],
   "source": [
    "df1[['D','E']].mean()"
   ]
  },
  {
   "cell_type": "markdown",
   "id": "78dc2ec6",
   "metadata": {},
   "source": [
    "With `groupby()` we can calculate this information (or the sum or the minimum etc) per one attribute, e.g. the county:"
   ]
  },
  {
   "cell_type": "code",
   "execution_count": null,
   "id": "dd7c8e30",
   "metadata": {},
   "outputs": [],
   "source": [
    "df1.groupby('country')[['D','E']].mean()"
   ]
  },
  {
   "cell_type": "markdown",
   "id": "22854459",
   "metadata": {},
   "source": [
    "`groupby()` equally works on different levels:"
   ]
  },
  {
   "cell_type": "code",
   "execution_count": null,
   "id": "dad39445",
   "metadata": {
    "scrolled": true
   },
   "outputs": [],
   "source": [
    "df1.groupby(['country','genderCat','B_cat'], observed=False)[[\"D\",\"E\"]].mean()"
   ]
  },
  {
   "cell_type": "markdown",
   "id": "138c1362",
   "metadata": {},
   "source": [
    "In two lines you can see an `NaN`. This indicates that there are no data object with the respective values of country, gender and `B`. This is not displayed if we set observed to `True`."
   ]
  },
  {
   "cell_type": "code",
   "execution_count": null,
   "id": "8ef8cc34-f228-4595-a5cb-66253f347c39",
   "metadata": {
    "tags": []
   },
   "outputs": [],
   "source": [
    "df1.groupby(['country','genderCat','B_cat'],observed=True)[[\"D\",\"E\"]].mean()"
   ]
  },
  {
   "cell_type": "markdown",
   "id": "d4afe9b7",
   "metadata": {},
   "source": [
    "Many Machine Learning algorithms cannot cope with multivalues categorical attributes. For this reason often one hot encoding is used to "
   ]
  },
  {
   "cell_type": "code",
   "execution_count": null,
   "id": "243090a1",
   "metadata": {},
   "outputs": [],
   "source": [
    "df1New=pd.get_dummies(data=df1,columns=[\"country\"])"
   ]
  },
  {
   "cell_type": "code",
   "execution_count": null,
   "id": "00b4e152-02c4-4d3b-a10c-a23787a856cc",
   "metadata": {
    "tags": []
   },
   "outputs": [],
   "source": [
    "df1New"
   ]
  },
  {
   "cell_type": "markdown",
   "id": "9f2f5290-8afc-464c-84d4-f75843b843bf",
   "metadata": {},
   "source": [
    "Now we can store the cleaned data frame to a **csv* file:"
   ]
  },
  {
   "cell_type": "code",
   "execution_count": null,
   "id": "9ebc21e9-8d7a-48c6-b119-40dd4f0d3827",
   "metadata": {
    "tags": []
   },
   "outputs": [],
   "source": [
    "df1New.to_csv(\"cleanedData.csv\")"
   ]
  },
  {
   "cell_type": "markdown",
   "id": "95ea1ed7-57ef-4f2f-a215-150c63712df6",
   "metadata": {},
   "source": [
    "**Further Information:**\n",
    "\n",
    "Often it is important to identify duplcates and remove them. `pandas` offers the following methods:\n",
    "- `duplicated()`: Return boolean Series denoting duplicate rows. Considering certain columns is optional. https://pandas.pydata.org/pandas-docs/stable/reference/api/pandas.DataFrame.duplicated.html\n",
    "- `drop_duplicates()`: Return DataFrame with duplicate rows removed. Considering certain columns is optional. Indexes, including time indexes are ignored. https://pandas.pydata.org/pandas-docs/stable/reference/api/pandas.DataFrame.drop_duplicates.html\n",
    "\n",
    "It is highly recommended to first look at the duplicates before dropping them. Not all duplicates that are identified by `pandas` automatically are indeed duplicates that can be dropped."
   ]
  },
  {
   "cell_type": "markdown",
   "id": "621ca096",
   "metadata": {},
   "source": [
    "## Exercise"
   ]
  },
  {
   "cell_type": "markdown",
   "id": "1f86d1af",
   "metadata": {},
   "source": [
    "Please load the file `dataPreparation_Exercise.csv`. It is an artificially created data set with information on course, study hours for the final oral examination, gender, country of origin, age and grades.\n",
    "\n",
    "Check out `nan` values and discuss possible actions, clean the data, transform categorical values to categories and get to know the data set. There are duplicate data rows. Create some plots and summarize statistical information using `groupby()`.\n",
    "\n",
    "Enjoy!"
   ]
  },
  {
   "cell_type": "code",
   "execution_count": null,
   "id": "00ff1aea",
   "metadata": {},
   "outputs": [],
   "source": [
    "# Your Code\n",
    "data2=pd.read_csv('data/dataPreparation_Exercise.csv')\n"
   ]
  },
  {
   "cell_type": "markdown",
   "id": "a2526119",
   "metadata": {
    "deletable": false,
    "editable": false
   },
   "source": [
    "<a rel=\"license\" href=\"http://creativecommons.org/licenses/by-nc-nd/4.0/\"><img alt=\"Creative Commons License\" style=\"border-width:0\" src=\"https://i.creativecommons.org/l/by-nc-nd/4.0/88x31.png\" /></a><br />This notebook was created by Christina B. Class for teaching at EAH Jena and is licensed under a <a rel=\"license\" href=\"http://creativecommons.org/licenses/by-nc-nd/4.0/\">Creative Commons Attribution-NonCommercial-NoDerivatives 4.0 International License</a>."
   ]
  }
 ],
 "metadata": {
  "kernelspec": {
   "display_name": "Python 3 (ipykernel)",
   "language": "python",
   "name": "python3"
  },
  "language_info": {
   "codemirror_mode": {
    "name": "ipython",
    "version": 3
   },
   "file_extension": ".py",
   "mimetype": "text/x-python",
   "name": "python",
   "nbconvert_exporter": "python",
   "pygments_lexer": "ipython3",
   "version": "3.10.13"
  }
 },
 "nbformat": 4,
 "nbformat_minor": 5
}
